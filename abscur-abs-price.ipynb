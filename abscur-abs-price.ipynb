{
 "cells": [
  {
   "cell_type": "markdown",
   "id": "22c50761",
   "metadata": {
    "papermill": {
     "duration": 0.006835,
     "end_time": "2022-01-17T03:39:07.016179",
     "exception": false,
     "start_time": "2022-01-17T03:39:07.009344",
     "status": "completed"
    },
    "tags": []
   },
   "source": [
    "# Расчет стоимости Абса"
   ]
  },
  {
   "cell_type": "markdown",
   "id": "2e97fce6",
   "metadata": {
    "papermill": {
     "duration": 0.005711,
     "end_time": "2022-01-17T03:39:07.028373",
     "exception": false,
     "start_time": "2022-01-17T03:39:07.022662",
     "status": "completed"
    },
    "tags": []
   },
   "source": [
    "Проект:\t**Абсолютный курс**\n",
    "\t\n",
    "сайт\thttp://www.abscur.ru\n",
    "\n",
    "ВКонтакте\thttps://vk.com/abscur\n",
    "\n",
    "FaceBook\thttps://www.facebook.com/abscur\n",
    "\n",
    "WhatsUp\thttps://chat.whatsapp.com/KrNJXAKizPxDlDSjYfdpQs\n",
    "\n",
    "Viber\thttps://invite.viber.com/?g2=AQB63y7Cm%2BNJK0tNZW%2F9kI00M6Wr8HuZ7XeamzN4jZCve8Aq9%2FiD3DY56Eqcf7dc\n",
    "\n",
    "Telegram\thttps://t.me/AbsCur\n",
    "\n",
    "Одноклассники\thttps://ok.ru/group/53547043520717\n",
    "\n",
    "Twitter\thttps://twitter.com/abscurs\n",
    "\n",
    "GitHub\thttps://github.com/prog815/abscur\n",
    "\n",
    "YouTube\thttps://www.youtube.com/playlist?list=PLG1V24vhSKo6MamGtgm2oTkDZHeHBHNFW"
   ]
  },
  {
   "cell_type": "markdown",
   "id": "70296f48",
   "metadata": {
    "papermill": {
     "duration": 0.005775,
     "end_time": "2022-01-17T03:39:07.040189",
     "exception": false,
     "start_time": "2022-01-17T03:39:07.034414",
     "status": "completed"
    },
    "tags": []
   },
   "source": [
    "# Загрузка библиотек"
   ]
  },
  {
   "cell_type": "code",
   "execution_count": 1,
   "id": "d13a04ee",
   "metadata": {
    "_cell_guid": "b1076dfc-b9ad-4769-8c92-a6c4dae69d19",
    "_uuid": "8f2839f25d086af736a60e9eeb907d3b93b6e0e5",
    "execution": {
     "iopub.execute_input": "2022-01-17T03:39:07.056633Z",
     "iopub.status.busy": "2022-01-17T03:39:07.055341Z",
     "iopub.status.idle": "2022-01-17T03:39:07.069242Z",
     "shell.execute_reply": "2022-01-17T03:39:07.069662Z",
     "shell.execute_reply.started": "2022-01-14T18:21:52.286138Z"
    },
    "papermill": {
     "duration": 0.023696,
     "end_time": "2022-01-17T03:39:07.069882",
     "exception": false,
     "start_time": "2022-01-17T03:39:07.046186",
     "status": "completed"
    },
    "tags": []
   },
   "outputs": [],
   "source": [
    "import pandas as pd\n",
    "import numpy as np\n",
    "import lib_abscur_post\n",
    "from datetime import date"
   ]
  },
  {
   "cell_type": "markdown",
   "id": "d026b57f",
   "metadata": {
    "papermill": {
     "duration": 0.00594,
     "end_time": "2022-01-17T03:39:07.082360",
     "exception": false,
     "start_time": "2022-01-17T03:39:07.076420",
     "status": "completed"
    },
    "tags": []
   },
   "source": [
    "# Стоимость Абса в выражении различных валют"
   ]
  },
  {
   "cell_type": "code",
   "execution_count": 2,
   "id": "07abb1d9",
   "metadata": {
    "execution": {
     "iopub.execute_input": "2022-01-17T03:39:07.096955Z",
     "iopub.status.busy": "2022-01-17T03:39:07.096316Z",
     "iopub.status.idle": "2022-01-17T03:39:07.136615Z",
     "shell.execute_reply": "2022-01-17T03:39:07.136203Z",
     "shell.execute_reply.started": "2022-01-14T18:14:34.420809Z"
    },
    "papermill": {
     "duration": 0.048377,
     "end_time": "2022-01-17T03:39:07.136718",
     "exception": false,
     "start_time": "2022-01-17T03:39:07.088341",
     "status": "completed"
    },
    "tags": []
   },
   "outputs": [
    {
     "data": {
      "text/html": [
       "<div>\n",
       "<style scoped>\n",
       "    .dataframe tbody tr th:only-of-type {\n",
       "        vertical-align: middle;\n",
       "    }\n",
       "\n",
       "    .dataframe tbody tr th {\n",
       "        vertical-align: top;\n",
       "    }\n",
       "\n",
       "    .dataframe thead th {\n",
       "        text-align: right;\n",
       "    }\n",
       "</style>\n",
       "<table border=\"1\" class=\"dataframe\">\n",
       "  <thead>\n",
       "    <tr style=\"text-align: right;\">\n",
       "      <th></th>\n",
       "      <th>курс на 2022-01-16</th>\n",
       "    </tr>\n",
       "  </thead>\n",
       "  <tbody>\n",
       "    <tr>\n",
       "      <th>VND</th>\n",
       "      <td>1215.362092</td>\n",
       "    </tr>\n",
       "    <tr>\n",
       "      <th>IDR</th>\n",
       "      <td>765.622456</td>\n",
       "    </tr>\n",
       "    <tr>\n",
       "      <th>COP</th>\n",
       "      <td>212.230764</td>\n",
       "    </tr>\n",
       "    <tr>\n",
       "      <th>KRW</th>\n",
       "      <td>63.508931</td>\n",
       "    </tr>\n",
       "    <tr>\n",
       "      <th>CLP</th>\n",
       "      <td>43.673396</td>\n",
       "    </tr>\n",
       "    <tr>\n",
       "      <th>KZT</th>\n",
       "      <td>23.294084</td>\n",
       "    </tr>\n",
       "    <tr>\n",
       "      <th>HUF</th>\n",
       "      <td>16.558050</td>\n",
       "    </tr>\n",
       "    <tr>\n",
       "      <th>PKR</th>\n",
       "      <td>9.436343</td>\n",
       "    </tr>\n",
       "    <tr>\n",
       "      <th>ISK</th>\n",
       "      <td>6.860362</td>\n",
       "    </tr>\n",
       "    <tr>\n",
       "      <th>JPY</th>\n",
       "      <td>6.107393</td>\n",
       "    </tr>\n",
       "    <tr>\n",
       "      <th>ARS</th>\n",
       "      <td>5.553302</td>\n",
       "    </tr>\n",
       "    <tr>\n",
       "      <th>RUB</th>\n",
       "      <td>4.084391</td>\n",
       "    </tr>\n",
       "    <tr>\n",
       "      <th>INR</th>\n",
       "      <td>3.968659</td>\n",
       "    </tr>\n",
       "    <tr>\n",
       "      <th>PHP</th>\n",
       "      <td>2.746179</td>\n",
       "    </tr>\n",
       "    <tr>\n",
       "      <th>THB</th>\n",
       "      <td>1.776908</td>\n",
       "    </tr>\n",
       "    <tr>\n",
       "      <th>UAH</th>\n",
       "      <td>1.483611</td>\n",
       "    </tr>\n",
       "    <tr>\n",
       "      <th>TWD</th>\n",
       "      <td>1.475369</td>\n",
       "    </tr>\n",
       "    <tr>\n",
       "      <th>CZK</th>\n",
       "      <td>1.144894</td>\n",
       "    </tr>\n",
       "    <tr>\n",
       "      <th>MXN</th>\n",
       "      <td>1.088285</td>\n",
       "    </tr>\n",
       "    <tr>\n",
       "      <th>EGP</th>\n",
       "      <td>0.837073</td>\n",
       "    </tr>\n",
       "    <tr>\n",
       "      <th>ZAR</th>\n",
       "      <td>0.823525</td>\n",
       "    </tr>\n",
       "    <tr>\n",
       "      <th>TRY</th>\n",
       "      <td>0.726964</td>\n",
       "    </tr>\n",
       "    <tr>\n",
       "      <th>SEK</th>\n",
       "      <td>0.477781</td>\n",
       "    </tr>\n",
       "    <tr>\n",
       "      <th>NOK</th>\n",
       "      <td>0.465896</td>\n",
       "    </tr>\n",
       "    <tr>\n",
       "      <th>HKD</th>\n",
       "      <td>0.416772</td>\n",
       "    </tr>\n",
       "    <tr>\n",
       "      <th>DKK</th>\n",
       "      <td>0.347639</td>\n",
       "    </tr>\n",
       "    <tr>\n",
       "      <th>CNY</th>\n",
       "      <td>0.339935</td>\n",
       "    </tr>\n",
       "    <tr>\n",
       "      <th>BRL</th>\n",
       "      <td>0.295796</td>\n",
       "    </tr>\n",
       "    <tr>\n",
       "      <th>RON</th>\n",
       "      <td>0.230661</td>\n",
       "    </tr>\n",
       "    <tr>\n",
       "      <th>MYR</th>\n",
       "      <td>0.223452</td>\n",
       "    </tr>\n",
       "    <tr>\n",
       "      <th>PLN</th>\n",
       "      <td>0.211880</td>\n",
       "    </tr>\n",
       "    <tr>\n",
       "      <th>PEN</th>\n",
       "      <td>0.207111</td>\n",
       "    </tr>\n",
       "    <tr>\n",
       "      <th>SAR</th>\n",
       "      <td>0.200833</td>\n",
       "    </tr>\n",
       "    <tr>\n",
       "      <th>AED</th>\n",
       "      <td>0.196578</td>\n",
       "    </tr>\n",
       "    <tr>\n",
       "      <th>QAR</th>\n",
       "      <td>0.194818</td>\n",
       "    </tr>\n",
       "    <tr>\n",
       "      <th>ILS</th>\n",
       "      <td>0.166466</td>\n",
       "    </tr>\n",
       "    <tr>\n",
       "      <th>NZD</th>\n",
       "      <td>0.078004</td>\n",
       "    </tr>\n",
       "    <tr>\n",
       "      <th>AUD</th>\n",
       "      <td>0.073499</td>\n",
       "    </tr>\n",
       "    <tr>\n",
       "      <th>SGD</th>\n",
       "      <td>0.072042</td>\n",
       "    </tr>\n",
       "    <tr>\n",
       "      <th>CAD</th>\n",
       "      <td>0.066933</td>\n",
       "    </tr>\n",
       "    <tr>\n",
       "      <th>USD</th>\n",
       "      <td>0.053521</td>\n",
       "    </tr>\n",
       "    <tr>\n",
       "      <th>CHF</th>\n",
       "      <td>0.048760</td>\n",
       "    </tr>\n",
       "    <tr>\n",
       "      <th>EUR</th>\n",
       "      <td>0.046717</td>\n",
       "    </tr>\n",
       "    <tr>\n",
       "      <th>GBP</th>\n",
       "      <td>0.039030</td>\n",
       "    </tr>\n",
       "    <tr>\n",
       "      <th>KWD</th>\n",
       "      <td>0.016142</td>\n",
       "    </tr>\n",
       "  </tbody>\n",
       "</table>\n",
       "</div>"
      ],
      "text/plain": [
       "     курс на 2022-01-16\n",
       "VND         1215.362092\n",
       "IDR          765.622456\n",
       "COP          212.230764\n",
       "KRW           63.508931\n",
       "CLP           43.673396\n",
       "KZT           23.294084\n",
       "HUF           16.558050\n",
       "PKR            9.436343\n",
       "ISK            6.860362\n",
       "JPY            6.107393\n",
       "ARS            5.553302\n",
       "RUB            4.084391\n",
       "INR            3.968659\n",
       "PHP            2.746179\n",
       "THB            1.776908\n",
       "UAH            1.483611\n",
       "TWD            1.475369\n",
       "CZK            1.144894\n",
       "MXN            1.088285\n",
       "EGP            0.837073\n",
       "ZAR            0.823525\n",
       "TRY            0.726964\n",
       "SEK            0.477781\n",
       "NOK            0.465896\n",
       "HKD            0.416772\n",
       "DKK            0.347639\n",
       "CNY            0.339935\n",
       "BRL            0.295796\n",
       "RON            0.230661\n",
       "MYR            0.223452\n",
       "PLN            0.211880\n",
       "PEN            0.207111\n",
       "SAR            0.200833\n",
       "AED            0.196578\n",
       "QAR            0.194818\n",
       "ILS            0.166466\n",
       "NZD            0.078004\n",
       "AUD            0.073499\n",
       "SGD            0.072042\n",
       "CAD            0.066933\n",
       "USD            0.053521\n",
       "CHF            0.048760\n",
       "EUR            0.046717\n",
       "GBP            0.039030\n",
       "KWD            0.016142"
      ]
     },
     "execution_count": 2,
     "metadata": {},
     "output_type": "execute_result"
    }
   ],
   "source": [
    "data = (1/pd.read_csv('../input/abscur-last/abscur_last.csv',index_col=0).iloc[:,0]).sort_values(ascending=False)\n",
    "pd.DataFrame(data)"
   ]
  },
  {
   "cell_type": "code",
   "execution_count": 3,
   "id": "8f7e8452",
   "metadata": {
    "execution": {
     "iopub.execute_input": "2022-01-17T03:39:07.151993Z",
     "iopub.status.busy": "2022-01-17T03:39:07.151530Z",
     "iopub.status.idle": "2022-01-17T03:39:08.344690Z",
     "shell.execute_reply": "2022-01-17T03:39:08.345069Z",
     "shell.execute_reply.started": "2022-01-14T18:14:38.757663Z"
    },
    "papermill": {
     "duration": 1.201812,
     "end_time": "2022-01-17T03:39:08.345198",
     "exception": false,
     "start_time": "2022-01-17T03:39:07.143386",
     "status": "completed"
    },
    "tags": []
   },
   "outputs": [
    {
     "data": {
      "image/png": "[encoded data removed]",
      "text/plain": [
       "<Figure size 1080x360 with 1 Axes>"
      ]
     },
     "metadata": {
      "needs_background": "light"
     },
     "output_type": "display_data"
    }
   ],
   "source": [
    "_=data.plot.bar(figsize=(15,5),grid=True,title='Стоимость Абса в выражении различных валют (на логарифмической шкале)',logy=True)"
   ]
  },
  {
   "cell_type": "markdown",
   "id": "7567b9fa",
   "metadata": {
    "papermill": {
     "duration": 0.007053,
     "end_time": "2022-01-17T03:39:08.359648",
     "exception": false,
     "start_time": "2022-01-17T03:39:08.352595",
     "status": "completed"
    },
    "tags": []
   },
   "source": [
    "# Публикация по каналам проекта"
   ]
  },
  {
   "cell_type": "code",
   "execution_count": 4,
   "id": "8f053906",
   "metadata": {
    "execution": {
     "iopub.execute_input": "2022-01-17T03:39:08.382841Z",
     "iopub.status.busy": "2022-01-17T03:39:08.382124Z",
     "iopub.status.idle": "2022-01-17T03:39:08.385602Z",
     "shell.execute_reply": "2022-01-17T03:39:08.385196Z",
     "shell.execute_reply.started": "2022-01-14T18:18:31.21903Z"
    },
    "papermill": {
     "duration": 0.018983,
     "end_time": "2022-01-17T03:39:08.385700",
     "exception": false,
     "start_time": "2022-01-17T03:39:08.366717",
     "status": "completed"
    },
    "tags": []
   },
   "outputs": [
    {
     "name": "stdout",
     "output_type": "stream",
     "text": [
      "Стоимость Абса в выражении различных валют (курс на 2022-01-16)\n",
      "\n",
      "1 Abs = 1215.36 VND, 1 Abs = 765.62 IDR, 1 Abs = 212.23 COP, 1 Abs = 63.51 KRW, 1 Abs = 43.67 CLP, 1 Abs = 23.29 KZT, 1 Abs = 16.56 HUF, 1 Abs = 9.44 PKR, 1 Abs = 6.86 ISK, 1 Abs = 6.11 JPY, 1 Abs = 5.55 ARS, 1 Abs = 4.08 RUB, 1 Abs = 3.97 INR, 1 Abs = 2.75 PHP, 1 Abs = 1.78 THB, 1 Abs = 1.48 UAH, 1 Abs = 1.48 TWD, 1 Abs = 1.14 CZK, 1 Abs = 1.09 MXN, 1 Abs = 0.84 EGP, 1 Abs = 0.82 ZAR, 1 Abs = 0.73 TRY, 1 Abs = 0.48 SEK, 1 Abs = 0.47 NOK, 1 Abs = 0.42 HKD, 1 Abs = 0.35 DKK, 1 Abs = 0.34 CNY, 1 Abs = 0.3 BRL, 1 Abs = 0.23 RON, 1 Abs = 0.22 MYR, 1 Abs = 0.21 PLN, 1 Abs = 0.21 PEN, 1 Abs = 0.2 SAR, 1 Abs = 0.2 AED, 1 Abs = 0.19 QAR, 1 Abs = 0.17 ILS, 1 Abs = 0.08 NZD, 1 Abs = 0.07 AUD, 1 Abs = 0.07 SGD, 1 Abs = 0.07 CAD, 1 Abs = 0.05 USD, 1 Abs = 0.05 CHF, 1 Abs = 0.05 EUR, 1 Abs = 0.04 GBP, 1 Abs = 0.02 KWD\n",
      "\n",
      "https://www.kaggle.com/eavprog/abscur-abs-price\n"
     ]
    }
   ],
   "source": [
    "title = 'Стоимость Абса в выражении различных валют (' + data.name + ')'\n",
    "message = ', '.join(['1 Abs = ' + str(np.round(pr,2)) + ' ' + cur for cur,pr in data.reset_index().values])\n",
    "link = 'https://www.kaggle.com/eavprog/abscur-abs-price'\n",
    "print(title + '\\n\\n' + message + '\\n\\n' + link)"
   ]
  },
  {
   "cell_type": "code",
   "execution_count": 5,
   "id": "76a39138",
   "metadata": {
    "execution": {
     "iopub.execute_input": "2022-01-17T03:39:08.405430Z",
     "iopub.status.busy": "2022-01-17T03:39:08.403824Z",
     "iopub.status.idle": "2022-01-17T03:39:08.407669Z",
     "shell.execute_reply": "2022-01-17T03:39:08.408042Z",
     "shell.execute_reply.started": "2022-01-14T18:27:40.393638Z"
    },
    "papermill": {
     "duration": 0.014878,
     "end_time": "2022-01-17T03:39:08.408186",
     "exception": false,
     "start_time": "2022-01-17T03:39:08.393308",
     "status": "completed"
    },
    "tags": []
   },
   "outputs": [],
   "source": [
    "if(date.today().toordinal() % 3 == 2):\n",
    "    lib_abscur_post.postToChanels(title, message, link)"
   ]
  }
 ],
 "metadata": {
  "kernelspec": {
   "display_name": "Python 3",
   "language": "python",
   "name": "python3"
  },
  "language_info": {
   "codemirror_mode": {
    "name": "ipython",
    "version": 3
   },
   "file_extension": ".py",
   "mimetype": "text/x-python",
   "name": "python",
   "nbconvert_exporter": "python",
   "pygments_lexer": "ipython3",
   "version": "3.7.12"
  },
  "papermill": {
   "default_parameters": {},
   "duration": 9.446485,
   "end_time": "2022-01-17T03:39:09.024592",
   "environment_variables": {},
   "exception": null,
   "input_path": "__notebook__.ipynb",
   "output_path": "__notebook__.ipynb",
   "parameters": {},
   "start_time": "2022-01-17T03:38:59.578107",
   "version": "2.3.3"
  }
 },
 "nbformat": 4,
 "nbformat_minor": 5
}
