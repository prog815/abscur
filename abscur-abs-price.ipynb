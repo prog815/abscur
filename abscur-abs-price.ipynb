{
 "cells": [
  {
   "cell_type": "markdown",
   "id": "8eff7e03",
   "metadata": {
    "papermill": {
     "duration": 0.008662,
     "end_time": "2022-02-25T02:56:01.951605",
     "exception": false,
     "start_time": "2022-02-25T02:56:01.942943",
     "status": "completed"
    },
    "tags": []
   },
   "source": [
    "# Расчет стоимости Абса"
   ]
  },
  {
   "cell_type": "markdown",
   "id": "17dc084a",
   "metadata": {
    "papermill": {
     "duration": 0.00741,
     "end_time": "2022-02-25T02:56:01.967133",
     "exception": false,
     "start_time": "2022-02-25T02:56:01.959723",
     "status": "completed"
    },
    "tags": []
   },
   "source": [
    "Проект:\t**Абсолютный курс**\n",
    "\t\n",
    "сайт\thttp://www.abscur.ru\n",
    "\n",
    "ВКонтакте\thttps://vk.com/abscur\n",
    "\n",
    "FaceBook\thttps://www.facebook.com/abscur\n",
    "\n",
    "WhatsUp\thttps://chat.whatsapp.com/KrNJXAKizPxDlDSjYfdpQs\n",
    "\n",
    "Viber\thttps://invite.viber.com/?g2=AQB63y7Cm%2BNJK0tNZW%2F9kI00M6Wr8HuZ7XeamzN4jZCve8Aq9%2FiD3DY56Eqcf7dc\n",
    "\n",
    "Telegram\thttps://t.me/AbsCur\n",
    "\n",
    "Одноклассники\thttps://ok.ru/group/53547043520717\n",
    "\n",
    "Twitter\thttps://twitter.com/abscurs\n",
    "\n",
    "GitHub\thttps://github.com/prog815/abscur\n",
    "\n",
    "YouTube\thttps://www.youtube.com/playlist?list=PLG1V24vhSKo6MamGtgm2oTkDZHeHBHNFW"
   ]
  },
  {
   "cell_type": "markdown",
   "id": "32e9f22c",
   "metadata": {
    "papermill": {
     "duration": 0.007563,
     "end_time": "2022-02-25T02:56:01.982515",
     "exception": false,
     "start_time": "2022-02-25T02:56:01.974952",
     "status": "completed"
    },
    "tags": []
   },
   "source": [
    "# Загрузка библиотек"
   ]
  },
  {
   "cell_type": "code",
   "execution_count": 1,
   "id": "a21d6cee",
   "metadata": {
    "_cell_guid": "b1076dfc-b9ad-4769-8c92-a6c4dae69d19",
    "_uuid": "8f2839f25d086af736a60e9eeb907d3b93b6e0e5",
    "execution": {
     "iopub.execute_input": "2022-02-25T02:56:02.002980Z",
     "iopub.status.busy": "2022-02-25T02:56:02.001718Z",
     "iopub.status.idle": "2022-02-25T02:56:02.026683Z",
     "shell.execute_reply": "2022-02-25T02:56:02.027213Z",
     "shell.execute_reply.started": "2022-02-22T15:57:12.234795Z"
    },
    "papermill": {
     "duration": 0.037017,
     "end_time": "2022-02-25T02:56:02.027533",
     "exception": false,
     "start_time": "2022-02-25T02:56:01.990516",
     "status": "completed"
    },
    "tags": []
   },
   "outputs": [],
   "source": [
    "import pandas as pd\n",
    "import numpy as np\n",
    "import lib_abscur_post\n",
    "from datetime import date\n",
    "import matplotlib.pyplot as plt"
   ]
  },
  {
   "cell_type": "markdown",
   "id": "f0b5c2c8",
   "metadata": {
    "papermill": {
     "duration": 0.007542,
     "end_time": "2022-02-25T02:56:02.042976",
     "exception": false,
     "start_time": "2022-02-25T02:56:02.035434",
     "status": "completed"
    },
    "tags": []
   },
   "source": [
    "# Стоимость Абса в выражении различных валют"
   ]
  },
  {
   "cell_type": "code",
   "execution_count": 2,
   "id": "fa385f0f",
   "metadata": {
    "execution": {
     "iopub.execute_input": "2022-02-25T02:56:02.061429Z",
     "iopub.status.busy": "2022-02-25T02:56:02.060818Z",
     "iopub.status.idle": "2022-02-25T02:56:02.107602Z",
     "shell.execute_reply": "2022-02-25T02:56:02.107058Z",
     "shell.execute_reply.started": "2022-02-22T15:57:17.268819Z"
    },
    "papermill": {
     "duration": 0.057052,
     "end_time": "2022-02-25T02:56:02.107748",
     "exception": false,
     "start_time": "2022-02-25T02:56:02.050696",
     "status": "completed"
    },
    "tags": []
   },
   "outputs": [
    {
     "data": {
      "text/html": [
       "<div>\n",
       "<style scoped>\n",
       "    .dataframe tbody tr th:only-of-type {\n",
       "        vertical-align: middle;\n",
       "    }\n",
       "\n",
       "    .dataframe tbody tr th {\n",
       "        vertical-align: top;\n",
       "    }\n",
       "\n",
       "    .dataframe thead th {\n",
       "        text-align: right;\n",
       "    }\n",
       "</style>\n",
       "<table border=\"1\" class=\"dataframe\">\n",
       "  <thead>\n",
       "    <tr style=\"text-align: right;\">\n",
       "      <th></th>\n",
       "      <th>курс на 2022-02-24</th>\n",
       "    </tr>\n",
       "  </thead>\n",
       "  <tbody>\n",
       "    <tr>\n",
       "      <th>VND</th>\n",
       "      <td>1215.766308</td>\n",
       "    </tr>\n",
       "    <tr>\n",
       "      <th>IDR</th>\n",
       "      <td>765.147120</td>\n",
       "    </tr>\n",
       "    <tr>\n",
       "      <th>COP</th>\n",
       "      <td>208.322960</td>\n",
       "    </tr>\n",
       "    <tr>\n",
       "      <th>KRW</th>\n",
       "      <td>63.512805</td>\n",
       "    </tr>\n",
       "    <tr>\n",
       "      <th>CLP</th>\n",
       "      <td>42.115316</td>\n",
       "    </tr>\n",
       "    <tr>\n",
       "      <th>KZT</th>\n",
       "      <td>23.173237</td>\n",
       "    </tr>\n",
       "    <tr>\n",
       "      <th>HUF</th>\n",
       "      <td>17.019130</td>\n",
       "    </tr>\n",
       "    <tr>\n",
       "      <th>PKR</th>\n",
       "      <td>9.374584</td>\n",
       "    </tr>\n",
       "    <tr>\n",
       "      <th>ISK</th>\n",
       "      <td>6.635714</td>\n",
       "    </tr>\n",
       "    <tr>\n",
       "      <th>JPY</th>\n",
       "      <td>6.120725</td>\n",
       "    </tr>\n",
       "    <tr>\n",
       "      <th>ARS</th>\n",
       "      <td>5.713786</td>\n",
       "    </tr>\n",
       "    <tr>\n",
       "      <th>RUB</th>\n",
       "      <td>4.331899</td>\n",
       "    </tr>\n",
       "    <tr>\n",
       "      <th>INR</th>\n",
       "      <td>3.975303</td>\n",
       "    </tr>\n",
       "    <tr>\n",
       "      <th>PHP</th>\n",
       "      <td>2.722890</td>\n",
       "    </tr>\n",
       "    <tr>\n",
       "      <th>THB</th>\n",
       "      <td>1.718904</td>\n",
       "    </tr>\n",
       "    <tr>\n",
       "      <th>UAH</th>\n",
       "      <td>1.549883</td>\n",
       "    </tr>\n",
       "    <tr>\n",
       "      <th>TWD</th>\n",
       "      <td>1.484630</td>\n",
       "    </tr>\n",
       "    <tr>\n",
       "      <th>CZK</th>\n",
       "      <td>1.158019</td>\n",
       "    </tr>\n",
       "    <tr>\n",
       "      <th>MXN</th>\n",
       "      <td>1.077635</td>\n",
       "    </tr>\n",
       "    <tr>\n",
       "      <th>EGP</th>\n",
       "      <td>0.835718</td>\n",
       "    </tr>\n",
       "    <tr>\n",
       "      <th>ZAR</th>\n",
       "      <td>0.803991</td>\n",
       "    </tr>\n",
       "    <tr>\n",
       "      <th>TRY</th>\n",
       "      <td>0.736145</td>\n",
       "    </tr>\n",
       "    <tr>\n",
       "      <th>SEK</th>\n",
       "      <td>0.500036</td>\n",
       "    </tr>\n",
       "    <tr>\n",
       "      <th>NOK</th>\n",
       "      <td>0.473640</td>\n",
       "    </tr>\n",
       "    <tr>\n",
       "      <th>HKD</th>\n",
       "      <td>0.415735</td>\n",
       "    </tr>\n",
       "    <tr>\n",
       "      <th>DKK</th>\n",
       "      <td>0.350488</td>\n",
       "    </tr>\n",
       "    <tr>\n",
       "      <th>CNY</th>\n",
       "      <td>0.336083</td>\n",
       "    </tr>\n",
       "    <tr>\n",
       "      <th>BRL</th>\n",
       "      <td>0.266787</td>\n",
       "    </tr>\n",
       "    <tr>\n",
       "      <th>RON</th>\n",
       "      <td>0.232799</td>\n",
       "    </tr>\n",
       "    <tr>\n",
       "      <th>MYR</th>\n",
       "      <td>0.222859</td>\n",
       "    </tr>\n",
       "    <tr>\n",
       "      <th>PLN</th>\n",
       "      <td>0.216042</td>\n",
       "    </tr>\n",
       "    <tr>\n",
       "      <th>SAR</th>\n",
       "      <td>0.199601</td>\n",
       "    </tr>\n",
       "    <tr>\n",
       "      <th>PEN</th>\n",
       "      <td>0.198677</td>\n",
       "    </tr>\n",
       "    <tr>\n",
       "      <th>AED</th>\n",
       "      <td>0.195593</td>\n",
       "    </tr>\n",
       "    <tr>\n",
       "      <th>QAR</th>\n",
       "      <td>0.193857</td>\n",
       "    </tr>\n",
       "    <tr>\n",
       "      <th>ILS</th>\n",
       "      <td>0.172206</td>\n",
       "    </tr>\n",
       "    <tr>\n",
       "      <th>NZD</th>\n",
       "      <td>0.078669</td>\n",
       "    </tr>\n",
       "    <tr>\n",
       "      <th>AUD</th>\n",
       "      <td>0.073693</td>\n",
       "    </tr>\n",
       "    <tr>\n",
       "      <th>SGD</th>\n",
       "      <td>0.071682</td>\n",
       "    </tr>\n",
       "    <tr>\n",
       "      <th>CAD</th>\n",
       "      <td>0.067848</td>\n",
       "    </tr>\n",
       "    <tr>\n",
       "      <th>USD</th>\n",
       "      <td>0.053265</td>\n",
       "    </tr>\n",
       "    <tr>\n",
       "      <th>CHF</th>\n",
       "      <td>0.048870</td>\n",
       "    </tr>\n",
       "    <tr>\n",
       "      <th>EUR</th>\n",
       "      <td>0.047121</td>\n",
       "    </tr>\n",
       "    <tr>\n",
       "      <th>GBP</th>\n",
       "      <td>0.039321</td>\n",
       "    </tr>\n",
       "    <tr>\n",
       "      <th>KWD</th>\n",
       "      <td>0.016083</td>\n",
       "    </tr>\n",
       "  </tbody>\n",
       "</table>\n",
       "</div>"
      ],
      "text/plain": [
       "     курс на 2022-02-24\n",
       "VND         1215.766308\n",
       "IDR          765.147120\n",
       "COP          208.322960\n",
       "KRW           63.512805\n",
       "CLP           42.115316\n",
       "KZT           23.173237\n",
       "HUF           17.019130\n",
       "PKR            9.374584\n",
       "ISK            6.635714\n",
       "JPY            6.120725\n",
       "ARS            5.713786\n",
       "RUB            4.331899\n",
       "INR            3.975303\n",
       "PHP            2.722890\n",
       "THB            1.718904\n",
       "UAH            1.549883\n",
       "TWD            1.484630\n",
       "CZK            1.158019\n",
       "MXN            1.077635\n",
       "EGP            0.835718\n",
       "ZAR            0.803991\n",
       "TRY            0.736145\n",
       "SEK            0.500036\n",
       "NOK            0.473640\n",
       "HKD            0.415735\n",
       "DKK            0.350488\n",
       "CNY            0.336083\n",
       "BRL            0.266787\n",
       "RON            0.232799\n",
       "MYR            0.222859\n",
       "PLN            0.216042\n",
       "SAR            0.199601\n",
       "PEN            0.198677\n",
       "AED            0.195593\n",
       "QAR            0.193857\n",
       "ILS            0.172206\n",
       "NZD            0.078669\n",
       "AUD            0.073693\n",
       "SGD            0.071682\n",
       "CAD            0.067848\n",
       "USD            0.053265\n",
       "CHF            0.048870\n",
       "EUR            0.047121\n",
       "GBP            0.039321\n",
       "KWD            0.016083"
      ]
     },
     "execution_count": 2,
     "metadata": {},
     "output_type": "execute_result"
    }
   ],
   "source": [
    "data = (1/pd.read_csv('../input/abscur-last/abscur_last.csv',index_col=0).iloc[:,0]).sort_values(ascending=False)\n",
    "pd.DataFrame(data)"
   ]
  },
  {
   "cell_type": "code",
   "execution_count": 3,
   "id": "ca1e0023",
   "metadata": {
    "execution": {
     "iopub.execute_input": "2022-02-25T02:56:02.128309Z",
     "iopub.status.busy": "2022-02-25T02:56:02.127673Z",
     "iopub.status.idle": "2022-02-25T02:56:04.485593Z",
     "shell.execute_reply": "2022-02-25T02:56:04.486091Z",
     "shell.execute_reply.started": "2022-02-22T16:09:40.233246Z"
    },
    "papermill": {
     "duration": 2.369437,
     "end_time": "2022-02-25T02:56:04.486273",
     "exception": false,
     "start_time": "2022-02-25T02:56:02.116836",
     "status": "completed"
    },
    "tags": []
   },
   "outputs": [
    {
     "data": {
      "image/png": "[encoded data removed]",
      "text/plain": [
       "<Figure size 1080x720 with 1 Axes>"
      ]
     },
     "metadata": {
      "needs_background": "light"
     },
     "output_type": "display_data"
    },
    {
     "data": {
      "text/plain": [
       "'https://i.ibb.co/Msp6Shk/2b885f3e29d1.png'"
      ]
     },
     "execution_count": 3,
     "metadata": {},
     "output_type": "execute_result"
    }
   ],
   "source": [
    "data.plot.bar(figsize=(15,10),grid=True,title='Стоимость Абса в выражении различных валют (на логарифмической шкале)',logy=True)\n",
    "plt.savefig('abs.png',facecolor=\"white\")\n",
    "plt.show()\n",
    "img_path = lib_abscur_post.post_to_imgbb('abs.png')\n",
    "img_path"
   ]
  },
  {
   "cell_type": "markdown",
   "id": "87b95a43",
   "metadata": {
    "papermill": {
     "duration": 0.009959,
     "end_time": "2022-02-25T02:56:04.506557",
     "exception": false,
     "start_time": "2022-02-25T02:56:04.496598",
     "status": "completed"
    },
    "tags": []
   },
   "source": [
    "# Публикация по каналам проекта"
   ]
  },
  {
   "cell_type": "code",
   "execution_count": 4,
   "id": "65d44d4c",
   "metadata": {
    "execution": {
     "iopub.execute_input": "2022-02-25T02:56:04.530210Z",
     "iopub.status.busy": "2022-02-25T02:56:04.529569Z",
     "iopub.status.idle": "2022-02-25T02:56:04.537969Z",
     "shell.execute_reply": "2022-02-25T02:56:04.538420Z",
     "shell.execute_reply.started": "2022-02-22T16:11:23.502349Z"
    },
    "papermill": {
     "duration": 0.021867,
     "end_time": "2022-02-25T02:56:04.538593",
     "exception": false,
     "start_time": "2022-02-25T02:56:04.516726",
     "status": "completed"
    },
    "tags": []
   },
   "outputs": [
    {
     "name": "stdout",
     "output_type": "stream",
     "text": [
      "Стоимость Абса в выражении различных валют (курс на 2022-02-24)\n",
      "\n",
      "1 Abs = 1215.77 VND, 1 Abs = 765.15 IDR, 1 Abs = 208.32 COP, 1 Abs = 63.51 KRW, 1 Abs = 42.12 CLP, 1 Abs = 23.17 KZT, 1 Abs = 17.02 HUF, 1 Abs = 9.37 PKR, 1 Abs = 6.64 ISK, 1 Abs = 6.12 JPY, 1 Abs = 5.71 ARS, 1 Abs = 4.33 RUB, 1 Abs = 3.98 INR, 1 Abs = 2.72 PHP, 1 Abs = 1.72 THB, 1 Abs = 1.55 UAH, 1 Abs = 1.48 TWD, 1 Abs = 1.16 CZK, 1 Abs = 1.08 MXN, 1 Abs = 0.84 EGP, 1 Abs = 0.8 ZAR, 1 Abs = 0.74 TRY, 1 Abs = 0.5 SEK, 1 Abs = 0.47 NOK, 1 Abs = 0.42 HKD, 1 Abs = 0.35 DKK, 1 Abs = 0.34 CNY, 1 Abs = 0.27 BRL, 1 Abs = 0.23 RON, 1 Abs = 0.22 MYR, 1 Abs = 0.22 PLN, 1 Abs = 0.2 SAR, 1 Abs = 0.2 PEN, 1 Abs = 0.2 AED, 1 Abs = 0.19 QAR, 1 Abs = 0.17 ILS, 1 Abs = 0.08 NZD, 1 Abs = 0.07 AUD, 1 Abs = 0.07 SGD, 1 Abs = 0.07 CAD, 1 Abs = 0.05 USD, 1 Abs = 0.05 CHF, 1 Abs = 0.05 EUR, 1 Abs = 0.04 GBP, 1 Abs = 0.02 KWD\n",
      "\n",
      "https://www.kaggle.com/eavprog/abscur-abs-price\n"
     ]
    }
   ],
   "source": [
    "title = 'Стоимость Абса в выражении различных валют (' + data.name + ')'\n",
    "message = ', '.join(['1 Abs = ' + str(np.round(pr,2)) + ' ' + cur for cur,pr in data.reset_index().values])\n",
    "link = 'https://www.kaggle.com/eavprog/abscur-abs-price'\n",
    "print(title + '\\n\\n' + message + '\\n\\n' + link)"
   ]
  },
  {
   "cell_type": "code",
   "execution_count": 5,
   "id": "1aaa4dff",
   "metadata": {
    "execution": {
     "iopub.execute_input": "2022-02-25T02:56:04.564634Z",
     "iopub.status.busy": "2022-02-25T02:56:04.563803Z",
     "iopub.status.idle": "2022-02-25T02:56:04.566170Z",
     "shell.execute_reply": "2022-02-25T02:56:04.566649Z",
     "shell.execute_reply.started": "2022-02-22T16:11:35.034163Z"
    },
    "papermill": {
     "duration": 0.017909,
     "end_time": "2022-02-25T02:56:04.566817",
     "exception": false,
     "start_time": "2022-02-25T02:56:04.548908",
     "status": "completed"
    },
    "tags": []
   },
   "outputs": [],
   "source": [
    "if(date.today().toordinal() % 3 == 2):\n",
    "    lib_abscur_post.postToChanels(title, message, link, img_path)"
   ]
  }
 ],
 "metadata": {
  "kernelspec": {
   "display_name": "Python 3",
   "language": "python",
   "name": "python3"
  },
  "language_info": {
   "codemirror_mode": {
    "name": "ipython",
    "version": 3
   },
   "file_extension": ".py",
   "mimetype": "text/x-python",
   "name": "python",
   "nbconvert_exporter": "python",
   "pygments_lexer": "ipython3",
   "version": "3.7.12"
  },
  "papermill": {
   "default_parameters": {},
   "duration": 13.305923,
   "end_time": "2022-02-25T02:56:05.187955",
   "environment_variables": {},
   "exception": null,
   "input_path": "__notebook__.ipynb",
   "output_path": "__notebook__.ipynb",
   "parameters": {},
   "start_time": "2022-02-25T02:55:51.882032",
   "version": "2.3.3"
  }
 },
 "nbformat": 4,
 "nbformat_minor": 5
}
