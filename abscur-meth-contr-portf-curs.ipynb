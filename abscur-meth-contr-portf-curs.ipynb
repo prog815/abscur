{
 "cells": [
  {
   "cell_type": "markdown",
   "id": "3f0389cd",
   "metadata": {
    "papermill": {
     "duration": 0.01517,
     "end_time": "2022-02-26T04:48:19.664296",
     "exception": false,
     "start_time": "2022-02-26T04:48:19.649126",
     "status": "completed"
    },
    "tags": []
   },
   "source": [
    "# Методика управления валютным портфелем через абсолютные валютные курсы"
   ]
  },
  {
   "cell_type": "code",
   "execution_count": 1,
   "id": "e30aebe0",
   "metadata": {
    "_cell_guid": "b1076dfc-b9ad-4769-8c92-a6c4dae69d19",
    "_uuid": "8f2839f25d086af736a60e9eeb907d3b93b6e0e5",
    "execution": {
     "iopub.execute_input": "2022-02-26T04:48:19.699970Z",
     "iopub.status.busy": "2022-02-26T04:48:19.699273Z",
     "iopub.status.idle": "2022-02-26T04:48:19.723413Z",
     "shell.execute_reply": "2022-02-26T04:48:19.724052Z",
     "shell.execute_reply.started": "2022-02-16T13:15:20.922611Z"
    },
    "papermill": {
     "duration": 0.046555,
     "end_time": "2022-02-26T04:48:19.724422",
     "exception": false,
     "start_time": "2022-02-26T04:48:19.677867",
     "status": "completed"
    },
    "tags": []
   },
   "outputs": [],
   "source": [
    "import numpy as np # linear algebra\n",
    "import pandas as pd # data processing, CSV file I/O (e.g. pd.read_csv)\n",
    "import os\n",
    "import pickle\n",
    "\n",
    "import lib_portf_optim as po\n",
    "import lib_ga as ga"
   ]
  },
  {
   "cell_type": "markdown",
   "id": "503a27d8",
   "metadata": {
    "papermill": {
     "duration": 0.013246,
     "end_time": "2022-02-26T04:48:19.751118",
     "exception": false,
     "start_time": "2022-02-26T04:48:19.737872",
     "status": "completed"
    },
    "tags": []
   },
   "source": [
    "# Загрузка котировок"
   ]
  },
  {
   "cell_type": "code",
   "execution_count": 2,
   "id": "0311cd77",
   "metadata": {
    "execution": {
     "iopub.execute_input": "2022-02-26T04:48:19.781281Z",
     "iopub.status.busy": "2022-02-26T04:48:19.780288Z",
     "iopub.status.idle": "2022-02-26T04:48:19.885507Z",
     "shell.execute_reply": "2022-02-26T04:48:19.886082Z",
     "shell.execute_reply.started": "2022-02-16T13:15:20.979396Z"
    },
    "papermill": {
     "duration": 0.121863,
     "end_time": "2022-02-26T04:48:19.886260",
     "exception": false,
     "start_time": "2022-02-26T04:48:19.764397",
     "status": "completed"
    },
    "tags": []
   },
   "outputs": [
    {
     "data": {
      "text/html": [
       "<div>\n",
       "<style scoped>\n",
       "    .dataframe tbody tr th:only-of-type {\n",
       "        vertical-align: middle;\n",
       "    }\n",
       "\n",
       "    .dataframe tbody tr th {\n",
       "        vertical-align: top;\n",
       "    }\n",
       "\n",
       "    .dataframe thead th {\n",
       "        text-align: right;\n",
       "    }\n",
       "</style>\n",
       "<table border=\"1\" class=\"dataframe\">\n",
       "  <thead>\n",
       "    <tr style=\"text-align: right;\">\n",
       "      <th></th>\n",
       "      <th>AUD</th>\n",
       "      <th>CAD</th>\n",
       "      <th>HKD</th>\n",
       "      <th>JPY</th>\n",
       "      <th>SEK</th>\n",
       "      <th>USD</th>\n",
       "      <th>CHF</th>\n",
       "      <th>EUR</th>\n",
       "      <th>CNY</th>\n",
       "      <th>CZK</th>\n",
       "      <th>...</th>\n",
       "      <th>PKR</th>\n",
       "      <th>PLN</th>\n",
       "      <th>QAR</th>\n",
       "      <th>RON</th>\n",
       "      <th>SAR</th>\n",
       "      <th>THB</th>\n",
       "      <th>TRY</th>\n",
       "      <th>TWD</th>\n",
       "      <th>UAH</th>\n",
       "      <th>VND</th>\n",
       "    </tr>\n",
       "    <tr>\n",
       "      <th>Date</th>\n",
       "      <th></th>\n",
       "      <th></th>\n",
       "      <th></th>\n",
       "      <th></th>\n",
       "      <th></th>\n",
       "      <th></th>\n",
       "      <th></th>\n",
       "      <th></th>\n",
       "      <th></th>\n",
       "      <th></th>\n",
       "      <th></th>\n",
       "      <th></th>\n",
       "      <th></th>\n",
       "      <th></th>\n",
       "      <th></th>\n",
       "      <th></th>\n",
       "      <th></th>\n",
       "      <th></th>\n",
       "      <th></th>\n",
       "      <th></th>\n",
       "      <th></th>\n",
       "    </tr>\n",
       "  </thead>\n",
       "  <tbody>\n",
       "    <tr>\n",
       "      <th>2017-02-27</th>\n",
       "      <td>12.707662</td>\n",
       "      <td>12.628152</td>\n",
       "      <td>2.134768</td>\n",
       "      <td>0.147652</td>\n",
       "      <td>1.832696</td>\n",
       "      <td>16.570447</td>\n",
       "      <td>16.417864</td>\n",
       "      <td>17.473901</td>\n",
       "      <td>2.408537</td>\n",
       "      <td>0.647274</td>\n",
       "      <td>...</td>\n",
       "      <td>0.159669</td>\n",
       "      <td>4.052841</td>\n",
       "      <td>4.551821</td>\n",
       "      <td>3.879304</td>\n",
       "      <td>4.419022</td>\n",
       "      <td>0.475588</td>\n",
       "      <td>4.604194</td>\n",
       "      <td>0.540564</td>\n",
       "      <td>0.617678</td>\n",
       "      <td>0.000728</td>\n",
       "    </tr>\n",
       "    <tr>\n",
       "      <th>2017-02-28</th>\n",
       "      <td>12.735078</td>\n",
       "      <td>12.582107</td>\n",
       "      <td>2.137765</td>\n",
       "      <td>0.147133</td>\n",
       "      <td>1.831139</td>\n",
       "      <td>16.590732</td>\n",
       "      <td>16.433774</td>\n",
       "      <td>17.556971</td>\n",
       "      <td>2.416267</td>\n",
       "      <td>0.650186</td>\n",
       "      <td>...</td>\n",
       "      <td>0.158460</td>\n",
       "      <td>4.072045</td>\n",
       "      <td>4.558770</td>\n",
       "      <td>3.893076</td>\n",
       "      <td>4.429747</td>\n",
       "      <td>0.476198</td>\n",
       "      <td>4.599721</td>\n",
       "      <td>0.541261</td>\n",
       "      <td>0.613563</td>\n",
       "      <td>0.000729</td>\n",
       "    </tr>\n",
       "    <tr>\n",
       "      <th>2017-03-01</th>\n",
       "      <td>12.688710</td>\n",
       "      <td>12.474608</td>\n",
       "      <td>2.139114</td>\n",
       "      <td>0.146810</td>\n",
       "      <td>1.835955</td>\n",
       "      <td>16.606034</td>\n",
       "      <td>16.491160</td>\n",
       "      <td>17.539620</td>\n",
       "      <td>2.419103</td>\n",
       "      <td>0.649514</td>\n",
       "      <td>...</td>\n",
       "      <td>0.158606</td>\n",
       "      <td>4.076471</td>\n",
       "      <td>4.563100</td>\n",
       "      <td>3.884907</td>\n",
       "      <td>4.433714</td>\n",
       "      <td>0.475409</td>\n",
       "      <td>4.559342</td>\n",
       "      <td>0.541972</td>\n",
       "      <td>0.610965</td>\n",
       "      <td>0.000742</td>\n",
       "    </tr>\n",
       "    <tr>\n",
       "      <th>2017-03-02</th>\n",
       "      <td>12.743684</td>\n",
       "      <td>12.463166</td>\n",
       "      <td>2.143677</td>\n",
       "      <td>0.145797</td>\n",
       "      <td>1.837701</td>\n",
       "      <td>16.641409</td>\n",
       "      <td>16.469319</td>\n",
       "      <td>17.527312</td>\n",
       "      <td>2.419234</td>\n",
       "      <td>0.648854</td>\n",
       "      <td>...</td>\n",
       "      <td>0.159020</td>\n",
       "      <td>4.097466</td>\n",
       "      <td>4.572695</td>\n",
       "      <td>3.878483</td>\n",
       "      <td>4.443634</td>\n",
       "      <td>0.475333</td>\n",
       "      <td>4.558665</td>\n",
       "      <td>0.541061</td>\n",
       "      <td>0.619561</td>\n",
       "      <td>0.000740</td>\n",
       "    </tr>\n",
       "    <tr>\n",
       "      <th>2017-03-03</th>\n",
       "      <td>12.627507</td>\n",
       "      <td>12.455957</td>\n",
       "      <td>2.148750</td>\n",
       "      <td>0.145841</td>\n",
       "      <td>1.837562</td>\n",
       "      <td>16.679247</td>\n",
       "      <td>16.458753</td>\n",
       "      <td>17.520745</td>\n",
       "      <td>2.422956</td>\n",
       "      <td>0.648545</td>\n",
       "      <td>...</td>\n",
       "      <td>0.161214</td>\n",
       "      <td>4.078295</td>\n",
       "      <td>4.583092</td>\n",
       "      <td>3.878444</td>\n",
       "      <td>4.453619</td>\n",
       "      <td>0.475924</td>\n",
       "      <td>4.475536</td>\n",
       "      <td>0.541798</td>\n",
       "      <td>0.622755</td>\n",
       "      <td>0.000730</td>\n",
       "    </tr>\n",
       "    <tr>\n",
       "      <th>...</th>\n",
       "      <td>...</td>\n",
       "      <td>...</td>\n",
       "      <td>...</td>\n",
       "      <td>...</td>\n",
       "      <td>...</td>\n",
       "      <td>...</td>\n",
       "      <td>...</td>\n",
       "      <td>...</td>\n",
       "      <td>...</td>\n",
       "      <td>...</td>\n",
       "      <td>...</td>\n",
       "      <td>...</td>\n",
       "      <td>...</td>\n",
       "      <td>...</td>\n",
       "      <td>...</td>\n",
       "      <td>...</td>\n",
       "      <td>...</td>\n",
       "      <td>...</td>\n",
       "      <td>...</td>\n",
       "      <td>...</td>\n",
       "      <td>...</td>\n",
       "    </tr>\n",
       "    <tr>\n",
       "      <th>2022-02-21</th>\n",
       "      <td>13.437193</td>\n",
       "      <td>14.688083</td>\n",
       "      <td>2.402213</td>\n",
       "      <td>0.162983</td>\n",
       "      <td>1.993264</td>\n",
       "      <td>18.734885</td>\n",
       "      <td>20.345770</td>\n",
       "      <td>21.205819</td>\n",
       "      <td>2.963032</td>\n",
       "      <td>0.872542</td>\n",
       "      <td>...</td>\n",
       "      <td>0.106995</td>\n",
       "      <td>4.685385</td>\n",
       "      <td>5.146946</td>\n",
       "      <td>4.299852</td>\n",
       "      <td>4.993839</td>\n",
       "      <td>0.583060</td>\n",
       "      <td>1.376747</td>\n",
       "      <td>0.672224</td>\n",
       "      <td>0.667358</td>\n",
       "      <td>0.000821</td>\n",
       "    </tr>\n",
       "    <tr>\n",
       "      <th>2022-02-22</th>\n",
       "      <td>13.472992</td>\n",
       "      <td>14.700175</td>\n",
       "      <td>2.403827</td>\n",
       "      <td>0.163613</td>\n",
       "      <td>1.986585</td>\n",
       "      <td>18.747253</td>\n",
       "      <td>20.473565</td>\n",
       "      <td>21.205431</td>\n",
       "      <td>2.962015</td>\n",
       "      <td>0.869848</td>\n",
       "      <td>...</td>\n",
       "      <td>0.107151</td>\n",
       "      <td>4.666165</td>\n",
       "      <td>5.150344</td>\n",
       "      <td>4.292052</td>\n",
       "      <td>5.002323</td>\n",
       "      <td>0.581166</td>\n",
       "      <td>1.370864</td>\n",
       "      <td>0.674061</td>\n",
       "      <td>0.663747</td>\n",
       "      <td>0.000822</td>\n",
       "    </tr>\n",
       "    <tr>\n",
       "      <th>2022-02-23</th>\n",
       "      <td>13.545096</td>\n",
       "      <td>14.681093</td>\n",
       "      <td>2.402122</td>\n",
       "      <td>0.162805</td>\n",
       "      <td>2.010078</td>\n",
       "      <td>18.743661</td>\n",
       "      <td>20.333574</td>\n",
       "      <td>21.230372</td>\n",
       "      <td>2.964893</td>\n",
       "      <td>0.865791</td>\n",
       "      <td>...</td>\n",
       "      <td>0.107107</td>\n",
       "      <td>4.671399</td>\n",
       "      <td>5.149357</td>\n",
       "      <td>4.297822</td>\n",
       "      <td>4.996577</td>\n",
       "      <td>0.578223</td>\n",
       "      <td>1.361959</td>\n",
       "      <td>0.673327</td>\n",
       "      <td>0.653822</td>\n",
       "      <td>0.000822</td>\n",
       "    </tr>\n",
       "    <tr>\n",
       "      <th>2022-02-24</th>\n",
       "      <td>13.569807</td>\n",
       "      <td>14.744734</td>\n",
       "      <td>2.405267</td>\n",
       "      <td>0.163379</td>\n",
       "      <td>1.999950</td>\n",
       "      <td>18.774167</td>\n",
       "      <td>20.461099</td>\n",
       "      <td>21.222075</td>\n",
       "      <td>2.975459</td>\n",
       "      <td>0.863544</td>\n",
       "      <td>...</td>\n",
       "      <td>0.106671</td>\n",
       "      <td>4.628728</td>\n",
       "      <td>5.158447</td>\n",
       "      <td>4.295558</td>\n",
       "      <td>5.010005</td>\n",
       "      <td>0.581766</td>\n",
       "      <td>1.358429</td>\n",
       "      <td>0.673568</td>\n",
       "      <td>0.645210</td>\n",
       "      <td>0.000823</td>\n",
       "    </tr>\n",
       "    <tr>\n",
       "      <th>2022-02-25</th>\n",
       "      <td>13.594656</td>\n",
       "      <td>14.822130</td>\n",
       "      <td>2.431812</td>\n",
       "      <td>0.164250</td>\n",
       "      <td>1.999832</td>\n",
       "      <td>18.989928</td>\n",
       "      <td>20.505771</td>\n",
       "      <td>21.237333</td>\n",
       "      <td>3.001116</td>\n",
       "      <td>0.861308</td>\n",
       "      <td>...</td>\n",
       "      <td>0.107928</td>\n",
       "      <td>4.590598</td>\n",
       "      <td>5.217730</td>\n",
       "      <td>4.298601</td>\n",
       "      <td>5.067202</td>\n",
       "      <td>0.584359</td>\n",
       "      <td>1.351308</td>\n",
       "      <td>0.676588</td>\n",
       "      <td>0.640745</td>\n",
       "      <td>0.000831</td>\n",
       "    </tr>\n",
       "  </tbody>\n",
       "</table>\n",
       "<p>1305 rows × 45 columns</p>\n",
       "</div>"
      ],
      "text/plain": [
       "                  AUD        CAD       HKD       JPY       SEK        USD  \\\n",
       "Date                                                                        \n",
       "2017-02-27  12.707662  12.628152  2.134768  0.147652  1.832696  16.570447   \n",
       "2017-02-28  12.735078  12.582107  2.137765  0.147133  1.831139  16.590732   \n",
       "2017-03-01  12.688710  12.474608  2.139114  0.146810  1.835955  16.606034   \n",
       "2017-03-02  12.743684  12.463166  2.143677  0.145797  1.837701  16.641409   \n",
       "2017-03-03  12.627507  12.455957  2.148750  0.145841  1.837562  16.679247   \n",
       "...               ...        ...       ...       ...       ...        ...   \n",
       "2022-02-21  13.437193  14.688083  2.402213  0.162983  1.993264  18.734885   \n",
       "2022-02-22  13.472992  14.700175  2.403827  0.163613  1.986585  18.747253   \n",
       "2022-02-23  13.545096  14.681093  2.402122  0.162805  2.010078  18.743661   \n",
       "2022-02-24  13.569807  14.744734  2.405267  0.163379  1.999950  18.774167   \n",
       "2022-02-25  13.594656  14.822130  2.431812  0.164250  1.999832  18.989928   \n",
       "\n",
       "                  CHF        EUR       CNY       CZK  ...       PKR       PLN  \\\n",
       "Date                                                  ...                       \n",
       "2017-02-27  16.417864  17.473901  2.408537  0.647274  ...  0.159669  4.052841   \n",
       "2017-02-28  16.433774  17.556971  2.416267  0.650186  ...  0.158460  4.072045   \n",
       "2017-03-01  16.491160  17.539620  2.419103  0.649514  ...  0.158606  4.076471   \n",
       "2017-03-02  16.469319  17.527312  2.419234  0.648854  ...  0.159020  4.097466   \n",
       "2017-03-03  16.458753  17.520745  2.422956  0.648545  ...  0.161214  4.078295   \n",
       "...               ...        ...       ...       ...  ...       ...       ...   \n",
       "2022-02-21  20.345770  21.205819  2.963032  0.872542  ...  0.106995  4.685385   \n",
       "2022-02-22  20.473565  21.205431  2.962015  0.869848  ...  0.107151  4.666165   \n",
       "2022-02-23  20.333574  21.230372  2.964893  0.865791  ...  0.107107  4.671399   \n",
       "2022-02-24  20.461099  21.222075  2.975459  0.863544  ...  0.106671  4.628728   \n",
       "2022-02-25  20.505771  21.237333  3.001116  0.861308  ...  0.107928  4.590598   \n",
       "\n",
       "                 QAR       RON       SAR       THB       TRY       TWD  \\\n",
       "Date                                                                     \n",
       "2017-02-27  4.551821  3.879304  4.419022  0.475588  4.604194  0.540564   \n",
       "2017-02-28  4.558770  3.893076  4.429747  0.476198  4.599721  0.541261   \n",
       "2017-03-01  4.563100  3.884907  4.433714  0.475409  4.559342  0.541972   \n",
       "2017-03-02  4.572695  3.878483  4.443634  0.475333  4.558665  0.541061   \n",
       "2017-03-03  4.583092  3.878444  4.453619  0.475924  4.475536  0.541798   \n",
       "...              ...       ...       ...       ...       ...       ...   \n",
       "2022-02-21  5.146946  4.299852  4.993839  0.583060  1.376747  0.672224   \n",
       "2022-02-22  5.150344  4.292052  5.002323  0.581166  1.370864  0.674061   \n",
       "2022-02-23  5.149357  4.297822  4.996577  0.578223  1.361959  0.673327   \n",
       "2022-02-24  5.158447  4.295558  5.010005  0.581766  1.358429  0.673568   \n",
       "2022-02-25  5.217730  4.298601  5.067202  0.584359  1.351308  0.676588   \n",
       "\n",
       "                 UAH       VND  \n",
       "Date                            \n",
       "2017-02-27  0.617678  0.000728  \n",
       "2017-02-28  0.613563  0.000729  \n",
       "2017-03-01  0.610965  0.000742  \n",
       "2017-03-02  0.619561  0.000740  \n",
       "2017-03-03  0.622755  0.000730  \n",
       "...              ...       ...  \n",
       "2022-02-21  0.667358  0.000821  \n",
       "2022-02-22  0.663747  0.000822  \n",
       "2022-02-23  0.653822  0.000822  \n",
       "2022-02-24  0.645210  0.000823  \n",
       "2022-02-25  0.640745  0.000831  \n",
       "\n",
       "[1305 rows x 45 columns]"
      ]
     },
     "execution_count": 2,
     "metadata": {},
     "output_type": "execute_result"
    }
   ],
   "source": [
    "data = pd.read_csv('../input/abscur/close_abs.csv',index_col=0)\n",
    "d_data = data.pct_change().fillna(0)\n",
    "data"
   ]
  },
  {
   "cell_type": "markdown",
   "id": "b150945c",
   "metadata": {
    "papermill": {
     "duration": 0.013674,
     "end_time": "2022-02-26T04:48:19.914544",
     "exception": false,
     "start_time": "2022-02-26T04:48:19.900870",
     "status": "completed"
    },
    "tags": []
   },
   "source": [
    "# Модуль прогноза на шаг вперед"
   ]
  },
  {
   "cell_type": "code",
   "execution_count": 3,
   "id": "81d5a572",
   "metadata": {
    "execution": {
     "iopub.execute_input": "2022-02-26T04:48:19.950239Z",
     "iopub.status.busy": "2022-02-26T04:48:19.949291Z",
     "iopub.status.idle": "2022-02-26T04:48:19.952395Z",
     "shell.execute_reply": "2022-02-26T04:48:19.951759Z",
     "shell.execute_reply.started": "2022-02-16T13:15:47.008768Z"
    },
    "papermill": {
     "duration": 0.024331,
     "end_time": "2022-02-26T04:48:19.952533",
     "exception": false,
     "start_time": "2022-02-26T04:48:19.928202",
     "status": "completed"
    },
    "tags": []
   },
   "outputs": [],
   "source": [
    "def get_pred(learn_array):\n",
    "    '''\n",
    "    функция генерации распределения портфеля на следующий период\n",
    "    \n",
    "    learn_array - массив относительных изменений курсов за предыдущий период\n",
    "    \n",
    "    возвращает массив долей портфеля на будущий период\n",
    "    расчитывает по максимизации коэффициента Шарпа\n",
    "    '''\n",
    "    doh = np.mean(learn_array,axis=0)\n",
    "    cov = np.cov(learn_array,rowvar=False)\n",
    "    return po.portfSharpOptim(doh,cov)\n",
    "\n",
    "# get_pred(d_data.iloc[-50:,:]) # на основе 50 предыдущих значений"
   ]
  },
  {
   "cell_type": "markdown",
   "id": "29ff708c",
   "metadata": {
    "papermill": {
     "duration": 0.013386,
     "end_time": "2022-02-26T04:48:19.979673",
     "exception": false,
     "start_time": "2022-02-26T04:48:19.966287",
     "status": "completed"
    },
    "tags": []
   },
   "source": [
    "# Создание/загрузка модели генетической оптимизации"
   ]
  },
  {
   "cell_type": "code",
   "execution_count": 4,
   "id": "912dfc5b",
   "metadata": {
    "execution": {
     "iopub.execute_input": "2022-02-26T04:48:20.019939Z",
     "iopub.status.busy": "2022-02-26T04:48:20.019210Z",
     "iopub.status.idle": "2022-02-26T04:48:20.654618Z",
     "shell.execute_reply": "2022-02-26T04:48:20.654017Z",
     "shell.execute_reply.started": "2022-02-16T13:15:52.832449Z"
    },
    "papermill": {
     "duration": 0.66143,
     "end_time": "2022-02-26T04:48:20.654912",
     "exception": false,
     "start_time": "2022-02-26T04:48:19.993482",
     "status": "completed"
    },
    "tags": []
   },
   "outputs": [],
   "source": [
    "# функция качества\n",
    "def getQualityMethod(learn_len,rebalace_len):\n",
    "    '''\n",
    "    подсчет качества для модели в случайной точке\n",
    "    \n",
    "    learn_len - размер обучающей выборки перед ребалансировкой\n",
    "    rebalace_len - период ребалансировки портфеля\n",
    "    '''\n",
    "    \n",
    "    # получение выборок обучения и следующей за ней рабочей (равной периоду ребалансировки)\n",
    "    x = np.random.randint(1,len(d_data)-learn_len-rebalace_len)\n",
    "    learn_vib = d_data.iloc[x:x+learn_len,:].values\n",
    "    work_vib = d_data.iloc[x+learn_len:x+learn_len+rebalace_len,:].values\n",
    "    \n",
    "    # расчет долей портфеля на выборке обучения\n",
    "    weights = get_pred(learn_vib)\n",
    "    \n",
    "    # расчет качества на рабочей выборке по прогнозным долям\n",
    "    doh = np.mean(work_vib,axis=0)\n",
    "    cov = np.cov(work_vib,rowvar=False)\n",
    "    kach = po.koefSharp(weights,doh,cov)\n",
    "    \n",
    "    # расчет качества на рабочей выборке по равным долям \n",
    "    weights_0 = np.ones_like(weights) / len(weights)\n",
    "    kach_0 = po.koefSharp(weights_0,doh,cov)\n",
    "    \n",
    "    return kach - kach_0 # смотрим как отрываемся от равномерной модели\n",
    "    \n",
    "# getQualityMethod(50,10)\n",
    "\n",
    "# создание модели генетики\n",
    "modelGA = ga.ListGenetic( \n",
    "    pop_size = 1000,\n",
    "    learn_len = range(50,500),\n",
    "    rebalace_len = range(30,300),\n",
    "    quality_method=getQualityMethod\n",
    ")\n",
    "\n",
    "# загрузка предыдущей модели генетики\n",
    "fn = '../input/abscur-meth-contr-portf-curs/model_ga.pkl'\n",
    "if os.path.exists(fn):\n",
    "    with open(fn,'rb') as fp:\n",
    "        modelGA = pickle.load(fp)"
   ]
  },
  {
   "cell_type": "markdown",
   "id": "82160e47",
   "metadata": {
    "papermill": {
     "duration": 0.013388,
     "end_time": "2022-02-26T04:48:20.682242",
     "exception": false,
     "start_time": "2022-02-26T04:48:20.668854",
     "status": "completed"
    },
    "tags": []
   },
   "source": [
    "# Параметры лучшей"
   ]
  },
  {
   "cell_type": "markdown",
   "id": "761b5ede",
   "metadata": {
    "papermill": {
     "duration": 0.013958,
     "end_time": "2022-02-26T04:48:20.709873",
     "exception": false,
     "start_time": "2022-02-26T04:48:20.695915",
     "status": "completed"
    },
    "tags": []
   },
   "source": [
    "# Распределение по данным лучшей модели"
   ]
  },
  {
   "cell_type": "markdown",
   "id": "c83c6b51",
   "metadata": {
    "papermill": {
     "duration": 0.013482,
     "end_time": "2022-02-26T04:48:20.737019",
     "exception": false,
     "start_time": "2022-02-26T04:48:20.723537",
     "status": "completed"
    },
    "tags": []
   },
   "source": [
    "# Прогон на лучших параметрах"
   ]
  },
  {
   "cell_type": "markdown",
   "id": "b2cafcdc",
   "metadata": {
    "papermill": {
     "duration": 0.01319,
     "end_time": "2022-02-26T04:48:20.763866",
     "exception": false,
     "start_time": "2022-02-26T04:48:20.750676",
     "status": "completed"
    },
    "tags": []
   },
   "source": [
    "# Цикл генетической оптимизации гиперпараметров"
   ]
  },
  {
   "cell_type": "code",
   "execution_count": 5,
   "id": "9b7f1a07",
   "metadata": {
    "execution": {
     "iopub.execute_input": "2022-02-26T04:48:20.795529Z",
     "iopub.status.busy": "2022-02-26T04:48:20.794895Z",
     "iopub.status.idle": "2022-02-26T05:31:04.280443Z",
     "shell.execute_reply": "2022-02-26T05:31:04.279398Z",
     "shell.execute_reply.started": "2022-02-16T13:16:13.702343Z"
    },
    "papermill": {
     "duration": 2563.503171,
     "end_time": "2022-02-26T05:31:04.281036",
     "exception": false,
     "start_time": "2022-02-26T04:48:20.777865",
     "status": "completed"
    },
    "tags": []
   },
   "outputs": [
    {
     "name": "stdout",
     "output_type": "stream",
     "text": [
      "110232 {'quality': -0.09481112715441858, 'learn_len': 258, 'rebalace_len': 190}\n",
      "110465 {'quality': -0.43221643262938425, 'learn_len': 259, 'rebalace_len': 281}\n",
      "110698 {'quality': -0.12777548099800073, 'learn_len': 239, 'rebalace_len': 248}\n",
      "110932 {'quality': -0.3055018788554888, 'learn_len': 261, 'rebalace_len': 256}\n",
      "111166 {'quality': -0.03238404258491573, 'learn_len': 288, 'rebalace_len': 244}\n",
      "111399 {'quality': -0.47075616455913516, 'learn_len': 258, 'rebalace_len': 233}\n",
      "111633 {'quality': -0.15334190860497315, 'learn_len': 292, 'rebalace_len': 236}\n",
      "111867 {'quality': -0.1711836354776506, 'learn_len': 273, 'rebalace_len': 241}\n",
      "112101 {'quality': -0.10801845894127426, 'learn_len': 262, 'rebalace_len': 215}\n",
      "112337 {'quality': -0.1734111433047953, 'learn_len': 259, 'rebalace_len': 243}\n",
      "112572 {'quality': -0.19362148117876293, 'learn_len': 256, 'rebalace_len': 230}\n",
      "112807 {'quality': -0.4340172387995761, 'learn_len': 272, 'rebalace_len': 275}\n",
      "113042 {'quality': 0.19712455231686643, 'learn_len': 269, 'rebalace_len': 255}\n",
      "113277 {'quality': -0.06187128296311745, 'learn_len': 271, 'rebalace_len': 262}\n",
      "113510 {'quality': -0.16107973060894074, 'learn_len': 285, 'rebalace_len': 245}\n",
      "113745 {'quality': -0.34861118760511683, 'learn_len': 249, 'rebalace_len': 229}\n",
      "113982 {'quality': -0.4627777867087466, 'learn_len': 290, 'rebalace_len': 223}\n",
      "114217 {'quality': -0.06876271876675688, 'learn_len': 270, 'rebalace_len': 221}\n",
      "114451 {'quality': -0.10118187518176125, 'learn_len': 277, 'rebalace_len': 217}\n",
      "114687 {'quality': -0.1239125429390664, 'learn_len': 268, 'rebalace_len': 219}\n",
      "114924 {'quality': -0.3462921513047465, 'learn_len': 261, 'rebalace_len': 249}\n",
      "115160 {'quality': -0.07597436024550508, 'learn_len': 250, 'rebalace_len': 228}\n",
      "115397 {'quality': -0.4403470538012699, 'learn_len': 265, 'rebalace_len': 243}\n",
      "115632 {'quality': -0.580394611543606, 'learn_len': 241, 'rebalace_len': 269}\n",
      "115866 {'quality': -0.08171992366180098, 'learn_len': 290, 'rebalace_len': 251}\n",
      "116104 {'quality': -0.4607350203819859, 'learn_len': 299, 'rebalace_len': 229}\n",
      "116339 {'quality': -0.14683741821897228, 'learn_len': 264, 'rebalace_len': 270}\n",
      "116574 {'quality': 0.13433481667095354, 'learn_len': 264, 'rebalace_len': 216}\n",
      "116809 {'quality': -0.08888003778888914, 'learn_len': 265, 'rebalace_len': 238}\n",
      "117044 {'quality': -0.43454434759277, 'learn_len': 262, 'rebalace_len': 254}\n",
      "117280 {'quality': -0.07240321977691766, 'learn_len': 256, 'rebalace_len': 265}\n",
      "117515 {'quality': -0.3206522564027135, 'learn_len': 276, 'rebalace_len': 256}\n",
      "117749 {'quality': -0.16193833151734438, 'learn_len': 247, 'rebalace_len': 255}\n",
      "117987 {'quality': -0.118479806116016, 'learn_len': 231, 'rebalace_len': 252}\n",
      "118219 {'quality': -0.21142056229854161, 'learn_len': 301, 'rebalace_len': 251}\n",
      "118452 {'quality': -0.13360202713026942, 'learn_len': 254, 'rebalace_len': 272}\n",
      "118685 {'quality': -0.09842106821397328, 'learn_len': 245, 'rebalace_len': 207}\n",
      "118918 {'quality': 0.10540525003565365, 'learn_len': 231, 'rebalace_len': 284}\n",
      "119152 {'quality': -0.2815283272022798, 'learn_len': 272, 'rebalace_len': 262}\n",
      "119383 {'quality': -0.05151557971702686, 'learn_len': 263, 'rebalace_len': 222}\n",
      "119620 {'quality': -0.1218083079479036, 'learn_len': 258, 'rebalace_len': 211}\n",
      "119855 {'quality': -0.09479360771547729, 'learn_len': 257, 'rebalace_len': 190}\n",
      "finish -  120000 {'quality': -0.13417606153340056, 'learn_len': 254, 'rebalace_len': 202}\n"
     ]
    }
   ],
   "source": [
    "modelGA.fit(10000,echo_time=60,stop_time_sec=8*60*60)\n",
    "with open(\"model_ga.pkl\",'wb') as fp:\n",
    "    pickle.dump(modelGA,fp)"
   ]
  },
  {
   "cell_type": "markdown",
   "id": "a98a8dc7",
   "metadata": {
    "papermill": {
     "duration": 0.03053,
     "end_time": "2022-02-26T05:31:04.341879",
     "exception": false,
     "start_time": "2022-02-26T05:31:04.311349",
     "status": "completed"
    },
    "tags": []
   },
   "source": [
    "# Отчет по оптимизации гиперпараметров"
   ]
  },
  {
   "cell_type": "code",
   "execution_count": 6,
   "id": "ef11712c",
   "metadata": {
    "execution": {
     "iopub.execute_input": "2022-02-26T05:31:04.435989Z",
     "iopub.status.busy": "2022-02-26T05:31:04.430823Z",
     "iopub.status.idle": "2022-02-26T05:31:05.470002Z",
     "shell.execute_reply": "2022-02-26T05:31:05.469149Z",
     "shell.execute_reply.started": "2022-02-16T13:19:36.954111Z"
    },
    "papermill": {
     "duration": 1.09879,
     "end_time": "2022-02-26T05:31:05.470240",
     "exception": false,
     "start_time": "2022-02-26T05:31:04.371450",
     "status": "completed"
    },
    "tags": []
   },
   "outputs": [
    {
     "data": {
      "image/png": "[encoded data removed]",
      "text/plain": [
       "<Figure size 720x432 with 1 Axes>"
      ]
     },
     "metadata": {
      "needs_background": "light"
     },
     "output_type": "display_data"
    },
    {
     "data": {
      "image/png": "[encoded data removed]",
      "text/plain": [
       "<Figure size 720x432 with 1 Axes>"
      ]
     },
     "metadata": {
      "needs_background": "light"
     },
     "output_type": "display_data"
    },
    {
     "data": {
      "image/png": "[encoded data removed]",
      "text/plain": [
       "<Figure size 720x432 with 1 Axes>"
      ]
     },
     "metadata": {
      "needs_background": "light"
     },
     "output_type": "display_data"
    }
   ],
   "source": [
    "modelGA.plot_hist_new(('quality','learn_len','rebalace_len'))"
   ]
  }
 ],
 "metadata": {
  "kernelspec": {
   "display_name": "Python 3",
   "language": "python",
   "name": "python3"
  },
  "language_info": {
   "codemirror_mode": {
    "name": "ipython",
    "version": 3
   },
   "file_extension": ".py",
   "mimetype": "text/x-python",
   "name": "python",
   "nbconvert_exporter": "python",
   "pygments_lexer": "ipython3",
   "version": "3.7.12"
  },
  "papermill": {
   "default_parameters": {},
   "duration": 2577.885369,
   "end_time": "2022-02-26T05:31:06.847302",
   "environment_variables": {},
   "exception": null,
   "input_path": "__notebook__.ipynb",
   "output_path": "__notebook__.ipynb",
   "parameters": {},
   "start_time": "2022-02-26T04:48:08.961933",
   "version": "2.3.3"
  }
 },
 "nbformat": 4,
 "nbformat_minor": 5
}
