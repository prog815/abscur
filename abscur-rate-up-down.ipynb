{
 "cells": [
  {
   "cell_type": "markdown",
   "id": "c4f9ddc6",
   "metadata": {
    "papermill": {
     "duration": 0.016801,
     "end_time": "2022-02-26T06:15:50.299574",
     "exception": false,
     "start_time": "2022-02-26T06:15:50.282773",
     "status": "completed"
    },
    "tags": []
   },
   "source": [
    "# Рейтинг роста и падения абсолютных курсов валют"
   ]
  },
  {
   "cell_type": "markdown",
   "id": "536fb612",
   "metadata": {
    "papermill": {
     "duration": 0.018587,
     "end_time": "2022-02-26T06:15:50.337414",
     "exception": false,
     "start_time": "2022-02-26T06:15:50.318827",
     "status": "completed"
    },
    "tags": []
   },
   "source": [
    "Проект:\t**Абсолютный курс**\n",
    "\t\n",
    "сайт\thttp://www.abscur.ru\n",
    "\n",
    "ВКонтакте\thttps://vk.com/abscur\n",
    "\n",
    "FaceBook\thttps://www.facebook.com/abscur\n",
    "\n",
    "WhatsUp\thttps://chat.whatsapp.com/KrNJXAKizPxDlDSjYfdpQs\n",
    "\n",
    "Viber\thttps://invite.viber.com/?g2=AQB63y7Cm%2BNJK0tNZW%2F9kI00M6Wr8HuZ7XeamzN4jZCve8Aq9%2FiD3DY56Eqcf7dc\n",
    "\n",
    "Telegram\thttps://t.me/AbsCur\n",
    "\n",
    "Одноклассники\thttps://ok.ru/group/53547043520717\n",
    "\n",
    "Twitter\thttps://twitter.com/abscurs\n",
    "\n",
    "GitHub\thttps://github.com/prog815/abscur\n",
    "\n",
    "YouTube\thttps://www.youtube.com/playlist?list=PLG1V24vhSKo6MamGtgm2oTkDZHeHBHNFW"
   ]
  },
  {
   "cell_type": "markdown",
   "id": "184f8c4d",
   "metadata": {
    "papermill": {
     "duration": 0.021903,
     "end_time": "2022-02-26T06:15:50.379520",
     "exception": false,
     "start_time": "2022-02-26T06:15:50.357617",
     "status": "completed"
    },
    "tags": []
   },
   "source": [
    "# Статья\n",
    "\n",
    "Habr\n",
    "\n",
    "Google.Docs - https://docs.google.com/document/d/1So3MUhi52VyR6BNy1ofJRwmz59FbnNWGLqWl2P8AV-M/edit?usp=sharing \n",
    "\n",
    "Сайт\n",
    "\n",
    "VC\n",
    "\n",
    "Smart-lab\n",
    "\n",
    "Kaggle - https://www.kaggle.com/eavprog/abscur-rate-up-down \n",
    "\n"
   ]
  },
  {
   "cell_type": "markdown",
   "id": "9b601257",
   "metadata": {
    "papermill": {
     "duration": 0.019944,
     "end_time": "2022-02-26T06:15:50.418940",
     "exception": false,
     "start_time": "2022-02-26T06:15:50.398996",
     "status": "completed"
    },
    "tags": []
   },
   "source": [
    "# Загрузка библиотек"
   ]
  },
  {
   "cell_type": "code",
   "execution_count": 1,
   "id": "7b9d8d7d",
   "metadata": {
    "_cell_guid": "b1076dfc-b9ad-4769-8c92-a6c4dae69d19",
    "_uuid": "8f2839f25d086af736a60e9eeb907d3b93b6e0e5",
    "execution": {
     "iopub.execute_input": "2022-02-26T06:15:50.462896Z",
     "iopub.status.busy": "2022-02-26T06:15:50.462266Z",
     "iopub.status.idle": "2022-02-26T06:15:50.482532Z",
     "shell.execute_reply": "2022-02-26T06:15:50.483074Z",
     "shell.execute_reply.started": "2022-02-21T12:08:53.945693Z"
    },
    "papermill": {
     "duration": 0.048943,
     "end_time": "2022-02-26T06:15:50.483599",
     "exception": false,
     "start_time": "2022-02-26T06:15:50.434656",
     "status": "completed"
    },
    "tags": []
   },
   "outputs": [],
   "source": [
    "import pandas as pd\n",
    "import numpy as np\n",
    "import lib_abscur_post\n",
    "from datetime import date\n",
    "import matplotlib.pyplot as plt"
   ]
  },
  {
   "cell_type": "markdown",
   "id": "e9ce9d3d",
   "metadata": {
    "papermill": {
     "duration": 0.015804,
     "end_time": "2022-02-26T06:15:50.515997",
     "exception": false,
     "start_time": "2022-02-26T06:15:50.500193",
     "status": "completed"
    },
    "tags": []
   },
   "source": [
    "# Таблица последних изменений абсолютных курсов\n",
    "\n",
    "Последние абсолютные курсы доступны по ссылке https://docs.google.com/spreadsheets/d/1CrNvvV-p6XG7lSJXftPKk_aY4nuH4WK25rPxaNKrM3U/edit#gid=1323839768"
   ]
  },
  {
   "cell_type": "code",
   "execution_count": 2,
   "id": "de6107a1",
   "metadata": {
    "execution": {
     "iopub.execute_input": "2022-02-26T06:15:50.551569Z",
     "iopub.status.busy": "2022-02-26T06:15:50.550582Z",
     "iopub.status.idle": "2022-02-26T06:15:50.602545Z",
     "shell.execute_reply": "2022-02-26T06:15:50.603039Z",
     "shell.execute_reply.started": "2022-02-21T12:08:53.955201Z"
    },
    "papermill": {
     "duration": 0.071208,
     "end_time": "2022-02-26T06:15:50.603219",
     "exception": false,
     "start_time": "2022-02-26T06:15:50.532011",
     "status": "completed"
    },
    "tags": []
   },
   "outputs": [
    {
     "data": {
      "text/html": [
       "<div>\n",
       "<style scoped>\n",
       "    .dataframe tbody tr th:only-of-type {\n",
       "        vertical-align: middle;\n",
       "    }\n",
       "\n",
       "    .dataframe tbody tr th {\n",
       "        vertical-align: top;\n",
       "    }\n",
       "\n",
       "    .dataframe thead th {\n",
       "        text-align: right;\n",
       "    }\n",
       "</style>\n",
       "<table border=\"1\" class=\"dataframe\">\n",
       "  <thead>\n",
       "    <tr style=\"text-align: right;\">\n",
       "      <th></th>\n",
       "      <th>курс на 2022-02-25</th>\n",
       "      <th>% изм.день</th>\n",
       "      <th>% изм.неделя</th>\n",
       "      <th>% изм.месяц</th>\n",
       "      <th>% изм.квартал</th>\n",
       "      <th>% изм.полгода</th>\n",
       "      <th>% изм.год</th>\n",
       "    </tr>\n",
       "  </thead>\n",
       "  <tbody>\n",
       "    <tr>\n",
       "      <th>AUD</th>\n",
       "      <td>13.594656</td>\n",
       "      <td>0.001831</td>\n",
       "      <td>0.011314</td>\n",
       "      <td>0.010004</td>\n",
       "      <td>0.006402</td>\n",
       "      <td>0.026485</td>\n",
       "      <td>-0.038603</td>\n",
       "    </tr>\n",
       "    <tr>\n",
       "      <th>CAD</th>\n",
       "      <td>14.822130</td>\n",
       "      <td>0.005249</td>\n",
       "      <td>0.007109</td>\n",
       "      <td>-0.005376</td>\n",
       "      <td>-0.003176</td>\n",
       "      <td>0.027316</td>\n",
       "      <td>0.045502</td>\n",
       "    </tr>\n",
       "    <tr>\n",
       "      <th>HKD</th>\n",
       "      <td>2.431812</td>\n",
       "      <td>0.011036</td>\n",
       "      <td>0.014320</td>\n",
       "      <td>0.006957</td>\n",
       "      <td>0.006829</td>\n",
       "      <td>0.034928</td>\n",
       "      <td>0.063156</td>\n",
       "    </tr>\n",
       "    <tr>\n",
       "      <th>JPY</th>\n",
       "      <td>0.164250</td>\n",
       "      <td>0.005333</td>\n",
       "      <td>0.009175</td>\n",
       "      <td>-0.004958</td>\n",
       "      <td>0.003818</td>\n",
       "      <td>-0.012220</td>\n",
       "      <td>-0.018908</td>\n",
       "    </tr>\n",
       "    <tr>\n",
       "      <th>SEK</th>\n",
       "      <td>1.999832</td>\n",
       "      <td>-0.000059</td>\n",
       "      <td>-0.002122</td>\n",
       "      <td>-0.015875</td>\n",
       "      <td>-0.032739</td>\n",
       "      <td>-0.049337</td>\n",
       "      <td>-0.067881</td>\n",
       "    </tr>\n",
       "    <tr>\n",
       "      <th>USD</th>\n",
       "      <td>18.989928</td>\n",
       "      <td>0.011492</td>\n",
       "      <td>0.015566</td>\n",
       "      <td>0.010043</td>\n",
       "      <td>0.008343</td>\n",
       "      <td>0.037754</td>\n",
       "      <td>0.070727</td>\n",
       "    </tr>\n",
       "    <tr>\n",
       "      <th>CHF</th>\n",
       "      <td>20.505771</td>\n",
       "      <td>0.002183</td>\n",
       "      <td>0.008833</td>\n",
       "      <td>0.001149</td>\n",
       "      <td>0.018558</td>\n",
       "      <td>0.028752</td>\n",
       "      <td>0.048574</td>\n",
       "    </tr>\n",
       "    <tr>\n",
       "      <th>EUR</th>\n",
       "      <td>21.237333</td>\n",
       "      <td>0.000719</td>\n",
       "      <td>-0.000420</td>\n",
       "      <td>-0.000460</td>\n",
       "      <td>0.006426</td>\n",
       "      <td>-0.012489</td>\n",
       "      <td>-0.015897</td>\n",
       "    </tr>\n",
       "    <tr>\n",
       "      <th>CNY</th>\n",
       "      <td>3.001116</td>\n",
       "      <td>0.008623</td>\n",
       "      <td>0.016444</td>\n",
       "      <td>0.009237</td>\n",
       "      <td>0.017093</td>\n",
       "      <td>0.062388</td>\n",
       "      <td>0.091693</td>\n",
       "    </tr>\n",
       "    <tr>\n",
       "      <th>CZK</th>\n",
       "      <td>0.861308</td>\n",
       "      <td>-0.002589</td>\n",
       "      <td>-0.015177</td>\n",
       "      <td>-0.008079</td>\n",
       "      <td>0.039798</td>\n",
       "      <td>0.021526</td>\n",
       "      <td>0.037565</td>\n",
       "    </tr>\n",
       "    <tr>\n",
       "      <th>GBP</th>\n",
       "      <td>25.386846</td>\n",
       "      <td>-0.001759</td>\n",
       "      <td>-0.002957</td>\n",
       "      <td>-0.000446</td>\n",
       "      <td>0.012779</td>\n",
       "      <td>0.012608</td>\n",
       "      <td>0.011956</td>\n",
       "    </tr>\n",
       "    <tr>\n",
       "      <th>ILS</th>\n",
       "      <td>5.819283</td>\n",
       "      <td>0.002116</td>\n",
       "      <td>-0.001461</td>\n",
       "      <td>-0.016850</td>\n",
       "      <td>-0.023765</td>\n",
       "      <td>0.024532</td>\n",
       "      <td>0.067986</td>\n",
       "    </tr>\n",
       "    <tr>\n",
       "      <th>NOK</th>\n",
       "      <td>2.118906</td>\n",
       "      <td>0.003599</td>\n",
       "      <td>0.010288</td>\n",
       "      <td>0.005925</td>\n",
       "      <td>0.010440</td>\n",
       "      <td>0.022251</td>\n",
       "      <td>-0.000227</td>\n",
       "    </tr>\n",
       "    <tr>\n",
       "      <th>NZD</th>\n",
       "      <td>12.698162</td>\n",
       "      <td>-0.001062</td>\n",
       "      <td>0.015070</td>\n",
       "      <td>0.009668</td>\n",
       "      <td>-0.014692</td>\n",
       "      <td>-0.000783</td>\n",
       "      <td>-0.038189</td>\n",
       "    </tr>\n",
       "    <tr>\n",
       "      <th>RUB</th>\n",
       "      <td>0.223523</td>\n",
       "      <td>-0.031719</td>\n",
       "      <td>-0.089709</td>\n",
       "      <td>-0.063700</td>\n",
       "      <td>-0.115130</td>\n",
       "      <td>-0.092690</td>\n",
       "      <td>-0.073489</td>\n",
       "    </tr>\n",
       "    <tr>\n",
       "      <th>SGD</th>\n",
       "      <td>14.011330</td>\n",
       "      <td>0.004714</td>\n",
       "      <td>0.006522</td>\n",
       "      <td>0.001723</td>\n",
       "      <td>0.018303</td>\n",
       "      <td>0.036687</td>\n",
       "      <td>0.041998</td>\n",
       "    </tr>\n",
       "    <tr>\n",
       "      <th>ZAR</th>\n",
       "      <td>1.238057</td>\n",
       "      <td>-0.004614</td>\n",
       "      <td>-0.007599</td>\n",
       "      <td>0.002949</td>\n",
       "      <td>0.059248</td>\n",
       "      <td>0.007639</td>\n",
       "      <td>0.011507</td>\n",
       "    </tr>\n",
       "    <tr>\n",
       "      <th>AED</th>\n",
       "      <td>5.171549</td>\n",
       "      <td>0.011520</td>\n",
       "      <td>0.015593</td>\n",
       "      <td>0.010070</td>\n",
       "      <td>0.008370</td>\n",
       "      <td>0.037810</td>\n",
       "      <td>0.070785</td>\n",
       "    </tr>\n",
       "    <tr>\n",
       "      <th>ARS</th>\n",
       "      <td>0.176854</td>\n",
       "      <td>0.010506</td>\n",
       "      <td>0.008766</td>\n",
       "      <td>-0.015934</td>\n",
       "      <td>-0.054463</td>\n",
       "      <td>-0.058309</td>\n",
       "      <td>-0.105898</td>\n",
       "    </tr>\n",
       "    <tr>\n",
       "      <th>BRL</th>\n",
       "      <td>3.707377</td>\n",
       "      <td>-0.010921</td>\n",
       "      <td>0.025162</td>\n",
       "      <td>0.072848</td>\n",
       "      <td>0.095531</td>\n",
       "      <td>0.063970</td>\n",
       "      <td>0.129417</td>\n",
       "    </tr>\n",
       "    <tr>\n",
       "      <th>CLP</th>\n",
       "      <td>0.023265</td>\n",
       "      <td>-0.020194</td>\n",
       "      <td>-0.011184</td>\n",
       "      <td>-0.010733</td>\n",
       "      <td>0.011122</td>\n",
       "      <td>-0.000184</td>\n",
       "      <td>-0.081241</td>\n",
       "    </tr>\n",
       "    <tr>\n",
       "      <th>COP</th>\n",
       "      <td>0.004839</td>\n",
       "      <td>0.007972</td>\n",
       "      <td>0.020223</td>\n",
       "      <td>0.020762</td>\n",
       "      <td>0.022345</td>\n",
       "      <td>0.022220</td>\n",
       "      <td>-0.027895</td>\n",
       "    </tr>\n",
       "    <tr>\n",
       "      <th>DKK</th>\n",
       "      <td>2.855972</td>\n",
       "      <td>0.000984</td>\n",
       "      <td>-0.000313</td>\n",
       "      <td>0.000048</td>\n",
       "      <td>0.005947</td>\n",
       "      <td>-0.012595</td>\n",
       "      <td>-0.016053</td>\n",
       "    </tr>\n",
       "    <tr>\n",
       "      <th>EGP</th>\n",
       "      <td>1.208572</td>\n",
       "      <td>0.010025</td>\n",
       "      <td>0.015217</td>\n",
       "      <td>0.010415</td>\n",
       "      <td>0.007296</td>\n",
       "      <td>0.035211</td>\n",
       "      <td>0.067040</td>\n",
       "    </tr>\n",
       "    <tr>\n",
       "      <th>HUF</th>\n",
       "      <td>0.057731</td>\n",
       "      <td>-0.017474</td>\n",
       "      <td>-0.032103</td>\n",
       "      <td>-0.026006</td>\n",
       "      <td>0.000434</td>\n",
       "      <td>-0.064637</td>\n",
       "      <td>-0.039067</td>\n",
       "    </tr>\n",
       "    <tr>\n",
       "      <th>IDR</th>\n",
       "      <td>0.001314</td>\n",
       "      <td>0.005369</td>\n",
       "      <td>0.008223</td>\n",
       "      <td>0.001517</td>\n",
       "      <td>-0.000902</td>\n",
       "      <td>0.037524</td>\n",
       "      <td>0.044449</td>\n",
       "    </tr>\n",
       "    <tr>\n",
       "      <th>INR</th>\n",
       "      <td>0.251828</td>\n",
       "      <td>0.001093</td>\n",
       "      <td>0.010915</td>\n",
       "      <td>0.001627</td>\n",
       "      <td>-0.003725</td>\n",
       "      <td>0.020520</td>\n",
       "      <td>0.028012</td>\n",
       "    </tr>\n",
       "    <tr>\n",
       "      <th>ISK</th>\n",
       "      <td>0.150213</td>\n",
       "      <td>-0.003229</td>\n",
       "      <td>-0.002991</td>\n",
       "      <td>0.028179</td>\n",
       "      <td>0.043597</td>\n",
       "      <td>0.036769</td>\n",
       "      <td>0.071913</td>\n",
       "    </tr>\n",
       "    <tr>\n",
       "      <th>KRW</th>\n",
       "      <td>0.015746</td>\n",
       "      <td>0.000086</td>\n",
       "      <td>0.009385</td>\n",
       "      <td>0.001751</td>\n",
       "      <td>-0.004851</td>\n",
       "      <td>0.006776</td>\n",
       "      <td>-0.016982</td>\n",
       "    </tr>\n",
       "    <tr>\n",
       "      <th>KWD</th>\n",
       "      <td>62.780769</td>\n",
       "      <td>0.009720</td>\n",
       "      <td>0.013618</td>\n",
       "      <td>0.008106</td>\n",
       "      <td>0.007743</td>\n",
       "      <td>0.030789</td>\n",
       "      <td>0.069842</td>\n",
       "    </tr>\n",
       "    <tr>\n",
       "      <th>KZT</th>\n",
       "      <td>0.040744</td>\n",
       "      <td>-0.055820</td>\n",
       "      <td>-0.071404</td>\n",
       "      <td>-0.060893</td>\n",
       "      <td>-0.069773</td>\n",
       "      <td>-0.054943</td>\n",
       "      <td>-0.051150</td>\n",
       "    </tr>\n",
       "    <tr>\n",
       "      <th>MXN</th>\n",
       "      <td>0.923483</td>\n",
       "      <td>-0.004822</td>\n",
       "      <td>0.002144</td>\n",
       "      <td>0.012186</td>\n",
       "      <td>0.060376</td>\n",
       "      <td>0.027819</td>\n",
       "      <td>0.061052</td>\n",
       "    </tr>\n",
       "    <tr>\n",
       "      <th>MYR</th>\n",
       "      <td>4.523027</td>\n",
       "      <td>0.007999</td>\n",
       "      <td>0.012300</td>\n",
       "      <td>0.007517</td>\n",
       "      <td>0.015187</td>\n",
       "      <td>0.036345</td>\n",
       "      <td>0.030305</td>\n",
       "    </tr>\n",
       "    <tr>\n",
       "      <th>PEN</th>\n",
       "      <td>5.007232</td>\n",
       "      <td>-0.005177</td>\n",
       "      <td>-0.002510</td>\n",
       "      <td>0.024025</td>\n",
       "      <td>0.050481</td>\n",
       "      <td>0.113140</td>\n",
       "      <td>0.028519</td>\n",
       "    </tr>\n",
       "    <tr>\n",
       "      <th>PHP</th>\n",
       "      <td>0.369454</td>\n",
       "      <td>0.005982</td>\n",
       "      <td>0.015961</td>\n",
       "      <td>0.002724</td>\n",
       "      <td>-0.015302</td>\n",
       "      <td>0.007024</td>\n",
       "      <td>0.014378</td>\n",
       "    </tr>\n",
       "    <tr>\n",
       "      <th>PKR</th>\n",
       "      <td>0.107928</td>\n",
       "      <td>0.011780</td>\n",
       "      <td>0.010371</td>\n",
       "      <td>0.012052</td>\n",
       "      <td>-0.002944</td>\n",
       "      <td>-0.022111</td>\n",
       "      <td>-0.036072</td>\n",
       "    </tr>\n",
       "    <tr>\n",
       "      <th>PLN</th>\n",
       "      <td>4.590598</td>\n",
       "      <td>-0.008238</td>\n",
       "      <td>-0.023492</td>\n",
       "      <td>-0.011102</td>\n",
       "      <td>0.017040</td>\n",
       "      <td>-0.024486</td>\n",
       "      <td>-0.042136</td>\n",
       "    </tr>\n",
       "    <tr>\n",
       "      <th>QAR</th>\n",
       "      <td>5.217730</td>\n",
       "      <td>0.011492</td>\n",
       "      <td>0.015705</td>\n",
       "      <td>0.010043</td>\n",
       "      <td>0.008481</td>\n",
       "      <td>0.037896</td>\n",
       "      <td>0.070727</td>\n",
       "    </tr>\n",
       "    <tr>\n",
       "      <th>RON</th>\n",
       "      <td>4.298601</td>\n",
       "      <td>0.000708</td>\n",
       "      <td>-0.001791</td>\n",
       "      <td>-0.000909</td>\n",
       "      <td>0.006608</td>\n",
       "      <td>-0.015241</td>\n",
       "      <td>-0.030488</td>\n",
       "    </tr>\n",
       "    <tr>\n",
       "      <th>SAR</th>\n",
       "      <td>5.067202</td>\n",
       "      <td>0.011417</td>\n",
       "      <td>0.016212</td>\n",
       "      <td>0.009676</td>\n",
       "      <td>0.008105</td>\n",
       "      <td>0.037452</td>\n",
       "      <td>0.070295</td>\n",
       "    </tr>\n",
       "    <tr>\n",
       "      <th>THB</th>\n",
       "      <td>0.584359</td>\n",
       "      <td>0.004458</td>\n",
       "      <td>0.003253</td>\n",
       "      <td>0.025739</td>\n",
       "      <td>0.036672</td>\n",
       "      <td>0.045514</td>\n",
       "      <td>-0.010326</td>\n",
       "    </tr>\n",
       "    <tr>\n",
       "      <th>TRY</th>\n",
       "      <td>1.351308</td>\n",
       "      <td>-0.005242</td>\n",
       "      <td>-0.022765</td>\n",
       "      <td>-0.031364</td>\n",
       "      <td>-0.140093</td>\n",
       "      <td>-0.381438</td>\n",
       "      <td>-0.454175</td>\n",
       "    </tr>\n",
       "    <tr>\n",
       "      <th>TWD</th>\n",
       "      <td>0.676588</td>\n",
       "      <td>0.004483</td>\n",
       "      <td>0.007226</td>\n",
       "      <td>-0.003243</td>\n",
       "      <td>-0.002525</td>\n",
       "      <td>0.032185</td>\n",
       "      <td>0.054811</td>\n",
       "    </tr>\n",
       "    <tr>\n",
       "      <th>UAH</th>\n",
       "      <td>0.640745</td>\n",
       "      <td>-0.006921</td>\n",
       "      <td>-0.038667</td>\n",
       "      <td>-0.031387</td>\n",
       "      <td>-0.089822</td>\n",
       "      <td>-0.069998</td>\n",
       "      <td>0.000739</td>\n",
       "    </tr>\n",
       "    <tr>\n",
       "      <th>VND</th>\n",
       "      <td>0.000831</td>\n",
       "      <td>0.010828</td>\n",
       "      <td>0.013120</td>\n",
       "      <td>0.000756</td>\n",
       "      <td>0.000837</td>\n",
       "      <td>0.035255</td>\n",
       "      <td>0.079165</td>\n",
       "    </tr>\n",
       "  </tbody>\n",
       "</table>\n",
       "</div>"
      ],
      "text/plain": [
       "     курс на 2022-02-25  % изм.день  % изм.неделя  % изм.месяц  % изм.квартал  \\\n",
       "AUD           13.594656    0.001831      0.011314     0.010004       0.006402   \n",
       "CAD           14.822130    0.005249      0.007109    -0.005376      -0.003176   \n",
       "HKD            2.431812    0.011036      0.014320     0.006957       0.006829   \n",
       "JPY            0.164250    0.005333      0.009175    -0.004958       0.003818   \n",
       "SEK            1.999832   -0.000059     -0.002122    -0.015875      -0.032739   \n",
       "USD           18.989928    0.011492      0.015566     0.010043       0.008343   \n",
       "CHF           20.505771    0.002183      0.008833     0.001149       0.018558   \n",
       "EUR           21.237333    0.000719     -0.000420    -0.000460       0.006426   \n",
       "CNY            3.001116    0.008623      0.016444     0.009237       0.017093   \n",
       "CZK            0.861308   -0.002589     -0.015177    -0.008079       0.039798   \n",
       "GBP           25.386846   -0.001759     -0.002957    -0.000446       0.012779   \n",
       "ILS            5.819283    0.002116     -0.001461    -0.016850      -0.023765   \n",
       "NOK            2.118906    0.003599      0.010288     0.005925       0.010440   \n",
       "NZD           12.698162   -0.001062      0.015070     0.009668      -0.014692   \n",
       "RUB            0.223523   -0.031719     -0.089709    -0.063700      -0.115130   \n",
       "SGD           14.011330    0.004714      0.006522     0.001723       0.018303   \n",
       "ZAR            1.238057   -0.004614     -0.007599     0.002949       0.059248   \n",
       "AED            5.171549    0.011520      0.015593     0.010070       0.008370   \n",
       "ARS            0.176854    0.010506      0.008766    -0.015934      -0.054463   \n",
       "BRL            3.707377   -0.010921      0.025162     0.072848       0.095531   \n",
       "CLP            0.023265   -0.020194     -0.011184    -0.010733       0.011122   \n",
       "COP            0.004839    0.007972      0.020223     0.020762       0.022345   \n",
       "DKK            2.855972    0.000984     -0.000313     0.000048       0.005947   \n",
       "EGP            1.208572    0.010025      0.015217     0.010415       0.007296   \n",
       "HUF            0.057731   -0.017474     -0.032103    -0.026006       0.000434   \n",
       "IDR            0.001314    0.005369      0.008223     0.001517      -0.000902   \n",
       "INR            0.251828    0.001093      0.010915     0.001627      -0.003725   \n",
       "ISK            0.150213   -0.003229     -0.002991     0.028179       0.043597   \n",
       "KRW            0.015746    0.000086      0.009385     0.001751      -0.004851   \n",
       "KWD           62.780769    0.009720      0.013618     0.008106       0.007743   \n",
       "KZT            0.040744   -0.055820     -0.071404    -0.060893      -0.069773   \n",
       "MXN            0.923483   -0.004822      0.002144     0.012186       0.060376   \n",
       "MYR            4.523027    0.007999      0.012300     0.007517       0.015187   \n",
       "PEN            5.007232   -0.005177     -0.002510     0.024025       0.050481   \n",
       "PHP            0.369454    0.005982      0.015961     0.002724      -0.015302   \n",
       "PKR            0.107928    0.011780      0.010371     0.012052      -0.002944   \n",
       "PLN            4.590598   -0.008238     -0.023492    -0.011102       0.017040   \n",
       "QAR            5.217730    0.011492      0.015705     0.010043       0.008481   \n",
       "RON            4.298601    0.000708     -0.001791    -0.000909       0.006608   \n",
       "SAR            5.067202    0.011417      0.016212     0.009676       0.008105   \n",
       "THB            0.584359    0.004458      0.003253     0.025739       0.036672   \n",
       "TRY            1.351308   -0.005242     -0.022765    -0.031364      -0.140093   \n",
       "TWD            0.676588    0.004483      0.007226    -0.003243      -0.002525   \n",
       "UAH            0.640745   -0.006921     -0.038667    -0.031387      -0.089822   \n",
       "VND            0.000831    0.010828      0.013120     0.000756       0.000837   \n",
       "\n",
       "     % изм.полгода  % изм.год  \n",
       "AUD       0.026485  -0.038603  \n",
       "CAD       0.027316   0.045502  \n",
       "HKD       0.034928   0.063156  \n",
       "JPY      -0.012220  -0.018908  \n",
       "SEK      -0.049337  -0.067881  \n",
       "USD       0.037754   0.070727  \n",
       "CHF       0.028752   0.048574  \n",
       "EUR      -0.012489  -0.015897  \n",
       "CNY       0.062388   0.091693  \n",
       "CZK       0.021526   0.037565  \n",
       "GBP       0.012608   0.011956  \n",
       "ILS       0.024532   0.067986  \n",
       "NOK       0.022251  -0.000227  \n",
       "NZD      -0.000783  -0.038189  \n",
       "RUB      -0.092690  -0.073489  \n",
       "SGD       0.036687   0.041998  \n",
       "ZAR       0.007639   0.011507  \n",
       "AED       0.037810   0.070785  \n",
       "ARS      -0.058309  -0.105898  \n",
       "BRL       0.063970   0.129417  \n",
       "CLP      -0.000184  -0.081241  \n",
       "COP       0.022220  -0.027895  \n",
       "DKK      -0.012595  -0.016053  \n",
       "EGP       0.035211   0.067040  \n",
       "HUF      -0.064637  -0.039067  \n",
       "IDR       0.037524   0.044449  \n",
       "INR       0.020520   0.028012  \n",
       "ISK       0.036769   0.071913  \n",
       "KRW       0.006776  -0.016982  \n",
       "KWD       0.030789   0.069842  \n",
       "KZT      -0.054943  -0.051150  \n",
       "MXN       0.027819   0.061052  \n",
       "MYR       0.036345   0.030305  \n",
       "PEN       0.113140   0.028519  \n",
       "PHP       0.007024   0.014378  \n",
       "PKR      -0.022111  -0.036072  \n",
       "PLN      -0.024486  -0.042136  \n",
       "QAR       0.037896   0.070727  \n",
       "RON      -0.015241  -0.030488  \n",
       "SAR       0.037452   0.070295  \n",
       "THB       0.045514  -0.010326  \n",
       "TRY      -0.381438  -0.454175  \n",
       "TWD       0.032185   0.054811  \n",
       "UAH      -0.069998   0.000739  \n",
       "VND       0.035255   0.079165  "
      ]
     },
     "execution_count": 2,
     "metadata": {},
     "output_type": "execute_result"
    }
   ],
   "source": [
    "data = pd.read_csv('../input/abscur-last/abscur_last.csv',index_col=0)\n",
    "data"
   ]
  },
  {
   "cell_type": "code",
   "execution_count": 3,
   "id": "83a05e84",
   "metadata": {
    "execution": {
     "iopub.execute_input": "2022-02-26T06:15:50.640389Z",
     "iopub.status.busy": "2022-02-26T06:15:50.639443Z",
     "iopub.status.idle": "2022-02-26T06:15:50.642817Z",
     "shell.execute_reply": "2022-02-26T06:15:50.643279Z",
     "shell.execute_reply.started": "2022-02-21T12:08:53.998299Z"
    },
    "papermill": {
     "duration": 0.023244,
     "end_time": "2022-02-26T06:15:50.643450",
     "exception": false,
     "start_time": "2022-02-26T06:15:50.620206",
     "status": "completed"
    },
    "tags": []
   },
   "outputs": [],
   "source": [
    "text = ''"
   ]
  },
  {
   "cell_type": "markdown",
   "id": "279e4df9",
   "metadata": {
    "papermill": {
     "duration": 0.016117,
     "end_time": "2022-02-26T06:15:50.676056",
     "exception": false,
     "start_time": "2022-02-26T06:15:50.659939",
     "status": "completed"
    },
    "tags": []
   },
   "source": [
    "# Функция отчета"
   ]
  },
  {
   "cell_type": "code",
   "execution_count": 4,
   "id": "8815e86e",
   "metadata": {
    "execution": {
     "iopub.execute_input": "2022-02-26T06:15:50.712998Z",
     "iopub.status.busy": "2022-02-26T06:15:50.712034Z",
     "iopub.status.idle": "2022-02-26T06:15:50.720375Z",
     "shell.execute_reply": "2022-02-26T06:15:50.720858Z",
     "shell.execute_reply.started": "2022-02-21T12:08:54.005698Z"
    },
    "papermill": {
     "duration": 0.028488,
     "end_time": "2022-02-26T06:15:50.721039",
     "exception": false,
     "start_time": "2022-02-26T06:15:50.692551",
     "status": "completed"
    },
    "tags": []
   },
   "outputs": [],
   "source": [
    "def get_rep(d):\n",
    "    d = d.copy()*100\n",
    "    d.sort_values(ascending=True,inplace=True)\n",
    "    _=d.plot.bar(figsize=(15,5),grid=True,title='Изменение (' + d.name + ')',ylabel='%')\n",
    "    plt.savefig(d.name + '.png',transparent=False,facecolor='white')\n",
    "    text = ''\n",
    "    text += 'самые упавшие: ' + ', '.join([cur + ' ' + str(np.round(izm,1)) + '%' for cur,izm in d.iloc[:3].reset_index().values]) + ';\\n'\n",
    "#     text += 'самые стабильные: ' + ', '.join([cur + ' ' + str(np.round(izm,2)) + '%' for cur,izm in d[abs(d).sort_values().index[:3].values].reset_index().values]) + ';\\n'\n",
    "    text += 'самые подросшие: ' + ', '.join([cur + ' ' + str(np.round(izm,1)) + '%' for cur,izm in d.iloc[-3:].reset_index().values]) + '.\\n'\n",
    "    return text"
   ]
  },
  {
   "cell_type": "markdown",
   "id": "74b4f792",
   "metadata": {
    "papermill": {
     "duration": 0.016222,
     "end_time": "2022-02-26T06:15:50.753840",
     "exception": false,
     "start_time": "2022-02-26T06:15:50.737618",
     "status": "completed"
    },
    "tags": []
   },
   "source": [
    "# Рейтинг за неделю"
   ]
  },
  {
   "cell_type": "code",
   "execution_count": 5,
   "id": "d2f81672",
   "metadata": {
    "execution": {
     "iopub.execute_input": "2022-02-26T06:15:50.790440Z",
     "iopub.status.busy": "2022-02-26T06:15:50.789490Z",
     "iopub.status.idle": "2022-02-26T06:15:51.669874Z",
     "shell.execute_reply": "2022-02-26T06:15:51.669268Z",
     "shell.execute_reply.started": "2022-02-21T12:08:54.827646Z"
    },
    "papermill": {
     "duration": 0.899742,
     "end_time": "2022-02-26T06:15:51.670011",
     "exception": false,
     "start_time": "2022-02-26T06:15:50.770269",
     "status": "completed"
    },
    "tags": []
   },
   "outputs": [
    {
     "name": "stdout",
     "output_type": "stream",
     "text": [
      "Рейтинг за неделю:\n",
      "самые упавшие: RUB -9.0%, KZT -7.1%, UAH -3.9%;\n",
      "самые подросшие: CNY 1.6%, COP 2.0%, BRL 2.5%.\n",
      "\n"
     ]
    },
    {
     "data": {
      "image/png": "[encoded data removed]",
      "text/plain": [
       "<Figure size 1080x360 with 1 Axes>"
      ]
     },
     "metadata": {
      "needs_background": "light"
     },
     "output_type": "display_data"
    }
   ],
   "source": [
    "res = 'Рейтинг за неделю:\\n' + get_rep(data.iloc[:,2])\n",
    "print(res)\n",
    "text += res"
   ]
  },
  {
   "cell_type": "markdown",
   "id": "0e2535ea",
   "metadata": {
    "papermill": {
     "duration": 0.019174,
     "end_time": "2022-02-26T06:15:51.707124",
     "exception": false,
     "start_time": "2022-02-26T06:15:51.687950",
     "status": "completed"
    },
    "tags": []
   },
   "source": [
    "# Рейтинг за месяц"
   ]
  },
  {
   "cell_type": "code",
   "execution_count": 6,
   "id": "3cfe71b4",
   "metadata": {
    "execution": {
     "iopub.execute_input": "2022-02-26T06:15:51.768092Z",
     "iopub.status.busy": "2022-02-26T06:15:51.767102Z",
     "iopub.status.idle": "2022-02-26T06:15:52.476295Z",
     "shell.execute_reply": "2022-02-26T06:15:52.476773Z",
     "shell.execute_reply.started": "2022-02-21T12:08:55.559202Z"
    },
    "papermill": {
     "duration": 0.752087,
     "end_time": "2022-02-26T06:15:52.476961",
     "exception": false,
     "start_time": "2022-02-26T06:15:51.724874",
     "status": "completed"
    },
    "tags": []
   },
   "outputs": [
    {
     "name": "stdout",
     "output_type": "stream",
     "text": [
      "Рейтинг за месяц:\n",
      "самые упавшие: RUB -6.4%, KZT -6.1%, UAH -3.1%;\n",
      "самые подросшие: THB 2.6%, ISK 2.8%, BRL 7.3%.\n",
      "\n"
     ]
    },
    {
     "data": {
      "image/png": "[encoded data removed]",
      "text/plain": [
       "<Figure size 1080x360 with 1 Axes>"
      ]
     },
     "metadata": {
      "needs_background": "light"
     },
     "output_type": "display_data"
    }
   ],
   "source": [
    "res = 'Рейтинг за месяц:\\n' + get_rep(data.iloc[:,3])\n",
    "print(res)\n",
    "text += res"
   ]
  },
  {
   "cell_type": "markdown",
   "id": "31e8f947",
   "metadata": {
    "papermill": {
     "duration": 0.018868,
     "end_time": "2022-02-26T06:15:52.515219",
     "exception": false,
     "start_time": "2022-02-26T06:15:52.496351",
     "status": "completed"
    },
    "tags": []
   },
   "source": [
    "# Рейтинг за квартал"
   ]
  },
  {
   "cell_type": "code",
   "execution_count": 7,
   "id": "af88c7a2",
   "metadata": {
    "execution": {
     "iopub.execute_input": "2022-02-26T06:15:52.556863Z",
     "iopub.status.busy": "2022-02-26T06:15:52.556245Z",
     "iopub.status.idle": "2022-02-26T06:15:53.275328Z",
     "shell.execute_reply": "2022-02-26T06:15:53.275780Z",
     "shell.execute_reply.started": "2022-02-21T12:08:56.287765Z"
    },
    "papermill": {
     "duration": 0.741522,
     "end_time": "2022-02-26T06:15:53.275960",
     "exception": false,
     "start_time": "2022-02-26T06:15:52.534438",
     "status": "completed"
    },
    "tags": []
   },
   "outputs": [
    {
     "name": "stdout",
     "output_type": "stream",
     "text": [
      "Рейтинг за квартал:\n",
      "самые упавшие: TRY -14.0%, RUB -11.5%, UAH -9.0%;\n",
      "самые подросшие: ZAR 5.9%, MXN 6.0%, BRL 9.6%.\n",
      "\n"
     ]
    },
    {
     "data": {
      "image/png": "[encoded data removed]",
      "text/plain": [
       "<Figure size 1080x360 with 1 Axes>"
      ]
     },
     "metadata": {
      "needs_background": "light"
     },
     "output_type": "display_data"
    }
   ],
   "source": [
    "res = 'Рейтинг за квартал:\\n' + get_rep(data.iloc[:,4])\n",
    "print(res)\n",
    "text += res"
   ]
  },
  {
   "cell_type": "markdown",
   "id": "a8c7d69b",
   "metadata": {
    "papermill": {
     "duration": 0.020388,
     "end_time": "2022-02-26T06:15:53.317073",
     "exception": false,
     "start_time": "2022-02-26T06:15:53.296685",
     "status": "completed"
    },
    "tags": []
   },
   "source": [
    "# Рейтинг за полгода"
   ]
  },
  {
   "cell_type": "code",
   "execution_count": 8,
   "id": "a39bc869",
   "metadata": {
    "execution": {
     "iopub.execute_input": "2022-02-26T06:15:53.365352Z",
     "iopub.status.busy": "2022-02-26T06:15:53.364339Z",
     "iopub.status.idle": "2022-02-26T06:15:54.078559Z",
     "shell.execute_reply": "2022-02-26T06:15:54.077850Z",
     "shell.execute_reply.started": "2022-02-21T12:08:57.001948Z"
    },
    "papermill": {
     "duration": 0.740979,
     "end_time": "2022-02-26T06:15:54.078717",
     "exception": false,
     "start_time": "2022-02-26T06:15:53.337738",
     "status": "completed"
    },
    "tags": []
   },
   "outputs": [
    {
     "name": "stdout",
     "output_type": "stream",
     "text": [
      "Рейтинг за полгода:\n",
      "самые упавшие: TRY -38.1%, RUB -9.3%, UAH -7.0%;\n",
      "самые подросшие: CNY 6.2%, BRL 6.4%, PEN 11.3%.\n",
      "\n"
     ]
    },
    {
     "data": {
      "image/png": "[encoded data removed]",
      "text/plain": [
       "<Figure size 1080x360 with 1 Axes>"
      ]
     },
     "metadata": {
      "needs_background": "light"
     },
     "output_type": "display_data"
    }
   ],
   "source": [
    "res = 'Рейтинг за полгода:\\n' + get_rep(data.iloc[:,5])\n",
    "print(res)\n",
    "text += res"
   ]
  },
  {
   "cell_type": "markdown",
   "id": "6d22f71e",
   "metadata": {
    "papermill": {
     "duration": 0.021308,
     "end_time": "2022-02-26T06:15:54.122017",
     "exception": false,
     "start_time": "2022-02-26T06:15:54.100709",
     "status": "completed"
    },
    "tags": []
   },
   "source": [
    "# Рейтинг за год"
   ]
  },
  {
   "cell_type": "code",
   "execution_count": 9,
   "id": "8d8cd186",
   "metadata": {
    "execution": {
     "iopub.execute_input": "2022-02-26T06:15:54.169277Z",
     "iopub.status.busy": "2022-02-26T06:15:54.168307Z",
     "iopub.status.idle": "2022-02-26T06:15:54.886089Z",
     "shell.execute_reply": "2022-02-26T06:15:54.886591Z",
     "shell.execute_reply.started": "2022-02-21T12:08:57.7286Z"
    },
    "papermill": {
     "duration": 0.742981,
     "end_time": "2022-02-26T06:15:54.886772",
     "exception": false,
     "start_time": "2022-02-26T06:15:54.143791",
     "status": "completed"
    },
    "tags": []
   },
   "outputs": [
    {
     "name": "stdout",
     "output_type": "stream",
     "text": [
      "Рейтинг за год:\n",
      "самые упавшие: TRY -45.4%, ARS -10.6%, CLP -8.1%;\n",
      "самые подросшие: VND 7.9%, CNY 9.2%, BRL 12.9%.\n",
      "\n"
     ]
    },
    {
     "data": {
      "image/png": "[encoded data removed]",
      "text/plain": [
       "<Figure size 1080x360 with 1 Axes>"
      ]
     },
     "metadata": {
      "needs_background": "light"
     },
     "output_type": "display_data"
    }
   ],
   "source": [
    "res = 'Рейтинг за год:\\n' + get_rep(data.iloc[:,6])\n",
    "print(res)\n",
    "text += res"
   ]
  },
  {
   "cell_type": "markdown",
   "id": "4f53063c",
   "metadata": {
    "papermill": {
     "duration": 0.022725,
     "end_time": "2022-02-26T06:15:54.932539",
     "exception": false,
     "start_time": "2022-02-26T06:15:54.909814",
     "status": "completed"
    },
    "tags": []
   },
   "source": [
    "# Публикация по каналам проекта"
   ]
  },
  {
   "cell_type": "code",
   "execution_count": 10,
   "id": "fa7c957e",
   "metadata": {
    "execution": {
     "iopub.execute_input": "2022-02-26T06:15:54.985953Z",
     "iopub.status.busy": "2022-02-26T06:15:54.985301Z",
     "iopub.status.idle": "2022-02-26T06:15:54.988381Z",
     "shell.execute_reply": "2022-02-26T06:15:54.988869Z",
     "shell.execute_reply.started": "2022-02-21T12:08:58.464733Z"
    },
    "papermill": {
     "duration": 0.033195,
     "end_time": "2022-02-26T06:15:54.989032",
     "exception": false,
     "start_time": "2022-02-26T06:15:54.955837",
     "status": "completed"
    },
    "tags": []
   },
   "outputs": [
    {
     "name": "stdout",
     "output_type": "stream",
     "text": [
      "Рейтинг роста и падения абсолютных курсов на 2022-02-25\n",
      "\n",
      "Рейтинг за неделю:\n",
      "самые упавшие: RUB -9.0%, KZT -7.1%, UAH -3.9%;\n",
      "самые подросшие: CNY 1.6%, COP 2.0%, BRL 2.5%.\n",
      "Рейтинг за месяц:\n",
      "самые упавшие: RUB -6.4%, KZT -6.1%, UAH -3.1%;\n",
      "самые подросшие: THB 2.6%, ISK 2.8%, BRL 7.3%.\n",
      "Рейтинг за квартал:\n",
      "самые упавшие: TRY -14.0%, RUB -11.5%, UAH -9.0%;\n",
      "самые подросшие: ZAR 5.9%, MXN 6.0%, BRL 9.6%.\n",
      "Рейтинг за полгода:\n",
      "самые упавшие: TRY -38.1%, RUB -9.3%, UAH -7.0%;\n",
      "самые подросшие: CNY 6.2%, BRL 6.4%, PEN 11.3%.\n",
      "Рейтинг за год:\n",
      "самые упавшие: TRY -45.4%, ARS -10.6%, CLP -8.1%;\n",
      "самые подросшие: VND 7.9%, CNY 9.2%, BRL 12.9%.\n",
      "\n",
      "\n",
      "https://www.kaggle.com/eavprog/abscur-rate-up-down\n"
     ]
    }
   ],
   "source": [
    "title = 'Рейтинг роста и падения абсолютных курсов на ' + str(data.columns[0])[-10:]\n",
    "message = text\n",
    "link = 'https://www.kaggle.com/eavprog/abscur-rate-up-down'\n",
    "print(title + '\\n\\n' + message + '\\n\\n' + link)"
   ]
  },
  {
   "cell_type": "code",
   "execution_count": 11,
   "id": "61bdc075",
   "metadata": {
    "execution": {
     "iopub.execute_input": "2022-02-26T06:15:55.040325Z",
     "iopub.status.busy": "2022-02-26T06:15:55.039365Z",
     "iopub.status.idle": "2022-02-26T06:15:55.043421Z",
     "shell.execute_reply": "2022-02-26T06:15:55.043892Z",
     "shell.execute_reply.started": "2022-02-21T12:08:58.472306Z"
    },
    "papermill": {
     "duration": 0.031474,
     "end_time": "2022-02-26T06:15:55.044059",
     "exception": false,
     "start_time": "2022-02-26T06:15:55.012585",
     "status": "completed"
    },
    "tags": []
   },
   "outputs": [],
   "source": [
    "if(date.today().toordinal() % 3 == 0):\n",
    "    lib_abscur_post.postToChanels(title, message, link)"
   ]
  }
 ],
 "metadata": {
  "kernelspec": {
   "display_name": "Python 3",
   "language": "python",
   "name": "python3"
  },
  "language_info": {
   "codemirror_mode": {
    "name": "ipython",
    "version": 3
   },
   "file_extension": ".py",
   "mimetype": "text/x-python",
   "name": "python",
   "nbconvert_exporter": "python",
   "pygments_lexer": "ipython3",
   "version": "3.7.12"
  },
  "papermill": {
   "default_parameters": {},
   "duration": 15.2629,
   "end_time": "2022-02-26T06:15:55.678735",
   "environment_variables": {},
   "exception": null,
   "input_path": "__notebook__.ipynb",
   "output_path": "__notebook__.ipynb",
   "parameters": {},
   "start_time": "2022-02-26T06:15:40.415835",
   "version": "2.3.3"
  }
 },
 "nbformat": 4,
 "nbformat_minor": 5
}
