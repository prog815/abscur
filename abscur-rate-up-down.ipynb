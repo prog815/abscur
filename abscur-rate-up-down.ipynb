{
 "cells": [
  {
   "cell_type": "markdown",
   "id": "09b56965",
   "metadata": {
    "papermill": {
     "duration": 0.011988,
     "end_time": "2022-01-15T17:13:55.965448",
     "exception": false,
     "start_time": "2022-01-15T17:13:55.953460",
     "status": "completed"
    },
    "tags": []
   },
   "source": [
    "# Рейтинг роста и падения абсолютных курсов валют"
   ]
  },
  {
   "cell_type": "markdown",
   "id": "f70f53d4",
   "metadata": {
    "papermill": {
     "duration": 0.011005,
     "end_time": "2022-01-15T17:13:55.987298",
     "exception": false,
     "start_time": "2022-01-15T17:13:55.976293",
     "status": "completed"
    },
    "tags": []
   },
   "source": [
    "Проект:\t**Абсолютный курс**\n",
    "\t\n",
    "сайт\thttp://www.abscur.ru\n",
    "\n",
    "ВКонтакте\thttps://vk.com/abscur\n",
    "\n",
    "FaceBook\thttps://www.facebook.com/abscur\n",
    "\n",
    "WhatsUp\thttps://chat.whatsapp.com/KrNJXAKizPxDlDSjYfdpQs\n",
    "\n",
    "Viber\thttps://invite.viber.com/?g2=AQB63y7Cm%2BNJK0tNZW%2F9kI00M6Wr8HuZ7XeamzN4jZCve8Aq9%2FiD3DY56Eqcf7dc\n",
    "\n",
    "Telegram\thttps://t.me/AbsCur\n",
    "\n",
    "Одноклассники\thttps://ok.ru/group/53547043520717\n",
    "\n",
    "Twitter\thttps://twitter.com/abscurs\n",
    "\n",
    "GitHub\thttps://github.com/prog815/abscur\n",
    "\n",
    "YouTube\thttps://www.youtube.com/playlist?list=PLG1V24vhSKo6MamGtgm2oTkDZHeHBHNFW"
   ]
  },
  {
   "cell_type": "markdown",
   "id": "1d32d851",
   "metadata": {
    "papermill": {
     "duration": 0.009506,
     "end_time": "2022-01-15T17:13:56.006754",
     "exception": false,
     "start_time": "2022-01-15T17:13:55.997248",
     "status": "completed"
    },
    "tags": []
   },
   "source": [
    "# Загрузка библиотек"
   ]
  },
  {
   "cell_type": "code",
   "execution_count": 1,
   "id": "b4f02ff1",
   "metadata": {
    "_cell_guid": "b1076dfc-b9ad-4769-8c92-a6c4dae69d19",
    "_uuid": "8f2839f25d086af736a60e9eeb907d3b93b6e0e5",
    "execution": {
     "iopub.execute_input": "2022-01-15T17:13:56.035707Z",
     "iopub.status.busy": "2022-01-15T17:13:56.034912Z",
     "iopub.status.idle": "2022-01-15T17:13:56.045983Z",
     "shell.execute_reply": "2022-01-15T17:13:56.046473Z",
     "shell.execute_reply.started": "2022-01-15T15:58:38.300758Z"
    },
    "papermill": {
     "duration": 0.030258,
     "end_time": "2022-01-15T17:13:56.046804",
     "exception": false,
     "start_time": "2022-01-15T17:13:56.016546",
     "status": "completed"
    },
    "tags": []
   },
   "outputs": [],
   "source": [
    "import pandas as pd\n",
    "import numpy as np\n",
    "import lib_abscur_post\n",
    "from datetime import date"
   ]
  },
  {
   "cell_type": "markdown",
   "id": "7e659180",
   "metadata": {
    "papermill": {
     "duration": 0.009979,
     "end_time": "2022-01-15T17:13:56.067030",
     "exception": false,
     "start_time": "2022-01-15T17:13:56.057051",
     "status": "completed"
    },
    "tags": []
   },
   "source": [
    "# Стоимость Абса в выражении различных валют"
   ]
  },
  {
   "cell_type": "code",
   "execution_count": 2,
   "id": "ac7b2524",
   "metadata": {
    "execution": {
     "iopub.execute_input": "2022-01-15T17:13:56.092156Z",
     "iopub.status.busy": "2022-01-15T17:13:56.090332Z",
     "iopub.status.idle": "2022-01-15T17:13:56.139953Z",
     "shell.execute_reply": "2022-01-15T17:13:56.140453Z",
     "shell.execute_reply.started": "2022-01-15T15:58:38.349088Z"
    },
    "papermill": {
     "duration": 0.063596,
     "end_time": "2022-01-15T17:13:56.140633",
     "exception": false,
     "start_time": "2022-01-15T17:13:56.077037",
     "status": "completed"
    },
    "tags": []
   },
   "outputs": [
    {
     "data": {
      "text/html": [
       "<div>\n",
       "<style scoped>\n",
       "    .dataframe tbody tr th:only-of-type {\n",
       "        vertical-align: middle;\n",
       "    }\n",
       "\n",
       "    .dataframe tbody tr th {\n",
       "        vertical-align: top;\n",
       "    }\n",
       "\n",
       "    .dataframe thead th {\n",
       "        text-align: right;\n",
       "    }\n",
       "</style>\n",
       "<table border=\"1\" class=\"dataframe\">\n",
       "  <thead>\n",
       "    <tr style=\"text-align: right;\">\n",
       "      <th></th>\n",
       "      <th>курс на 2022-01-14</th>\n",
       "      <th>% изм.день</th>\n",
       "      <th>% изм.неделя</th>\n",
       "      <th>% изм.месяц</th>\n",
       "      <th>% изм.квартал</th>\n",
       "      <th>% изм.полгода</th>\n",
       "      <th>% изм.год</th>\n",
       "    </tr>\n",
       "  </thead>\n",
       "  <tbody>\n",
       "    <tr>\n",
       "      <th>AUD</th>\n",
       "      <td>13.600379</td>\n",
       "      <td>0.000964</td>\n",
       "      <td>0.006587</td>\n",
       "      <td>0.010235</td>\n",
       "      <td>-0.001494</td>\n",
       "      <td>0.006647</td>\n",
       "      <td>-0.012992</td>\n",
       "    </tr>\n",
       "    <tr>\n",
       "      <th>CAD</th>\n",
       "      <td>14.934449</td>\n",
       "      <td>0.000777</td>\n",
       "      <td>0.007825</td>\n",
       "      <td>0.014127</td>\n",
       "      <td>0.005898</td>\n",
       "      <td>0.033238</td>\n",
       "      <td>0.065879</td>\n",
       "    </tr>\n",
       "    <tr>\n",
       "      <th>HKD</th>\n",
       "      <td>2.398466</td>\n",
       "      <td>0.001645</td>\n",
       "      <td>-0.008176</td>\n",
       "      <td>-0.012477</td>\n",
       "      <td>0.015563</td>\n",
       "      <td>0.023648</td>\n",
       "      <td>0.046198</td>\n",
       "    </tr>\n",
       "    <tr>\n",
       "      <th>JPY</th>\n",
       "      <td>0.163673</td>\n",
       "      <td>0.006106</td>\n",
       "      <td>0.005520</td>\n",
       "      <td>-0.017287</td>\n",
       "      <td>0.014242</td>\n",
       "      <td>-0.012703</td>\n",
       "      <td>-0.044562</td>\n",
       "    </tr>\n",
       "    <tr>\n",
       "      <th>SEK</th>\n",
       "      <td>2.092200</td>\n",
       "      <td>0.002304</td>\n",
       "      <td>0.013985</td>\n",
       "      <td>0.008537</td>\n",
       "      <td>-0.016807</td>\n",
       "      <td>-0.004166</td>\n",
       "      <td>-0.021255</td>\n",
       "    </tr>\n",
       "    <tr>\n",
       "      <th>USD</th>\n",
       "      <td>18.677397</td>\n",
       "      <td>0.001050</td>\n",
       "      <td>-0.010013</td>\n",
       "      <td>-0.014215</td>\n",
       "      <td>0.016651</td>\n",
       "      <td>0.026268</td>\n",
       "      <td>0.050146</td>\n",
       "    </tr>\n",
       "    <tr>\n",
       "      <th>CHF</th>\n",
       "      <td>20.500648</td>\n",
       "      <td>0.004488</td>\n",
       "      <td>0.001431</td>\n",
       "      <td>0.000037</td>\n",
       "      <td>0.031530</td>\n",
       "      <td>0.034011</td>\n",
       "      <td>0.022757</td>\n",
       "    </tr>\n",
       "    <tr>\n",
       "      <th>EUR</th>\n",
       "      <td>21.396851</td>\n",
       "      <td>0.002769</td>\n",
       "      <td>0.004424</td>\n",
       "      <td>0.003184</td>\n",
       "      <td>0.004892</td>\n",
       "      <td>-0.004554</td>\n",
       "      <td>-0.010369</td>\n",
       "    </tr>\n",
       "    <tr>\n",
       "      <th>CNY</th>\n",
       "      <td>2.939280</td>\n",
       "      <td>0.001125</td>\n",
       "      <td>-0.006084</td>\n",
       "      <td>-0.012937</td>\n",
       "      <td>0.029947</td>\n",
       "      <td>0.042780</td>\n",
       "      <td>0.068227</td>\n",
       "    </tr>\n",
       "    <tr>\n",
       "      <th>CZK</th>\n",
       "      <td>0.873106</td>\n",
       "      <td>-0.008339</td>\n",
       "      <td>0.001208</td>\n",
       "      <td>0.029821</td>\n",
       "      <td>0.040316</td>\n",
       "      <td>0.032627</td>\n",
       "      <td>0.055614</td>\n",
       "    </tr>\n",
       "    <tr>\n",
       "      <th>GBP</th>\n",
       "      <td>25.611412</td>\n",
       "      <td>0.001501</td>\n",
       "      <td>0.003283</td>\n",
       "      <td>0.021775</td>\n",
       "      <td>0.019936</td>\n",
       "      <td>0.017697</td>\n",
       "      <td>0.055125</td>\n",
       "    </tr>\n",
       "    <tr>\n",
       "      <th>ILS</th>\n",
       "      <td>6.004904</td>\n",
       "      <td>-0.001439</td>\n",
       "      <td>-0.009046</td>\n",
       "      <td>-0.005424</td>\n",
       "      <td>0.052423</td>\n",
       "      <td>0.080684</td>\n",
       "      <td>0.056132</td>\n",
       "    </tr>\n",
       "    <tr>\n",
       "      <th>NOK</th>\n",
       "      <td>2.145573</td>\n",
       "      <td>-0.004243</td>\n",
       "      <td>0.010845</td>\n",
       "      <td>0.029975</td>\n",
       "      <td>-0.012868</td>\n",
       "      <td>0.040242</td>\n",
       "      <td>0.020848</td>\n",
       "    </tr>\n",
       "    <tr>\n",
       "      <th>NZD</th>\n",
       "      <td>12.814958</td>\n",
       "      <td>0.003322</td>\n",
       "      <td>0.007853</td>\n",
       "      <td>0.003981</td>\n",
       "      <td>-0.008639</td>\n",
       "      <td>0.004312</td>\n",
       "      <td>0.001867</td>\n",
       "    </tr>\n",
       "    <tr>\n",
       "      <th>RUB</th>\n",
       "      <td>0.244740</td>\n",
       "      <td>-0.021681</td>\n",
       "      <td>-0.009204</td>\n",
       "      <td>-0.046631</td>\n",
       "      <td>-0.049088</td>\n",
       "      <td>0.000260</td>\n",
       "      <td>0.016514</td>\n",
       "    </tr>\n",
       "    <tr>\n",
       "      <th>SGD</th>\n",
       "      <td>13.875356</td>\n",
       "      <td>0.001239</td>\n",
       "      <td>0.001136</td>\n",
       "      <td>0.003302</td>\n",
       "      <td>0.018703</td>\n",
       "      <td>0.032752</td>\n",
       "      <td>0.034186</td>\n",
       "    </tr>\n",
       "    <tr>\n",
       "      <th>ZAR</th>\n",
       "      <td>1.213822</td>\n",
       "      <td>-0.005794</td>\n",
       "      <td>0.010161</td>\n",
       "      <td>0.029652</td>\n",
       "      <td>-0.025463</td>\n",
       "      <td>-0.030538</td>\n",
       "      <td>0.040672</td>\n",
       "    </tr>\n",
       "    <tr>\n",
       "      <th>AED</th>\n",
       "      <td>5.086298</td>\n",
       "      <td>0.001050</td>\n",
       "      <td>-0.010013</td>\n",
       "      <td>-0.014215</td>\n",
       "      <td>0.016679</td>\n",
       "      <td>0.026296</td>\n",
       "      <td>0.050174</td>\n",
       "    </tr>\n",
       "    <tr>\n",
       "      <th>ARS</th>\n",
       "      <td>0.180008</td>\n",
       "      <td>0.000054</td>\n",
       "      <td>-0.015022</td>\n",
       "      <td>-0.033511</td>\n",
       "      <td>-0.029422</td>\n",
       "      <td>-0.048600</td>\n",
       "      <td>-0.134071</td>\n",
       "    </tr>\n",
       "    <tr>\n",
       "      <th>BRL</th>\n",
       "      <td>3.379484</td>\n",
       "      <td>0.002227</td>\n",
       "      <td>0.017877</td>\n",
       "      <td>0.013236</td>\n",
       "      <td>0.013984</td>\n",
       "      <td>-0.051110</td>\n",
       "      <td>0.006595</td>\n",
       "    </tr>\n",
       "    <tr>\n",
       "      <th>CLP</th>\n",
       "      <td>0.022889</td>\n",
       "      <td>0.009539</td>\n",
       "      <td>0.015586</td>\n",
       "      <td>0.018101</td>\n",
       "      <td>0.028388</td>\n",
       "      <td>-0.048627</td>\n",
       "      <td>-0.051137</td>\n",
       "    </tr>\n",
       "    <tr>\n",
       "      <th>COP</th>\n",
       "      <td>0.004710</td>\n",
       "      <td>0.004097</td>\n",
       "      <td>0.006357</td>\n",
       "      <td>-0.023813</td>\n",
       "      <td>-0.035592</td>\n",
       "      <td>-0.015750</td>\n",
       "      <td>-0.079571</td>\n",
       "    </tr>\n",
       "    <tr>\n",
       "      <th>DKK</th>\n",
       "      <td>2.875507</td>\n",
       "      <td>0.002204</td>\n",
       "      <td>0.003775</td>\n",
       "      <td>0.002458</td>\n",
       "      <td>0.004797</td>\n",
       "      <td>-0.005152</td>\n",
       "      <td>-0.011104</td>\n",
       "    </tr>\n",
       "    <tr>\n",
       "      <th>EGP</th>\n",
       "      <td>1.191892</td>\n",
       "      <td>0.002386</td>\n",
       "      <td>-0.008988</td>\n",
       "      <td>-0.012024</td>\n",
       "      <td>0.018028</td>\n",
       "      <td>0.026551</td>\n",
       "      <td>0.047339</td>\n",
       "    </tr>\n",
       "    <tr>\n",
       "      <th>HUF</th>\n",
       "      <td>0.060372</td>\n",
       "      <td>-0.002099</td>\n",
       "      <td>0.020281</td>\n",
       "      <td>0.039546</td>\n",
       "      <td>0.016905</td>\n",
       "      <td>0.006043</td>\n",
       "      <td>0.005635</td>\n",
       "    </tr>\n",
       "    <tr>\n",
       "      <th>IDR</th>\n",
       "      <td>0.001308</td>\n",
       "      <td>0.002655</td>\n",
       "      <td>-0.000859</td>\n",
       "      <td>-0.009623</td>\n",
       "      <td>0.002587</td>\n",
       "      <td>0.046900</td>\n",
       "      <td>0.042054</td>\n",
       "    </tr>\n",
       "    <tr>\n",
       "      <th>INR</th>\n",
       "      <td>0.252492</td>\n",
       "      <td>-0.001294</td>\n",
       "      <td>-0.004031</td>\n",
       "      <td>0.013436</td>\n",
       "      <td>0.030707</td>\n",
       "      <td>0.034102</td>\n",
       "      <td>0.038754</td>\n",
       "    </tr>\n",
       "    <tr>\n",
       "      <th>ISK</th>\n",
       "      <td>0.145712</td>\n",
       "      <td>0.001206</td>\n",
       "      <td>-0.001208</td>\n",
       "      <td>0.001935</td>\n",
       "      <td>0.021410</td>\n",
       "      <td>-0.013444</td>\n",
       "      <td>0.051129</td>\n",
       "    </tr>\n",
       "    <tr>\n",
       "      <th>KRW</th>\n",
       "      <td>0.015740</td>\n",
       "      <td>0.000434</td>\n",
       "      <td>0.005981</td>\n",
       "      <td>-0.016192</td>\n",
       "      <td>0.012813</td>\n",
       "      <td>-0.013940</td>\n",
       "      <td>-0.029062</td>\n",
       "    </tr>\n",
       "    <tr>\n",
       "      <th>KWD</th>\n",
       "      <td>61.964689</td>\n",
       "      <td>0.002378</td>\n",
       "      <td>-0.007550</td>\n",
       "      <td>-0.011173</td>\n",
       "      <td>0.016112</td>\n",
       "      <td>0.022114</td>\n",
       "      <td>0.054535</td>\n",
       "    </tr>\n",
       "    <tr>\n",
       "      <th>KZT</th>\n",
       "      <td>0.043185</td>\n",
       "      <td>-0.000176</td>\n",
       "      <td>-0.009261</td>\n",
       "      <td>-0.008570</td>\n",
       "      <td>-0.004795</td>\n",
       "      <td>0.004955</td>\n",
       "      <td>0.011344</td>\n",
       "    </tr>\n",
       "    <tr>\n",
       "      <th>MXN</th>\n",
       "      <td>0.918545</td>\n",
       "      <td>0.002486</td>\n",
       "      <td>-0.002251</td>\n",
       "      <td>0.028701</td>\n",
       "      <td>0.027058</td>\n",
       "      <td>0.005863</td>\n",
       "      <td>0.024461</td>\n",
       "    </tr>\n",
       "    <tr>\n",
       "      <th>MYR</th>\n",
       "      <td>4.473628</td>\n",
       "      <td>0.003088</td>\n",
       "      <td>-0.001477</td>\n",
       "      <td>-0.000993</td>\n",
       "      <td>0.011172</td>\n",
       "      <td>0.031922</td>\n",
       "      <td>0.016692</td>\n",
       "    </tr>\n",
       "    <tr>\n",
       "      <th>PEN</th>\n",
       "      <td>4.805093</td>\n",
       "      <td>0.002852</td>\n",
       "      <td>0.009853</td>\n",
       "      <td>0.027504</td>\n",
       "      <td>0.024498</td>\n",
       "      <td>0.045278</td>\n",
       "      <td>-0.023881</td>\n",
       "    </tr>\n",
       "    <tr>\n",
       "      <th>PHP</th>\n",
       "      <td>0.364473</td>\n",
       "      <td>-0.003736</td>\n",
       "      <td>-0.003734</td>\n",
       "      <td>-0.031143</td>\n",
       "      <td>0.007922</td>\n",
       "      <td>0.006702</td>\n",
       "      <td>-0.017869</td>\n",
       "    </tr>\n",
       "    <tr>\n",
       "      <th>PKR</th>\n",
       "      <td>0.106122</td>\n",
       "      <td>0.000481</td>\n",
       "      <td>-0.006357</td>\n",
       "      <td>-0.005253</td>\n",
       "      <td>-0.018007</td>\n",
       "      <td>-0.072277</td>\n",
       "      <td>-0.045322</td>\n",
       "    </tr>\n",
       "    <tr>\n",
       "      <th>PLN</th>\n",
       "      <td>4.717944</td>\n",
       "      <td>-0.000751</td>\n",
       "      <td>0.007939</td>\n",
       "      <td>0.023446</td>\n",
       "      <td>0.013169</td>\n",
       "      <td>0.004502</td>\n",
       "      <td>-0.010556</td>\n",
       "    </tr>\n",
       "    <tr>\n",
       "      <th>QAR</th>\n",
       "      <td>5.131153</td>\n",
       "      <td>0.000912</td>\n",
       "      <td>-0.010013</td>\n",
       "      <td>-0.014215</td>\n",
       "      <td>0.016651</td>\n",
       "      <td>0.026268</td>\n",
       "      <td>0.050290</td>\n",
       "    </tr>\n",
       "    <tr>\n",
       "      <th>RON</th>\n",
       "      <td>4.333804</td>\n",
       "      <td>0.002606</td>\n",
       "      <td>0.004045</td>\n",
       "      <td>0.004541</td>\n",
       "      <td>0.006154</td>\n",
       "      <td>-0.007451</td>\n",
       "      <td>-0.025002</td>\n",
       "    </tr>\n",
       "    <tr>\n",
       "      <th>SAR</th>\n",
       "      <td>4.981997</td>\n",
       "      <td>0.001177</td>\n",
       "      <td>-0.009775</td>\n",
       "      <td>-0.014708</td>\n",
       "      <td>0.015985</td>\n",
       "      <td>0.025615</td>\n",
       "      <td>0.049867</td>\n",
       "    </tr>\n",
       "    <tr>\n",
       "      <th>THB</th>\n",
       "      <td>0.562572</td>\n",
       "      <td>0.002587</td>\n",
       "      <td>0.000513</td>\n",
       "      <td>-0.007683</td>\n",
       "      <td>0.015733</td>\n",
       "      <td>0.010750</td>\n",
       "      <td>-0.051390</td>\n",
       "    </tr>\n",
       "    <tr>\n",
       "      <th>TRY</th>\n",
       "      <td>1.375087</td>\n",
       "      <td>-0.023957</td>\n",
       "      <td>0.004520</td>\n",
       "      <td>0.043491</td>\n",
       "      <td>-0.312130</td>\n",
       "      <td>-0.353180</td>\n",
       "      <td>-0.428312</td>\n",
       "    </tr>\n",
       "    <tr>\n",
       "      <th>TWD</th>\n",
       "      <td>0.677552</td>\n",
       "      <td>0.002233</td>\n",
       "      <td>-0.008074</td>\n",
       "      <td>-0.006412</td>\n",
       "      <td>0.032248</td>\n",
       "      <td>0.037947</td>\n",
       "      <td>0.067365</td>\n",
       "    </tr>\n",
       "    <tr>\n",
       "      <th>UAH</th>\n",
       "      <td>0.679287</td>\n",
       "      <td>-0.000213</td>\n",
       "      <td>-0.019554</td>\n",
       "      <td>-0.041538</td>\n",
       "      <td>-0.034253</td>\n",
       "      <td>0.008805</td>\n",
       "      <td>0.058628</td>\n",
       "    </tr>\n",
       "    <tr>\n",
       "      <th>VND</th>\n",
       "      <td>0.000822</td>\n",
       "      <td>0.000521</td>\n",
       "      <td>-0.008487</td>\n",
       "      <td>-0.001627</td>\n",
       "      <td>0.018755</td>\n",
       "      <td>0.039780</td>\n",
       "      <td>0.066515</td>\n",
       "    </tr>\n",
       "  </tbody>\n",
       "</table>\n",
       "</div>"
      ],
      "text/plain": [
       "     курс на 2022-01-14  % изм.день  % изм.неделя  % изм.месяц  % изм.квартал  \\\n",
       "AUD           13.600379    0.000964      0.006587     0.010235      -0.001494   \n",
       "CAD           14.934449    0.000777      0.007825     0.014127       0.005898   \n",
       "HKD            2.398466    0.001645     -0.008176    -0.012477       0.015563   \n",
       "JPY            0.163673    0.006106      0.005520    -0.017287       0.014242   \n",
       "SEK            2.092200    0.002304      0.013985     0.008537      -0.016807   \n",
       "USD           18.677397    0.001050     -0.010013    -0.014215       0.016651   \n",
       "CHF           20.500648    0.004488      0.001431     0.000037       0.031530   \n",
       "EUR           21.396851    0.002769      0.004424     0.003184       0.004892   \n",
       "CNY            2.939280    0.001125     -0.006084    -0.012937       0.029947   \n",
       "CZK            0.873106   -0.008339      0.001208     0.029821       0.040316   \n",
       "GBP           25.611412    0.001501      0.003283     0.021775       0.019936   \n",
       "ILS            6.004904   -0.001439     -0.009046    -0.005424       0.052423   \n",
       "NOK            2.145573   -0.004243      0.010845     0.029975      -0.012868   \n",
       "NZD           12.814958    0.003322      0.007853     0.003981      -0.008639   \n",
       "RUB            0.244740   -0.021681     -0.009204    -0.046631      -0.049088   \n",
       "SGD           13.875356    0.001239      0.001136     0.003302       0.018703   \n",
       "ZAR            1.213822   -0.005794      0.010161     0.029652      -0.025463   \n",
       "AED            5.086298    0.001050     -0.010013    -0.014215       0.016679   \n",
       "ARS            0.180008    0.000054     -0.015022    -0.033511      -0.029422   \n",
       "BRL            3.379484    0.002227      0.017877     0.013236       0.013984   \n",
       "CLP            0.022889    0.009539      0.015586     0.018101       0.028388   \n",
       "COP            0.004710    0.004097      0.006357    -0.023813      -0.035592   \n",
       "DKK            2.875507    0.002204      0.003775     0.002458       0.004797   \n",
       "EGP            1.191892    0.002386     -0.008988    -0.012024       0.018028   \n",
       "HUF            0.060372   -0.002099      0.020281     0.039546       0.016905   \n",
       "IDR            0.001308    0.002655     -0.000859    -0.009623       0.002587   \n",
       "INR            0.252492   -0.001294     -0.004031     0.013436       0.030707   \n",
       "ISK            0.145712    0.001206     -0.001208     0.001935       0.021410   \n",
       "KRW            0.015740    0.000434      0.005981    -0.016192       0.012813   \n",
       "KWD           61.964689    0.002378     -0.007550    -0.011173       0.016112   \n",
       "KZT            0.043185   -0.000176     -0.009261    -0.008570      -0.004795   \n",
       "MXN            0.918545    0.002486     -0.002251     0.028701       0.027058   \n",
       "MYR            4.473628    0.003088     -0.001477    -0.000993       0.011172   \n",
       "PEN            4.805093    0.002852      0.009853     0.027504       0.024498   \n",
       "PHP            0.364473   -0.003736     -0.003734    -0.031143       0.007922   \n",
       "PKR            0.106122    0.000481     -0.006357    -0.005253      -0.018007   \n",
       "PLN            4.717944   -0.000751      0.007939     0.023446       0.013169   \n",
       "QAR            5.131153    0.000912     -0.010013    -0.014215       0.016651   \n",
       "RON            4.333804    0.002606      0.004045     0.004541       0.006154   \n",
       "SAR            4.981997    0.001177     -0.009775    -0.014708       0.015985   \n",
       "THB            0.562572    0.002587      0.000513    -0.007683       0.015733   \n",
       "TRY            1.375087   -0.023957      0.004520     0.043491      -0.312130   \n",
       "TWD            0.677552    0.002233     -0.008074    -0.006412       0.032248   \n",
       "UAH            0.679287   -0.000213     -0.019554    -0.041538      -0.034253   \n",
       "VND            0.000822    0.000521     -0.008487    -0.001627       0.018755   \n",
       "\n",
       "     % изм.полгода  % изм.год  \n",
       "AUD       0.006647  -0.012992  \n",
       "CAD       0.033238   0.065879  \n",
       "HKD       0.023648   0.046198  \n",
       "JPY      -0.012703  -0.044562  \n",
       "SEK      -0.004166  -0.021255  \n",
       "USD       0.026268   0.050146  \n",
       "CHF       0.034011   0.022757  \n",
       "EUR      -0.004554  -0.010369  \n",
       "CNY       0.042780   0.068227  \n",
       "CZK       0.032627   0.055614  \n",
       "GBP       0.017697   0.055125  \n",
       "ILS       0.080684   0.056132  \n",
       "NOK       0.040242   0.020848  \n",
       "NZD       0.004312   0.001867  \n",
       "RUB       0.000260   0.016514  \n",
       "SGD       0.032752   0.034186  \n",
       "ZAR      -0.030538   0.040672  \n",
       "AED       0.026296   0.050174  \n",
       "ARS      -0.048600  -0.134071  \n",
       "BRL      -0.051110   0.006595  \n",
       "CLP      -0.048627  -0.051137  \n",
       "COP      -0.015750  -0.079571  \n",
       "DKK      -0.005152  -0.011104  \n",
       "EGP       0.026551   0.047339  \n",
       "HUF       0.006043   0.005635  \n",
       "IDR       0.046900   0.042054  \n",
       "INR       0.034102   0.038754  \n",
       "ISK      -0.013444   0.051129  \n",
       "KRW      -0.013940  -0.029062  \n",
       "KWD       0.022114   0.054535  \n",
       "KZT       0.004955   0.011344  \n",
       "MXN       0.005863   0.024461  \n",
       "MYR       0.031922   0.016692  \n",
       "PEN       0.045278  -0.023881  \n",
       "PHP       0.006702  -0.017869  \n",
       "PKR      -0.072277  -0.045322  \n",
       "PLN       0.004502  -0.010556  \n",
       "QAR       0.026268   0.050290  \n",
       "RON      -0.007451  -0.025002  \n",
       "SAR       0.025615   0.049867  \n",
       "THB       0.010750  -0.051390  \n",
       "TRY      -0.353180  -0.428312  \n",
       "TWD       0.037947   0.067365  \n",
       "UAH       0.008805   0.058628  \n",
       "VND       0.039780   0.066515  "
      ]
     },
     "execution_count": 2,
     "metadata": {},
     "output_type": "execute_result"
    }
   ],
   "source": [
    "data = pd.read_csv('../input/abscur-last/abscur_last.csv',index_col=0)\n",
    "data"
   ]
  },
  {
   "cell_type": "code",
   "execution_count": 3,
   "id": "9317b335",
   "metadata": {
    "execution": {
     "iopub.execute_input": "2022-01-15T17:13:56.168729Z",
     "iopub.status.busy": "2022-01-15T17:13:56.167713Z",
     "iopub.status.idle": "2022-01-15T17:13:56.169760Z",
     "shell.execute_reply": "2022-01-15T17:13:56.170230Z",
     "shell.execute_reply.started": "2022-01-15T16:59:53.074077Z"
    },
    "papermill": {
     "duration": 0.018248,
     "end_time": "2022-01-15T17:13:56.170384",
     "exception": false,
     "start_time": "2022-01-15T17:13:56.152136",
     "status": "completed"
    },
    "tags": []
   },
   "outputs": [],
   "source": [
    "text = ''"
   ]
  },
  {
   "cell_type": "code",
   "execution_count": 4,
   "id": "2e75ef69",
   "metadata": {
    "execution": {
     "iopub.execute_input": "2022-01-15T17:13:56.195684Z",
     "iopub.status.busy": "2022-01-15T17:13:56.194757Z",
     "iopub.status.idle": "2022-01-15T17:13:56.202427Z",
     "shell.execute_reply": "2022-01-15T17:13:56.202894Z",
     "shell.execute_reply.started": "2022-01-15T16:59:53.081193Z"
    },
    "papermill": {
     "duration": 0.021829,
     "end_time": "2022-01-15T17:13:56.203084",
     "exception": false,
     "start_time": "2022-01-15T17:13:56.181255",
     "status": "completed"
    },
    "tags": []
   },
   "outputs": [],
   "source": [
    "def get_rep(d):\n",
    "    d = d.copy()*100\n",
    "    d.sort_values(ascending=True,inplace=True)\n",
    "    _=d.plot.bar(figsize=(15,5),grid=True,title='Изменение (' + d.name + ')',ylabel='%')\n",
    "    text = ''\n",
    "    text += 'самые упавшие: ' + ', '.join([cur + ' ' + str(np.round(izm,1)) + '%' for cur,izm in d.iloc[:3].reset_index().values]) + ';\\n'\n",
    "    text += 'самые стабильные: ' + ', '.join([cur + ' ' + str(np.round(izm,2)) + '%' for cur,izm in d[abs(d).sort_values().index[:3].values].reset_index().values]) + ';\\n'\n",
    "    text += 'самые подросшие: ' + ', '.join([cur + ' ' + str(np.round(izm,1)) + '%' for cur,izm in d.iloc[-3:].reset_index().values]) + '.\\n'\n",
    "    return text"
   ]
  },
  {
   "cell_type": "code",
   "execution_count": 5,
   "id": "95a2561b",
   "metadata": {
    "execution": {
     "iopub.execute_input": "2022-01-15T17:13:56.228902Z",
     "iopub.status.busy": "2022-01-15T17:13:56.227972Z",
     "iopub.status.idle": "2022-01-15T17:13:56.997862Z",
     "shell.execute_reply": "2022-01-15T17:13:56.998338Z",
     "shell.execute_reply.started": "2022-01-15T16:59:53.100330Z"
    },
    "papermill": {
     "duration": 0.784381,
     "end_time": "2022-01-15T17:13:56.998522",
     "exception": false,
     "start_time": "2022-01-15T17:13:56.214141",
     "status": "completed"
    },
    "tags": []
   },
   "outputs": [
    {
     "name": "stdout",
     "output_type": "stream",
     "text": [
      "Рейтинг за день:\n",
      "самые упавшие: TRY -2.4%, RUB -2.2%, CZK -0.8%;\n",
      "самые стабильные: ARS 0.01%, KZT -0.02%, UAH -0.02%;\n",
      "самые подросшие: CHF 0.4%, JPY 0.6%, CLP 1.0%.\n",
      "\n"
     ]
    },
    {
     "data": {
      "image/png": "[encoded data removed]",
      "text/plain": [
       "<Figure size 1080x360 with 1 Axes>"
      ]
     },
     "metadata": {
      "needs_background": "light"
     },
     "output_type": "display_data"
    }
   ],
   "source": [
    "res = 'Рейтинг за день:\\n' + get_rep(data.iloc[:,1])\n",
    "print(res)\n",
    "text += res"
   ]
  },
  {
   "cell_type": "code",
   "execution_count": 6,
   "id": "91b4d900",
   "metadata": {
    "execution": {
     "iopub.execute_input": "2022-01-15T17:13:57.062197Z",
     "iopub.status.busy": "2022-01-15T17:13:57.051629Z",
     "iopub.status.idle": "2022-01-15T17:13:57.618232Z",
     "shell.execute_reply": "2022-01-15T17:13:57.618707Z",
     "shell.execute_reply.started": "2022-01-15T16:59:53.762525Z"
    },
    "papermill": {
     "duration": 0.607486,
     "end_time": "2022-01-15T17:13:57.618996",
     "exception": false,
     "start_time": "2022-01-15T17:13:57.011510",
     "status": "completed"
    },
    "tags": []
   },
   "outputs": [
    {
     "name": "stdout",
     "output_type": "stream",
     "text": [
      "Рейтинг за неделю:\n",
      "самые упавшие: UAH -2.0%, ARS -1.5%, AED -1.0%;\n",
      "самые стабильные: THB 0.05%, IDR -0.09%, SGD 0.11%;\n",
      "самые подросшие: CLP 1.6%, BRL 1.8%, HUF 2.0%.\n",
      "\n"
     ]
    },
    {
     "data": {
      "image/png": "[encoded data removed]",
      "text/plain": [
       "<Figure size 1080x360 with 1 Axes>"
      ]
     },
     "metadata": {
      "needs_background": "light"
     },
     "output_type": "display_data"
    }
   ],
   "source": [
    "res = 'Рейтинг за неделю:\\n' + get_rep(data.iloc[:,2])\n",
    "print(res)\n",
    "text += res"
   ]
  },
  {
   "cell_type": "code",
   "execution_count": 7,
   "id": "6b24d822",
   "metadata": {
    "execution": {
     "iopub.execute_input": "2022-01-15T17:13:57.681637Z",
     "iopub.status.busy": "2022-01-15T17:13:57.669609Z",
     "iopub.status.idle": "2022-01-15T17:13:58.228864Z",
     "shell.execute_reply": "2022-01-15T17:13:58.228159Z",
     "shell.execute_reply.started": "2022-01-15T16:59:54.410198Z"
    },
    "papermill": {
     "duration": 0.595663,
     "end_time": "2022-01-15T17:13:58.229034",
     "exception": false,
     "start_time": "2022-01-15T17:13:57.633371",
     "status": "completed"
    },
    "tags": []
   },
   "outputs": [
    {
     "name": "stdout",
     "output_type": "stream",
     "text": [
      "Рейтинг за месяц:\n",
      "самые упавшие: RUB -4.7%, UAH -4.2%, ARS -3.4%;\n",
      "самые стабильные: CHF 0.0%, MYR -0.1%, VND -0.16%;\n",
      "самые подросшие: NOK 3.0%, HUF 4.0%, TRY 4.3%.\n",
      "\n"
     ]
    },
    {
     "data": {
      "image/png": "[encoded data removed]",
      "text/plain": [
       "<Figure size 1080x360 with 1 Axes>"
      ]
     },
     "metadata": {
      "needs_background": "light"
     },
     "output_type": "display_data"
    }
   ],
   "source": [
    "res = 'Рейтинг за месяц:\\n' + get_rep(data.iloc[:,3])\n",
    "print(res)\n",
    "text += res"
   ]
  },
  {
   "cell_type": "code",
   "execution_count": 8,
   "id": "b89a48b8",
   "metadata": {
    "execution": {
     "iopub.execute_input": "2022-01-15T17:13:58.291892Z",
     "iopub.status.busy": "2022-01-15T17:13:58.291166Z",
     "iopub.status.idle": "2022-01-15T17:13:58.836669Z",
     "shell.execute_reply": "2022-01-15T17:13:58.837160Z",
     "shell.execute_reply.started": "2022-01-15T16:59:55.026374Z"
    },
    "papermill": {
     "duration": 0.592076,
     "end_time": "2022-01-15T17:13:58.837343",
     "exception": false,
     "start_time": "2022-01-15T17:13:58.245267",
     "status": "completed"
    },
    "tags": []
   },
   "outputs": [
    {
     "name": "stdout",
     "output_type": "stream",
     "text": [
      "Рейтинг за квартал:\n",
      "самые упавшие: TRY -31.2%, RUB -4.9%, COP -3.6%;\n",
      "самые стабильные: AUD -0.15%, IDR 0.26%, KZT -0.48%;\n",
      "самые подросшие: TWD 3.2%, CZK 4.0%, ILS 5.2%.\n",
      "\n"
     ]
    },
    {
     "data": {
      "image/png": "[encoded data removed]",
      "text/plain": [
       "<Figure size 1080x360 with 1 Axes>"
      ]
     },
     "metadata": {
      "needs_background": "light"
     },
     "output_type": "display_data"
    }
   ],
   "source": [
    "res = 'Рейтинг за квартал:\\n' + get_rep(data.iloc[:,4])\n",
    "print(res)\n",
    "text += res"
   ]
  },
  {
   "cell_type": "code",
   "execution_count": 9,
   "id": "a358e717",
   "metadata": {
    "execution": {
     "iopub.execute_input": "2022-01-15T17:13:58.904987Z",
     "iopub.status.busy": "2022-01-15T17:13:58.902815Z",
     "iopub.status.idle": "2022-01-15T17:13:59.422071Z",
     "shell.execute_reply": "2022-01-15T17:13:59.422534Z",
     "shell.execute_reply.started": "2022-01-15T16:59:55.658929Z"
    },
    "papermill": {
     "duration": 0.56952,
     "end_time": "2022-01-15T17:13:59.422692",
     "exception": false,
     "start_time": "2022-01-15T17:13:58.853172",
     "status": "completed"
    },
    "tags": []
   },
   "outputs": [
    {
     "name": "stdout",
     "output_type": "stream",
     "text": [
      "Рейтинг за полгода:\n",
      "самые упавшие: TRY -35.3%, PKR -7.2%, BRL -5.1%;\n",
      "самые стабильные: RUB 0.03%, SEK -0.42%, NZD 0.43%;\n",
      "самые подросшие: PEN 4.5%, IDR 4.7%, ILS 8.1%.\n",
      "\n"
     ]
    },
    {
     "data": {
      "image/png": "[encoded data removed]",
      "text/plain": [
       "<Figure size 1080x360 with 1 Axes>"
      ]
     },
     "metadata": {
      "needs_background": "light"
     },
     "output_type": "display_data"
    }
   ],
   "source": [
    "res = 'Рейтинг за полгода:\\n' + get_rep(data.iloc[:,5])\n",
    "print(res)\n",
    "text += res"
   ]
  },
  {
   "cell_type": "code",
   "execution_count": 10,
   "id": "c61aa1c4",
   "metadata": {
    "execution": {
     "iopub.execute_input": "2022-01-15T17:13:59.459350Z",
     "iopub.status.busy": "2022-01-15T17:13:59.458719Z",
     "iopub.status.idle": "2022-01-15T17:13:59.998609Z",
     "shell.execute_reply": "2022-01-15T17:13:59.998075Z",
     "shell.execute_reply.started": "2022-01-15T16:59:56.280063Z"
    },
    "papermill": {
     "duration": 0.559268,
     "end_time": "2022-01-15T17:13:59.998742",
     "exception": false,
     "start_time": "2022-01-15T17:13:59.439474",
     "status": "completed"
    },
    "tags": []
   },
   "outputs": [
    {
     "name": "stdout",
     "output_type": "stream",
     "text": [
      "Рейтинг за год:\n",
      "самые упавшие: TRY -42.8%, ARS -13.4%, COP -8.0%;\n",
      "самые стабильные: NZD 0.19%, HUF 0.56%, BRL 0.66%;\n",
      "самые подросшие: VND 6.7%, TWD 6.7%, CNY 6.8%.\n",
      "\n"
     ]
    },
    {
     "data": {
      "image/png": "[encoded data removed]",
      "text/plain": [
       "<Figure size 1080x360 with 1 Axes>"
      ]
     },
     "metadata": {
      "needs_background": "light"
     },
     "output_type": "display_data"
    }
   ],
   "source": [
    "res = 'Рейтинг за год:\\n' + get_rep(data.iloc[:,6])\n",
    "print(res)\n",
    "text += res"
   ]
  },
  {
   "cell_type": "markdown",
   "id": "20835e48",
   "metadata": {
    "papermill": {
     "duration": 0.017662,
     "end_time": "2022-01-15T17:14:00.034519",
     "exception": false,
     "start_time": "2022-01-15T17:14:00.016857",
     "status": "completed"
    },
    "tags": []
   },
   "source": [
    "# Публикация по каналам проекта"
   ]
  },
  {
   "cell_type": "code",
   "execution_count": 11,
   "id": "14722ff0",
   "metadata": {
    "execution": {
     "iopub.execute_input": "2022-01-15T17:14:00.074462Z",
     "iopub.status.busy": "2022-01-15T17:14:00.073852Z",
     "iopub.status.idle": "2022-01-15T17:14:00.079062Z",
     "shell.execute_reply": "2022-01-15T17:14:00.079637Z",
     "shell.execute_reply.started": "2022-01-15T17:03:35.626162Z"
    },
    "papermill": {
     "duration": 0.026663,
     "end_time": "2022-01-15T17:14:00.079828",
     "exception": false,
     "start_time": "2022-01-15T17:14:00.053165",
     "status": "completed"
    },
    "tags": []
   },
   "outputs": [
    {
     "name": "stdout",
     "output_type": "stream",
     "text": [
      "Рейтинг роста и падения абсолютных курсов на 2022-01-14\n",
      "\n",
      "Рейтинг за день:\n",
      "самые упавшие: TRY -2.4%, RUB -2.2%, CZK -0.8%;\n",
      "самые стабильные: ARS 0.01%, KZT -0.02%, UAH -0.02%;\n",
      "самые подросшие: CHF 0.4%, JPY 0.6%, CLP 1.0%.\n",
      "Рейтинг за неделю:\n",
      "самые упавшие: UAH -2.0%, ARS -1.5%, AED -1.0%;\n",
      "самые стабильные: THB 0.05%, IDR -0.09%, SGD 0.11%;\n",
      "самые подросшие: CLP 1.6%, BRL 1.8%, HUF 2.0%.\n",
      "Рейтинг за месяц:\n",
      "самые упавшие: RUB -4.7%, UAH -4.2%, ARS -3.4%;\n",
      "самые стабильные: CHF 0.0%, MYR -0.1%, VND -0.16%;\n",
      "самые подросшие: NOK 3.0%, HUF 4.0%, TRY 4.3%.\n",
      "Рейтинг за квартал:\n",
      "самые упавшие: TRY -31.2%, RUB -4.9%, COP -3.6%;\n",
      "самые стабильные: AUD -0.15%, IDR 0.26%, KZT -0.48%;\n",
      "самые подросшие: TWD 3.2%, CZK 4.0%, ILS 5.2%.\n",
      "Рейтинг за полгода:\n",
      "самые упавшие: TRY -35.3%, PKR -7.2%, BRL -5.1%;\n",
      "самые стабильные: RUB 0.03%, SEK -0.42%, NZD 0.43%;\n",
      "самые подросшие: PEN 4.5%, IDR 4.7%, ILS 8.1%.\n",
      "Рейтинг за год:\n",
      "самые упавшие: TRY -42.8%, ARS -13.4%, COP -8.0%;\n",
      "самые стабильные: NZD 0.19%, HUF 0.56%, BRL 0.66%;\n",
      "самые подросшие: VND 6.7%, TWD 6.7%, CNY 6.8%.\n",
      "\n",
      "\n",
      "https://www.kaggle.com/eavprog/abscur-rate-up-down\n"
     ]
    }
   ],
   "source": [
    "title = 'Рейтинг роста и падения абсолютных курсов на ' + str(data.columns[0])[-10:]\n",
    "message = text\n",
    "link = 'https://www.kaggle.com/eavprog/abscur-rate-up-down'\n",
    "print(title + '\\n\\n' + message + '\\n\\n' + link)"
   ]
  },
  {
   "cell_type": "code",
   "execution_count": 12,
   "id": "22754a9c",
   "metadata": {
    "execution": {
     "iopub.execute_input": "2022-01-15T17:14:00.121638Z",
     "iopub.status.busy": "2022-01-15T17:14:00.121076Z",
     "iopub.status.idle": "2022-01-15T17:14:00.123381Z",
     "shell.execute_reply": "2022-01-15T17:14:00.122888Z",
     "shell.execute_reply.started": "2022-01-15T16:59:57.077587Z"
    },
    "papermill": {
     "duration": 0.02518,
     "end_time": "2022-01-15T17:14:00.123510",
     "exception": false,
     "start_time": "2022-01-15T17:14:00.098330",
     "status": "completed"
    },
    "tags": []
   },
   "outputs": [],
   "source": [
    "if(date.today().toordinal() % 3 == 0):\n",
    "    lib_abscur_post.postToChanels(title, message, link)"
   ]
  }
 ],
 "metadata": {
  "kernelspec": {
   "display_name": "Python 3",
   "language": "python",
   "name": "python3"
  },
  "language_info": {
   "codemirror_mode": {
    "name": "ipython",
    "version": 3
   },
   "file_extension": ".py",
   "mimetype": "text/x-python",
   "name": "python",
   "nbconvert_exporter": "python",
   "pygments_lexer": "ipython3",
   "version": "3.7.12"
  },
  "papermill": {
   "default_parameters": {},
   "duration": 13.235133,
   "end_time": "2022-01-15T17:14:00.750967",
   "environment_variables": {},
   "exception": null,
   "input_path": "__notebook__.ipynb",
   "output_path": "__notebook__.ipynb",
   "parameters": {},
   "start_time": "2022-01-15T17:13:47.515834",
   "version": "2.3.3"
  }
 },
 "nbformat": 4,
 "nbformat_minor": 5
}
