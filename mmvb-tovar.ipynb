{
 "cells": [
  {
   "cell_type": "code",
   "execution_count": 1,
   "id": "2dc19985",
   "metadata": {
    "_cell_guid": "b1076dfc-b9ad-4769-8c92-a6c4dae69d19",
    "_uuid": "8f2839f25d086af736a60e9eeb907d3b93b6e0e5",
    "execution": {
     "iopub.execute_input": "2023-01-07T15:18:13.232364Z",
     "iopub.status.busy": "2023-01-07T15:18:13.231917Z",
     "iopub.status.idle": "2023-01-07T15:18:13.240389Z",
     "shell.execute_reply": "2023-01-07T15:18:13.239597Z"
    },
    "papermill": {
     "duration": 0.015788,
     "end_time": "2023-01-07T15:18:13.242205",
     "exception": false,
     "start_time": "2023-01-07T15:18:13.226417",
     "status": "completed"
    },
    "tags": []
   },
   "outputs": [],
   "source": [
    "import numpy as np\n",
    "import pandas as pd\n",
    "import datetime"
   ]
  },
  {
   "cell_type": "markdown",
   "id": "94a18082",
   "metadata": {
    "papermill": {
     "duration": 0.00285,
     "end_time": "2023-01-07T15:18:13.248305",
     "exception": false,
     "start_time": "2023-01-07T15:18:13.245455",
     "status": "completed"
    },
    "tags": []
   },
   "source": [
    "# Загрузка старых"
   ]
  },
  {
   "cell_type": "code",
   "execution_count": 2,
   "id": "93e72571",
   "metadata": {
    "execution": {
     "iopub.execute_input": "2023-01-07T15:18:13.255880Z",
     "iopub.status.busy": "2023-01-07T15:18:13.255543Z",
     "iopub.status.idle": "2023-01-07T15:18:13.305862Z",
     "shell.execute_reply": "2023-01-07T15:18:13.305031Z"
    },
    "papermill": {
     "duration": 0.056618,
     "end_time": "2023-01-07T15:18:13.307920",
     "exception": false,
     "start_time": "2023-01-07T15:18:13.251302",
     "status": "completed"
    },
    "tags": []
   },
   "outputs": [
    {
     "data": {
      "text/html": [
       "<div>\n",
       "<style scoped>\n",
       "    .dataframe tbody tr th:only-of-type {\n",
       "        vertical-align: middle;\n",
       "    }\n",
       "\n",
       "    .dataframe tbody tr th {\n",
       "        vertical-align: top;\n",
       "    }\n",
       "\n",
       "    .dataframe thead th {\n",
       "        text-align: right;\n",
       "    }\n",
       "</style>\n",
       "<table border=\"1\" class=\"dataframe\">\n",
       "  <thead>\n",
       "    <tr style=\"text-align: right;\">\n",
       "      <th></th>\n",
       "      <th></th>\n",
       "      <th>&lt;CLOSE&gt;</th>\n",
       "      <th>&lt;VOL&gt;</th>\n",
       "    </tr>\n",
       "    <tr>\n",
       "      <th>&lt;TICKER&gt;</th>\n",
       "      <th>&lt;DATE&gt;</th>\n",
       "      <th></th>\n",
       "      <th></th>\n",
       "    </tr>\n",
       "  </thead>\n",
       "  <tbody>\n",
       "    <tr>\n",
       "      <th rowspan=\"5\" valign=\"top\">@Brent Crude Oil</th>\n",
       "      <th>2020-04-13</th>\n",
       "      <td>31.830</td>\n",
       "      <td>41250</td>\n",
       "    </tr>\n",
       "    <tr>\n",
       "      <th>2020-04-14</th>\n",
       "      <td>30.050</td>\n",
       "      <td>35208</td>\n",
       "    </tr>\n",
       "    <tr>\n",
       "      <th>2020-04-15</th>\n",
       "      <td>28.000</td>\n",
       "      <td>35563</td>\n",
       "    </tr>\n",
       "    <tr>\n",
       "      <th>2020-04-16</th>\n",
       "      <td>28.300</td>\n",
       "      <td>34524</td>\n",
       "    </tr>\n",
       "    <tr>\n",
       "      <th>2020-04-17</th>\n",
       "      <td>28.350</td>\n",
       "      <td>36320</td>\n",
       "    </tr>\n",
       "    <tr>\n",
       "      <th>...</th>\n",
       "      <th>...</th>\n",
       "      <td>...</td>\n",
       "      <td>...</td>\n",
       "    </tr>\n",
       "    <tr>\n",
       "      <th rowspan=\"5\" valign=\"top\">Silver</th>\n",
       "      <th>2023-01-03</th>\n",
       "      <td>23.963</td>\n",
       "      <td>0</td>\n",
       "    </tr>\n",
       "    <tr>\n",
       "      <th>2023-01-04</th>\n",
       "      <td>23.776</td>\n",
       "      <td>0</td>\n",
       "    </tr>\n",
       "    <tr>\n",
       "      <th>2023-01-05</th>\n",
       "      <td>23.228</td>\n",
       "      <td>0</td>\n",
       "    </tr>\n",
       "    <tr>\n",
       "      <th>2023-01-06</th>\n",
       "      <td>23.827</td>\n",
       "      <td>0</td>\n",
       "    </tr>\n",
       "    <tr>\n",
       "      <th>2023-01-07</th>\n",
       "      <td>23.827</td>\n",
       "      <td>0</td>\n",
       "    </tr>\n",
       "  </tbody>\n",
       "</table>\n",
       "<p>8997 rows × 2 columns</p>\n",
       "</div>"
      ],
      "text/plain": [
       "                             <CLOSE>  <VOL>\n",
       "<TICKER>         <DATE>                    \n",
       "@Brent Crude Oil 2020-04-13   31.830  41250\n",
       "                 2020-04-14   30.050  35208\n",
       "                 2020-04-15   28.000  35563\n",
       "                 2020-04-16   28.300  34524\n",
       "                 2020-04-17   28.350  36320\n",
       "...                              ...    ...\n",
       "Silver           2023-01-03   23.963      0\n",
       "                 2023-01-04   23.776      0\n",
       "                 2023-01-05   23.228      0\n",
       "                 2023-01-06   23.827      0\n",
       "                 2023-01-07   23.827      0\n",
       "\n",
       "[8997 rows x 2 columns]"
      ]
     },
     "execution_count": 2,
     "metadata": {},
     "output_type": "execute_result"
    }
   ],
   "source": [
    "old_table = pd.read_csv('/kaggle/input/mmvb-tovar/data.csv')\n",
    "old_table.set_index(['<TICKER>','<DATE>'],inplace=True)\n",
    "old_table"
   ]
  },
  {
   "cell_type": "code",
   "execution_count": 3,
   "id": "0dbc9be5",
   "metadata": {
    "execution": {
     "iopub.execute_input": "2023-01-07T15:18:13.316386Z",
     "iopub.status.busy": "2023-01-07T15:18:13.315764Z",
     "iopub.status.idle": "2023-01-07T15:18:13.321713Z",
     "shell.execute_reply": "2023-01-07T15:18:13.321200Z"
    },
    "papermill": {
     "duration": 0.0118,
     "end_time": "2023-01-07T15:18:13.323299",
     "exception": false,
     "start_time": "2023-01-07T15:18:13.311499",
     "status": "completed"
    },
    "tags": []
   },
   "outputs": [],
   "source": [
    "# https://mfd.ru/export/?groupId=2&selectedTickers=1*,2*,3*,4*,170*,1878,1924,1925,1926#Tickers=1*%2C2*%2C3*%2C4*%2C170*%2C1878%2C1924%2C1925%2C1926&Alias=false&Period=7&timeframeValue=1&timeframeDatePart=day&StartDate=06.01.2023&EndDate=06.01.2023&SaveFormat=0&SaveMode=0&FileName=mfdexport_1day_06012023_06012023.txt&FieldSeparator=%2C&DecimalSeparator=.&TimeFormat=HHmmss&DateFormatCustom=yyyy-MM-dd&AddHeader=true&RecordFormat=2&Fill=false\n",
    "\n",
    "def get_new_table(delta_start=-10,delta_end=0):\n",
    "    end_date = (datetime.datetime.today() + datetime.timedelta(days=delta_end)).strftime('%d.%m.%Y')\n",
    "    start_date = (datetime.datetime.today() + datetime.timedelta(days=delta_start)).strftime('%d.%m.%Y')\n",
    "    url = \"https://mfd.ru/export/handler.ashx/mfdexport_1day.txt?TickerGroup=2&Tickers=1*%2C2*%2C3*%2C4*%2C170*%2C1878%2C1924%2C1925%2C1926&Alias=false&Period=7&timeframeValue=1&timeframeDatePart=day&StartDate=\" + start_date + \"&EndDate=\" + end_date + \"&SaveFormat=0&SaveMode=0&FileName=mfdexport_1day.txt&FieldSeparator=%253b&DecimalSeparator=.&DateFormat=yyyy-MM-dd&TimeFormat=HHmmss&DateFormatCustom=&TimeFormatCustom=&AddHeader=true&RecordFormat=2&Fill=true\"\n",
    "    table = pd.read_csv(url,sep=\";\")\n",
    "    new_table = table[[\"<TICKER>\",\"<DATE>\",\"<CLOSE>\",\"<VOL>\"]]\n",
    "    new_table.set_index(['<TICKER>','<DATE>'],inplace=True)\n",
    "    new_table\n",
    "    return new_table\n",
    "\n",
    "# get_new_table(delta_start=-30,delta_end=-20)"
   ]
  },
  {
   "cell_type": "markdown",
   "id": "ce692a8b",
   "metadata": {
    "papermill": {
     "duration": 0.003092,
     "end_time": "2023-01-07T15:18:13.329603",
     "exception": false,
     "start_time": "2023-01-07T15:18:13.326511",
     "status": "completed"
    },
    "tags": []
   },
   "source": [
    "# Закачка последних"
   ]
  },
  {
   "cell_type": "code",
   "execution_count": 4,
   "id": "c1de071f",
   "metadata": {
    "execution": {
     "iopub.execute_input": "2023-01-07T15:18:13.337337Z",
     "iopub.status.busy": "2023-01-07T15:18:13.336854Z",
     "iopub.status.idle": "2023-01-07T15:18:14.373923Z",
     "shell.execute_reply": "2023-01-07T15:18:14.373023Z"
    },
    "papermill": {
     "duration": 1.04345,
     "end_time": "2023-01-07T15:18:14.376239",
     "exception": false,
     "start_time": "2023-01-07T15:18:13.332789",
     "status": "completed"
    },
    "tags": []
   },
   "outputs": [
    {
     "data": {
      "text/html": [
       "<div>\n",
       "<style scoped>\n",
       "    .dataframe tbody tr th:only-of-type {\n",
       "        vertical-align: middle;\n",
       "    }\n",
       "\n",
       "    .dataframe tbody tr th {\n",
       "        vertical-align: top;\n",
       "    }\n",
       "\n",
       "    .dataframe thead th {\n",
       "        text-align: right;\n",
       "    }\n",
       "</style>\n",
       "<table border=\"1\" class=\"dataframe\">\n",
       "  <thead>\n",
       "    <tr style=\"text-align: right;\">\n",
       "      <th></th>\n",
       "      <th></th>\n",
       "      <th>&lt;CLOSE&gt;</th>\n",
       "      <th>&lt;VOL&gt;</th>\n",
       "    </tr>\n",
       "    <tr>\n",
       "      <th>&lt;TICKER&gt;</th>\n",
       "      <th>&lt;DATE&gt;</th>\n",
       "      <th></th>\n",
       "      <th></th>\n",
       "    </tr>\n",
       "  </thead>\n",
       "  <tbody>\n",
       "    <tr>\n",
       "      <th rowspan=\"5\" valign=\"top\">Gold</th>\n",
       "      <th>2022-12-28</th>\n",
       "      <td>1804.268</td>\n",
       "      <td>0</td>\n",
       "    </tr>\n",
       "    <tr>\n",
       "      <th>2022-12-29</th>\n",
       "      <td>1814.445</td>\n",
       "      <td>0</td>\n",
       "    </tr>\n",
       "    <tr>\n",
       "      <th>2022-12-30</th>\n",
       "      <td>1823.370</td>\n",
       "      <td>0</td>\n",
       "    </tr>\n",
       "    <tr>\n",
       "      <th>2022-12-31</th>\n",
       "      <td>1823.580</td>\n",
       "      <td>0</td>\n",
       "    </tr>\n",
       "    <tr>\n",
       "      <th>2023-01-01</th>\n",
       "      <td>1823.580</td>\n",
       "      <td>0</td>\n",
       "    </tr>\n",
       "    <tr>\n",
       "      <th>...</th>\n",
       "      <th>...</th>\n",
       "      <td>...</td>\n",
       "      <td>...</td>\n",
       "    </tr>\n",
       "    <tr>\n",
       "      <th rowspan=\"5\" valign=\"top\">@Natural gas</th>\n",
       "      <th>2023-01-03</th>\n",
       "      <td>4.014</td>\n",
       "      <td>31015</td>\n",
       "    </tr>\n",
       "    <tr>\n",
       "      <th>2023-01-04</th>\n",
       "      <td>4.155</td>\n",
       "      <td>26862</td>\n",
       "    </tr>\n",
       "    <tr>\n",
       "      <th>2023-01-05</th>\n",
       "      <td>3.756</td>\n",
       "      <td>29042</td>\n",
       "    </tr>\n",
       "    <tr>\n",
       "      <th>2023-01-06</th>\n",
       "      <td>3.734</td>\n",
       "      <td>28979</td>\n",
       "    </tr>\n",
       "    <tr>\n",
       "      <th>2023-01-07</th>\n",
       "      <td>3.734</td>\n",
       "      <td>0</td>\n",
       "    </tr>\n",
       "  </tbody>\n",
       "</table>\n",
       "<p>99 rows × 2 columns</p>\n",
       "</div>"
      ],
      "text/plain": [
       "                          <CLOSE>  <VOL>\n",
       "<TICKER>     <DATE>                     \n",
       "Gold         2022-12-28  1804.268      0\n",
       "             2022-12-29  1814.445      0\n",
       "             2022-12-30  1823.370      0\n",
       "             2022-12-31  1823.580      0\n",
       "             2023-01-01  1823.580      0\n",
       "...                           ...    ...\n",
       "@Natural gas 2023-01-03     4.014  31015\n",
       "             2023-01-04     4.155  26862\n",
       "             2023-01-05     3.756  29042\n",
       "             2023-01-06     3.734  28979\n",
       "             2023-01-07     3.734      0\n",
       "\n",
       "[99 rows x 2 columns]"
      ]
     },
     "execution_count": 4,
     "metadata": {},
     "output_type": "execute_result"
    }
   ],
   "source": [
    "new_table = get_new_table()\n",
    "new_table"
   ]
  },
  {
   "cell_type": "code",
   "execution_count": 5,
   "id": "e12728ed",
   "metadata": {
    "execution": {
     "iopub.execute_input": "2023-01-07T15:18:14.384589Z",
     "iopub.status.busy": "2023-01-07T15:18:14.384298Z",
     "iopub.status.idle": "2023-01-07T15:18:14.388213Z",
     "shell.execute_reply": "2023-01-07T15:18:14.387386Z"
    },
    "papermill": {
     "duration": 0.009798,
     "end_time": "2023-01-07T15:18:14.389784",
     "exception": false,
     "start_time": "2023-01-07T15:18:14.379986",
     "status": "completed"
    },
    "tags": []
   },
   "outputs": [],
   "source": [
    "concat_table = new_table"
   ]
  },
  {
   "cell_type": "markdown",
   "id": "3192eeba",
   "metadata": {
    "papermill": {
     "duration": 0.003231,
     "end_time": "2023-01-07T15:18:14.396622",
     "exception": false,
     "start_time": "2023-01-07T15:18:14.393391",
     "status": "completed"
    },
    "tags": []
   },
   "source": [
    "# Обновление существующих"
   ]
  },
  {
   "cell_type": "code",
   "execution_count": 6,
   "id": "bfc54a1e",
   "metadata": {
    "execution": {
     "iopub.execute_input": "2023-01-07T15:18:14.404728Z",
     "iopub.status.busy": "2023-01-07T15:18:14.404091Z",
     "iopub.status.idle": "2023-01-07T15:18:14.417450Z",
     "shell.execute_reply": "2023-01-07T15:18:14.416673Z"
    },
    "papermill": {
     "duration": 0.019275,
     "end_time": "2023-01-07T15:18:14.419310",
     "exception": false,
     "start_time": "2023-01-07T15:18:14.400035",
     "status": "completed"
    },
    "tags": []
   },
   "outputs": [],
   "source": [
    "old_table.update(new_table)"
   ]
  },
  {
   "cell_type": "markdown",
   "id": "19b34214",
   "metadata": {
    "papermill": {
     "duration": 0.003333,
     "end_time": "2023-01-07T15:18:14.426247",
     "exception": false,
     "start_time": "2023-01-07T15:18:14.422914",
     "status": "completed"
    },
    "tags": []
   },
   "source": [
    "# Сохранение"
   ]
  },
  {
   "cell_type": "code",
   "execution_count": 7,
   "id": "a6645d0d",
   "metadata": {
    "execution": {
     "iopub.execute_input": "2023-01-07T15:18:14.434335Z",
     "iopub.status.busy": "2023-01-07T15:18:14.434032Z",
     "iopub.status.idle": "2023-01-07T15:18:14.447489Z",
     "shell.execute_reply": "2023-01-07T15:18:14.446656Z"
    },
    "papermill": {
     "duration": 0.019484,
     "end_time": "2023-01-07T15:18:14.449134",
     "exception": false,
     "start_time": "2023-01-07T15:18:14.429650",
     "status": "completed"
    },
    "tags": []
   },
   "outputs": [
    {
     "data": {
      "text/html": [
       "<div>\n",
       "<style scoped>\n",
       "    .dataframe tbody tr th:only-of-type {\n",
       "        vertical-align: middle;\n",
       "    }\n",
       "\n",
       "    .dataframe tbody tr th {\n",
       "        vertical-align: top;\n",
       "    }\n",
       "\n",
       "    .dataframe thead th {\n",
       "        text-align: right;\n",
       "    }\n",
       "</style>\n",
       "<table border=\"1\" class=\"dataframe\">\n",
       "  <thead>\n",
       "    <tr style=\"text-align: right;\">\n",
       "      <th></th>\n",
       "      <th>&lt;TICKER&gt;</th>\n",
       "      <th>&lt;DATE&gt;</th>\n",
       "      <th>&lt;CLOSE&gt;</th>\n",
       "      <th>&lt;VOL&gt;</th>\n",
       "    </tr>\n",
       "  </thead>\n",
       "  <tbody>\n",
       "    <tr>\n",
       "      <th>0</th>\n",
       "      <td>Gold</td>\n",
       "      <td>2022-12-28</td>\n",
       "      <td>1804.268</td>\n",
       "      <td>0</td>\n",
       "    </tr>\n",
       "    <tr>\n",
       "      <th>1</th>\n",
       "      <td>Gold</td>\n",
       "      <td>2022-12-29</td>\n",
       "      <td>1814.445</td>\n",
       "      <td>0</td>\n",
       "    </tr>\n",
       "    <tr>\n",
       "      <th>2</th>\n",
       "      <td>Gold</td>\n",
       "      <td>2022-12-30</td>\n",
       "      <td>1823.370</td>\n",
       "      <td>0</td>\n",
       "    </tr>\n",
       "    <tr>\n",
       "      <th>3</th>\n",
       "      <td>Gold</td>\n",
       "      <td>2022-12-31</td>\n",
       "      <td>1823.580</td>\n",
       "      <td>0</td>\n",
       "    </tr>\n",
       "    <tr>\n",
       "      <th>4</th>\n",
       "      <td>Gold</td>\n",
       "      <td>2023-01-01</td>\n",
       "      <td>1823.580</td>\n",
       "      <td>0</td>\n",
       "    </tr>\n",
       "    <tr>\n",
       "      <th>...</th>\n",
       "      <td>...</td>\n",
       "      <td>...</td>\n",
       "      <td>...</td>\n",
       "      <td>...</td>\n",
       "    </tr>\n",
       "    <tr>\n",
       "      <th>94</th>\n",
       "      <td>@Natural gas</td>\n",
       "      <td>2023-01-03</td>\n",
       "      <td>4.014</td>\n",
       "      <td>31015</td>\n",
       "    </tr>\n",
       "    <tr>\n",
       "      <th>95</th>\n",
       "      <td>@Natural gas</td>\n",
       "      <td>2023-01-04</td>\n",
       "      <td>4.155</td>\n",
       "      <td>26862</td>\n",
       "    </tr>\n",
       "    <tr>\n",
       "      <th>96</th>\n",
       "      <td>@Natural gas</td>\n",
       "      <td>2023-01-05</td>\n",
       "      <td>3.756</td>\n",
       "      <td>29042</td>\n",
       "    </tr>\n",
       "    <tr>\n",
       "      <th>97</th>\n",
       "      <td>@Natural gas</td>\n",
       "      <td>2023-01-06</td>\n",
       "      <td>3.734</td>\n",
       "      <td>28979</td>\n",
       "    </tr>\n",
       "    <tr>\n",
       "      <th>98</th>\n",
       "      <td>@Natural gas</td>\n",
       "      <td>2023-01-07</td>\n",
       "      <td>3.734</td>\n",
       "      <td>0</td>\n",
       "    </tr>\n",
       "  </tbody>\n",
       "</table>\n",
       "<p>99 rows × 4 columns</p>\n",
       "</div>"
      ],
      "text/plain": [
       "        <TICKER>      <DATE>   <CLOSE>  <VOL>\n",
       "0           Gold  2022-12-28  1804.268      0\n",
       "1           Gold  2022-12-29  1814.445      0\n",
       "2           Gold  2022-12-30  1823.370      0\n",
       "3           Gold  2022-12-31  1823.580      0\n",
       "4           Gold  2023-01-01  1823.580      0\n",
       "..           ...         ...       ...    ...\n",
       "94  @Natural gas  2023-01-03     4.014  31015\n",
       "95  @Natural gas  2023-01-04     4.155  26862\n",
       "96  @Natural gas  2023-01-05     3.756  29042\n",
       "97  @Natural gas  2023-01-06     3.734  28979\n",
       "98  @Natural gas  2023-01-07     3.734      0\n",
       "\n",
       "[99 rows x 4 columns]"
      ]
     },
     "execution_count": 7,
     "metadata": {},
     "output_type": "execute_result"
    }
   ],
   "source": [
    "concat_table.reset_index(inplace=True)\n",
    "concat_table"
   ]
  },
  {
   "cell_type": "code",
   "execution_count": 8,
   "id": "464de683",
   "metadata": {
    "execution": {
     "iopub.execute_input": "2023-01-07T15:18:14.458034Z",
     "iopub.status.busy": "2023-01-07T15:18:14.457766Z",
     "iopub.status.idle": "2023-01-07T15:18:14.463290Z",
     "shell.execute_reply": "2023-01-07T15:18:14.462735Z"
    },
    "papermill": {
     "duration": 0.011679,
     "end_time": "2023-01-07T15:18:14.464770",
     "exception": false,
     "start_time": "2023-01-07T15:18:14.453091",
     "status": "completed"
    },
    "tags": []
   },
   "outputs": [],
   "source": [
    "concat_table.to_csv(\"data.csv\",index=False)"
   ]
  },
  {
   "cell_type": "markdown",
   "id": "6811e789",
   "metadata": {
    "papermill": {
     "duration": 0.003575,
     "end_time": "2023-01-07T15:18:14.472226",
     "exception": false,
     "start_time": "2023-01-07T15:18:14.468651",
     "status": "completed"
    },
    "tags": []
   },
   "source": [
    "# Подкачка старых"
   ]
  },
  {
   "cell_type": "code",
   "execution_count": 9,
   "id": "00558957",
   "metadata": {
    "execution": {
     "iopub.execute_input": "2023-01-07T15:18:14.481093Z",
     "iopub.status.busy": "2023-01-07T15:18:14.480418Z",
     "iopub.status.idle": "2023-01-07T15:19:12.307955Z",
     "shell.execute_reply": "2023-01-07T15:19:12.306494Z"
    },
    "papermill": {
     "duration": 57.834035,
     "end_time": "2023-01-07T15:19:12.309953",
     "exception": false,
     "start_time": "2023-01-07T15:18:14.475918",
     "status": "completed"
    },
    "tags": []
   },
   "outputs": [
    {
     "name": "stdout",
     "output_type": "stream",
     "text": [
      "-1020 -1000\n",
      "-1040 -1020\n",
      "-1060 -1040\n",
      "-1080 -1060\n",
      "-1100 -1080\n",
      "-1120 -1100\n",
      "-1140 -1120\n",
      "-1160 -1140\n",
      "-1180 -1160\n",
      "-1200 -1180\n",
      "-1220 -1200\n",
      "-1240 -1220\n",
      "-1260 -1240\n",
      "-1280 -1260\n",
      "-1300 -1280\n",
      "-1320 -1300\n",
      "-1340 -1320\n",
      "-1360 -1340\n",
      "-1380 -1360\n",
      "-1400 -1380\n",
      "-1420 -1400\n",
      "-1440 -1420\n",
      "-1460 -1440\n",
      "-1480 -1460\n",
      "-1500 -1480\n",
      "-1520 -1500\n",
      "-1540 -1520\n",
      "-1560 -1540\n",
      "-1580 -1560\n",
      "-1600 -1580\n",
      "-1620 -1600\n",
      "-1640 -1620\n",
      "-1660 -1640\n",
      "-1680 -1660\n",
      "-1700 -1680\n",
      "-1720 -1700\n",
      "-1740 -1720\n",
      "-1760 -1740\n",
      "-1780 -1760\n",
      "-1800 -1780\n",
      "-1820 -1800\n",
      "-1840 -1820\n",
      "-1860 -1840\n",
      "-1880 -1860\n",
      "-1900 -1880\n",
      "-1920 -1900\n",
      "-1940 -1920\n",
      "-1960 -1940\n",
      "-1980 -1960\n",
      "-2000 -1980\n"
     ]
    },
    {
     "data": {
      "text/html": [
       "<div>\n",
       "<style scoped>\n",
       "    .dataframe tbody tr th:only-of-type {\n",
       "        vertical-align: middle;\n",
       "    }\n",
       "\n",
       "    .dataframe tbody tr th {\n",
       "        vertical-align: top;\n",
       "    }\n",
       "\n",
       "    .dataframe thead th {\n",
       "        text-align: right;\n",
       "    }\n",
       "</style>\n",
       "<table border=\"1\" class=\"dataframe\">\n",
       "  <thead>\n",
       "    <tr style=\"text-align: right;\">\n",
       "      <th></th>\n",
       "      <th></th>\n",
       "      <th>&lt;CLOSE&gt;</th>\n",
       "      <th>&lt;VOL&gt;</th>\n",
       "    </tr>\n",
       "    <tr>\n",
       "      <th>&lt;TICKER&gt;</th>\n",
       "      <th>&lt;DATE&gt;</th>\n",
       "      <th></th>\n",
       "      <th></th>\n",
       "    </tr>\n",
       "  </thead>\n",
       "  <tbody>\n",
       "    <tr>\n",
       "      <th rowspan=\"5\" valign=\"top\">@Brent Crude Oil</th>\n",
       "      <th>2017-07-17</th>\n",
       "      <td>48.370</td>\n",
       "      <td>22907.0</td>\n",
       "    </tr>\n",
       "    <tr>\n",
       "      <th>2017-07-18</th>\n",
       "      <td>48.730</td>\n",
       "      <td>24956.0</td>\n",
       "    </tr>\n",
       "    <tr>\n",
       "      <th>2017-07-19</th>\n",
       "      <td>49.650</td>\n",
       "      <td>23396.0</td>\n",
       "    </tr>\n",
       "    <tr>\n",
       "      <th>2017-07-20</th>\n",
       "      <td>49.320</td>\n",
       "      <td>23962.0</td>\n",
       "    </tr>\n",
       "    <tr>\n",
       "      <th>2017-07-21</th>\n",
       "      <td>47.820</td>\n",
       "      <td>26005.0</td>\n",
       "    </tr>\n",
       "    <tr>\n",
       "      <th>...</th>\n",
       "      <th>...</th>\n",
       "      <td>...</td>\n",
       "      <td>...</td>\n",
       "    </tr>\n",
       "    <tr>\n",
       "      <th rowspan=\"5\" valign=\"top\">Silver</th>\n",
       "      <th>2023-01-03</th>\n",
       "      <td>23.963</td>\n",
       "      <td>0.0</td>\n",
       "    </tr>\n",
       "    <tr>\n",
       "      <th>2023-01-04</th>\n",
       "      <td>23.776</td>\n",
       "      <td>0.0</td>\n",
       "    </tr>\n",
       "    <tr>\n",
       "      <th>2023-01-05</th>\n",
       "      <td>23.228</td>\n",
       "      <td>0.0</td>\n",
       "    </tr>\n",
       "    <tr>\n",
       "      <th>2023-01-06</th>\n",
       "      <td>23.827</td>\n",
       "      <td>0.0</td>\n",
       "    </tr>\n",
       "    <tr>\n",
       "      <th>2023-01-07</th>\n",
       "      <td>23.827</td>\n",
       "      <td>0.0</td>\n",
       "    </tr>\n",
       "  </tbody>\n",
       "</table>\n",
       "<p>17999 rows × 2 columns</p>\n",
       "</div>"
      ],
      "text/plain": [
       "                             <CLOSE>    <VOL>\n",
       "<TICKER>         <DATE>                      \n",
       "@Brent Crude Oil 2017-07-17   48.370  22907.0\n",
       "                 2017-07-18   48.730  24956.0\n",
       "                 2017-07-19   49.650  23396.0\n",
       "                 2017-07-20   49.320  23962.0\n",
       "                 2017-07-21   47.820  26005.0\n",
       "...                              ...      ...\n",
       "Silver           2023-01-03   23.963      0.0\n",
       "                 2023-01-04   23.776      0.0\n",
       "                 2023-01-05   23.228      0.0\n",
       "                 2023-01-06   23.827      0.0\n",
       "                 2023-01-07   23.827      0.0\n",
       "\n",
       "[17999 rows x 2 columns]"
      ]
     },
     "execution_count": 9,
     "metadata": {},
     "output_type": "execute_result"
    }
   ],
   "source": [
    "concat_table = old_table.copy()\n",
    "for de in range(1000,2000,20):\n",
    "    new_table = get_new_table(delta_start=-de-20,delta_end=-de)\n",
    "    concat_table = pd.concat([concat_table,new_table[~new_table.index.isin(concat_table.index)]])\n",
    "    print(-de-20,-de)\n",
    "#     break\n",
    "concat_table.sort_index(inplace=True)\n",
    "concat_table.reset_index().to_csv(\"data.csv\",index=False)\n",
    "concat_table"
   ]
  }
 ],
 "metadata": {
  "kernelspec": {
   "display_name": "Python 3",
   "language": "python",
   "name": "python3"
  },
  "language_info": {
   "codemirror_mode": {
    "name": "ipython",
    "version": 3
   },
   "file_extension": ".py",
   "mimetype": "text/x-python",
   "name": "python",
   "nbconvert_exporter": "python",
   "pygments_lexer": "ipython3",
   "version": "3.7.12"
  },
  "papermill": {
   "default_parameters": {},
   "duration": 66.21989,
   "end_time": "2023-01-07T15:19:12.834557",
   "environment_variables": {},
   "exception": null,
   "input_path": "__notebook__.ipynb",
   "output_path": "__notebook__.ipynb",
   "parameters": {},
   "start_time": "2023-01-07T15:18:06.614667",
   "version": "2.3.4"
  }
 },
 "nbformat": 4,
 "nbformat_minor": 5
}
