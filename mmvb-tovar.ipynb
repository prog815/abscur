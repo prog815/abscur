{
 "cells": [
  {
   "cell_type": "code",
   "execution_count": 1,
   "id": "a267b0ac",
   "metadata": {
    "_cell_guid": "b1076dfc-b9ad-4769-8c92-a6c4dae69d19",
    "_uuid": "8f2839f25d086af736a60e9eeb907d3b93b6e0e5",
    "execution": {
     "iopub.execute_input": "2023-01-07T15:04:34.475166Z",
     "iopub.status.busy": "2023-01-07T15:04:34.474374Z",
     "iopub.status.idle": "2023-01-07T15:04:34.485205Z",
     "shell.execute_reply": "2023-01-07T15:04:34.484057Z"
    },
    "papermill": {
     "duration": 0.020029,
     "end_time": "2023-01-07T15:04:34.487679",
     "exception": false,
     "start_time": "2023-01-07T15:04:34.467650",
     "status": "completed"
    },
    "tags": []
   },
   "outputs": [],
   "source": [
    "import numpy as np\n",
    "import pandas as pd\n",
    "import datetime"
   ]
  },
  {
   "cell_type": "markdown",
   "id": "7601ab84",
   "metadata": {
    "papermill": {
     "duration": 0.002789,
     "end_time": "2023-01-07T15:04:34.493820",
     "exception": false,
     "start_time": "2023-01-07T15:04:34.491031",
     "status": "completed"
    },
    "tags": []
   },
   "source": [
    "# Загрузка старых"
   ]
  },
  {
   "cell_type": "code",
   "execution_count": 2,
   "id": "1f6eea2d",
   "metadata": {
    "execution": {
     "iopub.execute_input": "2023-01-07T15:04:34.502366Z",
     "iopub.status.busy": "2023-01-07T15:04:34.501606Z",
     "iopub.status.idle": "2023-01-07T15:04:34.506077Z",
     "shell.execute_reply": "2023-01-07T15:04:34.504785Z"
    },
    "papermill": {
     "duration": 0.011908,
     "end_time": "2023-01-07T15:04:34.508694",
     "exception": false,
     "start_time": "2023-01-07T15:04:34.496786",
     "status": "completed"
    },
    "tags": []
   },
   "outputs": [],
   "source": [
    "# old_table = pd.read_csv('/kaggle/input/mmvb-tovar/data.csv')\n",
    "# # old_table.set_index(['<TICKER>','<DATE>'],inplace=True)\n",
    "# old_table"
   ]
  },
  {
   "cell_type": "code",
   "execution_count": 3,
   "id": "61feaad3",
   "metadata": {
    "execution": {
     "iopub.execute_input": "2023-01-07T15:04:34.517715Z",
     "iopub.status.busy": "2023-01-07T15:04:34.516970Z",
     "iopub.status.idle": "2023-01-07T15:04:34.525280Z",
     "shell.execute_reply": "2023-01-07T15:04:34.524077Z"
    },
    "papermill": {
     "duration": 0.015681,
     "end_time": "2023-01-07T15:04:34.527721",
     "exception": false,
     "start_time": "2023-01-07T15:04:34.512040",
     "status": "completed"
    },
    "tags": []
   },
   "outputs": [],
   "source": [
    "# https://mfd.ru/export/?groupId=2&selectedTickers=1*,2*,3*,4*,170*,1878,1924,1925,1926#Tickers=1*%2C2*%2C3*%2C4*%2C170*%2C1878%2C1924%2C1925%2C1926&Alias=false&Period=7&timeframeValue=1&timeframeDatePart=day&StartDate=06.01.2023&EndDate=06.01.2023&SaveFormat=0&SaveMode=0&FileName=mfdexport_1day_06012023_06012023.txt&FieldSeparator=%2C&DecimalSeparator=.&TimeFormat=HHmmss&DateFormatCustom=yyyy-MM-dd&AddHeader=true&RecordFormat=2&Fill=false\n",
    "\n",
    "def get_new_table(delta_start=-10,delta_end=0):\n",
    "    end_date = (datetime.datetime.today() + datetime.timedelta(days=delta_end)).strftime('%d.%m.%Y')\n",
    "    start_date = (datetime.datetime.today() + datetime.timedelta(days=delta_start)).strftime('%d.%m.%Y')\n",
    "    url = \"https://mfd.ru/export/handler.ashx/mfdexport_1day.txt?TickerGroup=2&Tickers=1*%2C2*%2C3*%2C4*%2C170*%2C1878%2C1924%2C1925%2C1926&Alias=false&Period=7&timeframeValue=1&timeframeDatePart=day&StartDate=\" + start_date + \"&EndDate=\" + end_date + \"&SaveFormat=0&SaveMode=0&FileName=mfdexport_1day.txt&FieldSeparator=%253b&DecimalSeparator=.&DateFormat=yyyy-MM-dd&TimeFormat=HHmmss&DateFormatCustom=&TimeFormatCustom=&AddHeader=true&RecordFormat=2&Fill=true\"\n",
    "    table = pd.read_csv(url,sep=\";\")\n",
    "    new_table = table[[\"<TICKER>\",\"<DATE>\",\"<CLOSE>\",\"<VOL>\"]]\n",
    "    new_table.set_index(['<TICKER>','<DATE>'],inplace=True)\n",
    "    new_table\n",
    "    return new_table\n",
    "\n",
    "# get_new_table(delta_start=-30,delta_end=-20)"
   ]
  },
  {
   "cell_type": "markdown",
   "id": "292af78c",
   "metadata": {
    "papermill": {
     "duration": 0.00289,
     "end_time": "2023-01-07T15:04:34.533850",
     "exception": false,
     "start_time": "2023-01-07T15:04:34.530960",
     "status": "completed"
    },
    "tags": []
   },
   "source": [
    "# Закачка последних"
   ]
  },
  {
   "cell_type": "code",
   "execution_count": 4,
   "id": "6a0f7e00",
   "metadata": {
    "execution": {
     "iopub.execute_input": "2023-01-07T15:04:34.542260Z",
     "iopub.status.busy": "2023-01-07T15:04:34.541262Z",
     "iopub.status.idle": "2023-01-07T15:04:36.852775Z",
     "shell.execute_reply": "2023-01-07T15:04:36.851509Z"
    },
    "papermill": {
     "duration": 2.318663,
     "end_time": "2023-01-07T15:04:36.855644",
     "exception": false,
     "start_time": "2023-01-07T15:04:34.536981",
     "status": "completed"
    },
    "tags": []
   },
   "outputs": [
    {
     "data": {
      "text/html": [
       "<div>\n",
       "<style scoped>\n",
       "    .dataframe tbody tr th:only-of-type {\n",
       "        vertical-align: middle;\n",
       "    }\n",
       "\n",
       "    .dataframe tbody tr th {\n",
       "        vertical-align: top;\n",
       "    }\n",
       "\n",
       "    .dataframe thead th {\n",
       "        text-align: right;\n",
       "    }\n",
       "</style>\n",
       "<table border=\"1\" class=\"dataframe\">\n",
       "  <thead>\n",
       "    <tr style=\"text-align: right;\">\n",
       "      <th></th>\n",
       "      <th></th>\n",
       "      <th>&lt;CLOSE&gt;</th>\n",
       "      <th>&lt;VOL&gt;</th>\n",
       "    </tr>\n",
       "    <tr>\n",
       "      <th>&lt;TICKER&gt;</th>\n",
       "      <th>&lt;DATE&gt;</th>\n",
       "      <th></th>\n",
       "      <th></th>\n",
       "    </tr>\n",
       "  </thead>\n",
       "  <tbody>\n",
       "    <tr>\n",
       "      <th rowspan=\"5\" valign=\"top\">Gold</th>\n",
       "      <th>2022-12-28</th>\n",
       "      <td>1804.268</td>\n",
       "      <td>0</td>\n",
       "    </tr>\n",
       "    <tr>\n",
       "      <th>2022-12-29</th>\n",
       "      <td>1814.445</td>\n",
       "      <td>0</td>\n",
       "    </tr>\n",
       "    <tr>\n",
       "      <th>2022-12-30</th>\n",
       "      <td>1823.370</td>\n",
       "      <td>0</td>\n",
       "    </tr>\n",
       "    <tr>\n",
       "      <th>2022-12-31</th>\n",
       "      <td>1823.580</td>\n",
       "      <td>0</td>\n",
       "    </tr>\n",
       "    <tr>\n",
       "      <th>2023-01-01</th>\n",
       "      <td>1823.580</td>\n",
       "      <td>0</td>\n",
       "    </tr>\n",
       "    <tr>\n",
       "      <th>...</th>\n",
       "      <th>...</th>\n",
       "      <td>...</td>\n",
       "      <td>...</td>\n",
       "    </tr>\n",
       "    <tr>\n",
       "      <th rowspan=\"5\" valign=\"top\">@Natural gas</th>\n",
       "      <th>2023-01-03</th>\n",
       "      <td>4.014</td>\n",
       "      <td>31015</td>\n",
       "    </tr>\n",
       "    <tr>\n",
       "      <th>2023-01-04</th>\n",
       "      <td>4.155</td>\n",
       "      <td>26862</td>\n",
       "    </tr>\n",
       "    <tr>\n",
       "      <th>2023-01-05</th>\n",
       "      <td>3.756</td>\n",
       "      <td>29042</td>\n",
       "    </tr>\n",
       "    <tr>\n",
       "      <th>2023-01-06</th>\n",
       "      <td>3.734</td>\n",
       "      <td>28979</td>\n",
       "    </tr>\n",
       "    <tr>\n",
       "      <th>2023-01-07</th>\n",
       "      <td>3.734</td>\n",
       "      <td>0</td>\n",
       "    </tr>\n",
       "  </tbody>\n",
       "</table>\n",
       "<p>99 rows × 2 columns</p>\n",
       "</div>"
      ],
      "text/plain": [
       "                          <CLOSE>  <VOL>\n",
       "<TICKER>     <DATE>                     \n",
       "Gold         2022-12-28  1804.268      0\n",
       "             2022-12-29  1814.445      0\n",
       "             2022-12-30  1823.370      0\n",
       "             2022-12-31  1823.580      0\n",
       "             2023-01-01  1823.580      0\n",
       "...                           ...    ...\n",
       "@Natural gas 2023-01-03     4.014  31015\n",
       "             2023-01-04     4.155  26862\n",
       "             2023-01-05     3.756  29042\n",
       "             2023-01-06     3.734  28979\n",
       "             2023-01-07     3.734      0\n",
       "\n",
       "[99 rows x 2 columns]"
      ]
     },
     "execution_count": 4,
     "metadata": {},
     "output_type": "execute_result"
    }
   ],
   "source": [
    "new_table = get_new_table()\n",
    "new_table"
   ]
  },
  {
   "cell_type": "code",
   "execution_count": 5,
   "id": "bc61edea",
   "metadata": {
    "execution": {
     "iopub.execute_input": "2023-01-07T15:04:36.864957Z",
     "iopub.status.busy": "2023-01-07T15:04:36.863753Z",
     "iopub.status.idle": "2023-01-07T15:04:36.869760Z",
     "shell.execute_reply": "2023-01-07T15:04:36.868699Z"
    },
    "papermill": {
     "duration": 0.013137,
     "end_time": "2023-01-07T15:04:36.872316",
     "exception": false,
     "start_time": "2023-01-07T15:04:36.859179",
     "status": "completed"
    },
    "tags": []
   },
   "outputs": [],
   "source": [
    "concat_table = new_table"
   ]
  },
  {
   "cell_type": "markdown",
   "id": "f2647d47",
   "metadata": {
    "papermill": {
     "duration": 0.003088,
     "end_time": "2023-01-07T15:04:36.878881",
     "exception": false,
     "start_time": "2023-01-07T15:04:36.875793",
     "status": "completed"
    },
    "tags": []
   },
   "source": [
    "# Сохранение"
   ]
  },
  {
   "cell_type": "code",
   "execution_count": 6,
   "id": "7139a6db",
   "metadata": {
    "execution": {
     "iopub.execute_input": "2023-01-07T15:04:36.887666Z",
     "iopub.status.busy": "2023-01-07T15:04:36.886871Z",
     "iopub.status.idle": "2023-01-07T15:04:36.903617Z",
     "shell.execute_reply": "2023-01-07T15:04:36.902543Z"
    },
    "papermill": {
     "duration": 0.02392,
     "end_time": "2023-01-07T15:04:36.906083",
     "exception": false,
     "start_time": "2023-01-07T15:04:36.882163",
     "status": "completed"
    },
    "tags": []
   },
   "outputs": [
    {
     "data": {
      "text/html": [
       "<div>\n",
       "<style scoped>\n",
       "    .dataframe tbody tr th:only-of-type {\n",
       "        vertical-align: middle;\n",
       "    }\n",
       "\n",
       "    .dataframe tbody tr th {\n",
       "        vertical-align: top;\n",
       "    }\n",
       "\n",
       "    .dataframe thead th {\n",
       "        text-align: right;\n",
       "    }\n",
       "</style>\n",
       "<table border=\"1\" class=\"dataframe\">\n",
       "  <thead>\n",
       "    <tr style=\"text-align: right;\">\n",
       "      <th></th>\n",
       "      <th>&lt;TICKER&gt;</th>\n",
       "      <th>&lt;DATE&gt;</th>\n",
       "      <th>&lt;CLOSE&gt;</th>\n",
       "      <th>&lt;VOL&gt;</th>\n",
       "    </tr>\n",
       "  </thead>\n",
       "  <tbody>\n",
       "    <tr>\n",
       "      <th>0</th>\n",
       "      <td>Gold</td>\n",
       "      <td>2022-12-28</td>\n",
       "      <td>1804.268</td>\n",
       "      <td>0</td>\n",
       "    </tr>\n",
       "    <tr>\n",
       "      <th>1</th>\n",
       "      <td>Gold</td>\n",
       "      <td>2022-12-29</td>\n",
       "      <td>1814.445</td>\n",
       "      <td>0</td>\n",
       "    </tr>\n",
       "    <tr>\n",
       "      <th>2</th>\n",
       "      <td>Gold</td>\n",
       "      <td>2022-12-30</td>\n",
       "      <td>1823.370</td>\n",
       "      <td>0</td>\n",
       "    </tr>\n",
       "    <tr>\n",
       "      <th>3</th>\n",
       "      <td>Gold</td>\n",
       "      <td>2022-12-31</td>\n",
       "      <td>1823.580</td>\n",
       "      <td>0</td>\n",
       "    </tr>\n",
       "    <tr>\n",
       "      <th>4</th>\n",
       "      <td>Gold</td>\n",
       "      <td>2023-01-01</td>\n",
       "      <td>1823.580</td>\n",
       "      <td>0</td>\n",
       "    </tr>\n",
       "    <tr>\n",
       "      <th>...</th>\n",
       "      <td>...</td>\n",
       "      <td>...</td>\n",
       "      <td>...</td>\n",
       "      <td>...</td>\n",
       "    </tr>\n",
       "    <tr>\n",
       "      <th>94</th>\n",
       "      <td>@Natural gas</td>\n",
       "      <td>2023-01-03</td>\n",
       "      <td>4.014</td>\n",
       "      <td>31015</td>\n",
       "    </tr>\n",
       "    <tr>\n",
       "      <th>95</th>\n",
       "      <td>@Natural gas</td>\n",
       "      <td>2023-01-04</td>\n",
       "      <td>4.155</td>\n",
       "      <td>26862</td>\n",
       "    </tr>\n",
       "    <tr>\n",
       "      <th>96</th>\n",
       "      <td>@Natural gas</td>\n",
       "      <td>2023-01-05</td>\n",
       "      <td>3.756</td>\n",
       "      <td>29042</td>\n",
       "    </tr>\n",
       "    <tr>\n",
       "      <th>97</th>\n",
       "      <td>@Natural gas</td>\n",
       "      <td>2023-01-06</td>\n",
       "      <td>3.734</td>\n",
       "      <td>28979</td>\n",
       "    </tr>\n",
       "    <tr>\n",
       "      <th>98</th>\n",
       "      <td>@Natural gas</td>\n",
       "      <td>2023-01-07</td>\n",
       "      <td>3.734</td>\n",
       "      <td>0</td>\n",
       "    </tr>\n",
       "  </tbody>\n",
       "</table>\n",
       "<p>99 rows × 4 columns</p>\n",
       "</div>"
      ],
      "text/plain": [
       "        <TICKER>      <DATE>   <CLOSE>  <VOL>\n",
       "0           Gold  2022-12-28  1804.268      0\n",
       "1           Gold  2022-12-29  1814.445      0\n",
       "2           Gold  2022-12-30  1823.370      0\n",
       "3           Gold  2022-12-31  1823.580      0\n",
       "4           Gold  2023-01-01  1823.580      0\n",
       "..           ...         ...       ...    ...\n",
       "94  @Natural gas  2023-01-03     4.014  31015\n",
       "95  @Natural gas  2023-01-04     4.155  26862\n",
       "96  @Natural gas  2023-01-05     3.756  29042\n",
       "97  @Natural gas  2023-01-06     3.734  28979\n",
       "98  @Natural gas  2023-01-07     3.734      0\n",
       "\n",
       "[99 rows x 4 columns]"
      ]
     },
     "execution_count": 6,
     "metadata": {},
     "output_type": "execute_result"
    }
   ],
   "source": [
    "concat_table.reset_index(inplace=True)\n",
    "concat_table"
   ]
  },
  {
   "cell_type": "code",
   "execution_count": 7,
   "id": "a5ac7321",
   "metadata": {
    "execution": {
     "iopub.execute_input": "2023-01-07T15:04:36.915366Z",
     "iopub.status.busy": "2023-01-07T15:04:36.914925Z",
     "iopub.status.idle": "2023-01-07T15:04:36.923542Z",
     "shell.execute_reply": "2023-01-07T15:04:36.922430Z"
    },
    "papermill": {
     "duration": 0.01627,
     "end_time": "2023-01-07T15:04:36.926081",
     "exception": false,
     "start_time": "2023-01-07T15:04:36.909811",
     "status": "completed"
    },
    "tags": []
   },
   "outputs": [],
   "source": [
    "concat_table.to_csv(\"data.csv\",index=False)"
   ]
  }
 ],
 "metadata": {
  "kernelspec": {
   "display_name": "Python 3",
   "language": "python",
   "name": "python3"
  },
  "language_info": {
   "codemirror_mode": {
    "name": "ipython",
    "version": 3
   },
   "file_extension": ".py",
   "mimetype": "text/x-python",
   "name": "python",
   "nbconvert_exporter": "python",
   "pygments_lexer": "ipython3",
   "version": "3.7.12"
  },
  "papermill": {
   "default_parameters": {},
   "duration": 13.867194,
   "end_time": "2023-01-07T15:04:37.651713",
   "environment_variables": {},
   "exception": null,
   "input_path": "__notebook__.ipynb",
   "output_path": "__notebook__.ipynb",
   "parameters": {},
   "start_time": "2023-01-07T15:04:23.784519",
   "version": "2.3.4"
  }
 },
 "nbformat": 4,
 "nbformat_minor": 5
}
