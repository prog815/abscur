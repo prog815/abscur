{
 "cells": [
  {
   "cell_type": "code",
   "execution_count": 1,
   "id": "58df7a8c",
   "metadata": {
    "_cell_guid": "b1076dfc-b9ad-4769-8c92-a6c4dae69d19",
    "_uuid": "8f2839f25d086af736a60e9eeb907d3b93b6e0e5",
    "execution": {
     "iopub.execute_input": "2023-01-07T14:56:18.072602Z",
     "iopub.status.busy": "2023-01-07T14:56:18.072048Z",
     "iopub.status.idle": "2023-01-07T14:56:18.082031Z",
     "shell.execute_reply": "2023-01-07T14:56:18.081351Z"
    },
    "papermill": {
     "duration": 0.017001,
     "end_time": "2023-01-07T14:56:18.084179",
     "exception": false,
     "start_time": "2023-01-07T14:56:18.067178",
     "status": "completed"
    },
    "tags": []
   },
   "outputs": [],
   "source": [
    "import numpy as np\n",
    "import pandas as pd\n",
    "import datetime"
   ]
  },
  {
   "cell_type": "code",
   "execution_count": 2,
   "id": "b6097564",
   "metadata": {
    "execution": {
     "iopub.execute_input": "2023-01-07T14:56:18.090715Z",
     "iopub.status.busy": "2023-01-07T14:56:18.090108Z",
     "iopub.status.idle": "2023-01-07T14:56:18.096765Z",
     "shell.execute_reply": "2023-01-07T14:56:18.096078Z"
    },
    "papermill": {
     "duration": 0.011915,
     "end_time": "2023-01-07T14:56:18.098628",
     "exception": false,
     "start_time": "2023-01-07T14:56:18.086713",
     "status": "completed"
    },
    "tags": []
   },
   "outputs": [],
   "source": [
    "# https://mfd.ru/export/?groupId=2&selectedTickers=1*,2*,3*,4*,170*,1878,1924,1925,1926#Tickers=1*%2C2*%2C3*%2C4*%2C170*%2C1878%2C1924%2C1925%2C1926&Alias=false&Period=7&timeframeValue=1&timeframeDatePart=day&StartDate=06.01.2023&EndDate=06.01.2023&SaveFormat=0&SaveMode=0&FileName=mfdexport_1day_06012023_06012023.txt&FieldSeparator=%2C&DecimalSeparator=.&TimeFormat=HHmmss&DateFormatCustom=yyyy-MM-dd&AddHeader=true&RecordFormat=2&Fill=false\n",
    "\n",
    "def get_new_table(delta_start=-10,delta_end=0):\n",
    "    end_date = (datetime.datetime.today() + datetime.timedelta(days=delta_end)).strftime('%d.%m.%Y')\n",
    "    start_date = (datetime.datetime.today() + datetime.timedelta(days=delta_start)).strftime('%d.%m.%Y')\n",
    "    url = \"https://mfd.ru/export/handler.ashx/mfdexport_1day.txt?TickerGroup=2&Tickers=1*%2C2*%2C3*%2C4*%2C170*%2C1878%2C1924%2C1925%2C1926&Alias=false&Period=7&timeframeValue=1&timeframeDatePart=day&StartDate=\" + start_date + \"&EndDate=\" + end_date + \"&SaveFormat=0&SaveMode=0&FileName=mfdexport_1day.txt&FieldSeparator=%253b&DecimalSeparator=.&DateFormat=yyyy-MM-dd&TimeFormat=HHmmss&DateFormatCustom=&TimeFormatCustom=&AddHeader=true&RecordFormat=2&Fill=true\"\n",
    "    table = pd.read_csv(url,sep=\";\")\n",
    "    new_table = table[[\"<TICKER>\",\"<DATE>\",\"<CLOSE>\",\"<VOL>\"]]\n",
    "    new_table.set_index(['<TICKER>','<DATE>'],inplace=True)\n",
    "    new_table\n",
    "    return new_table\n",
    "\n",
    "# get_new_table(delta_start=-30,delta_end=-20)"
   ]
  },
  {
   "cell_type": "markdown",
   "id": "20130be4",
   "metadata": {
    "papermill": {
     "duration": 0.001954,
     "end_time": "2023-01-07T14:56:18.102921",
     "exception": false,
     "start_time": "2023-01-07T14:56:18.100967",
     "status": "completed"
    },
    "tags": []
   },
   "source": [
    "# Закачка последних"
   ]
  },
  {
   "cell_type": "code",
   "execution_count": 3,
   "id": "b39d2545",
   "metadata": {
    "execution": {
     "iopub.execute_input": "2023-01-07T14:56:18.110068Z",
     "iopub.status.busy": "2023-01-07T14:56:18.109415Z",
     "iopub.status.idle": "2023-01-07T14:56:19.689437Z",
     "shell.execute_reply": "2023-01-07T14:56:19.688559Z"
    },
    "papermill": {
     "duration": 1.588767,
     "end_time": "2023-01-07T14:56:19.694267",
     "exception": false,
     "start_time": "2023-01-07T14:56:18.105500",
     "status": "completed"
    },
    "tags": []
   },
   "outputs": [
    {
     "data": {
      "text/html": [
       "<div>\n",
       "<style scoped>\n",
       "    .dataframe tbody tr th:only-of-type {\n",
       "        vertical-align: middle;\n",
       "    }\n",
       "\n",
       "    .dataframe tbody tr th {\n",
       "        vertical-align: top;\n",
       "    }\n",
       "\n",
       "    .dataframe thead th {\n",
       "        text-align: right;\n",
       "    }\n",
       "</style>\n",
       "<table border=\"1\" class=\"dataframe\">\n",
       "  <thead>\n",
       "    <tr style=\"text-align: right;\">\n",
       "      <th></th>\n",
       "      <th></th>\n",
       "      <th>&lt;CLOSE&gt;</th>\n",
       "      <th>&lt;VOL&gt;</th>\n",
       "    </tr>\n",
       "    <tr>\n",
       "      <th>&lt;TICKER&gt;</th>\n",
       "      <th>&lt;DATE&gt;</th>\n",
       "      <th></th>\n",
       "      <th></th>\n",
       "    </tr>\n",
       "  </thead>\n",
       "  <tbody>\n",
       "    <tr>\n",
       "      <th rowspan=\"5\" valign=\"top\">Gold</th>\n",
       "      <th>2022-12-28</th>\n",
       "      <td>1804.268</td>\n",
       "      <td>0</td>\n",
       "    </tr>\n",
       "    <tr>\n",
       "      <th>2022-12-29</th>\n",
       "      <td>1814.445</td>\n",
       "      <td>0</td>\n",
       "    </tr>\n",
       "    <tr>\n",
       "      <th>2022-12-30</th>\n",
       "      <td>1823.370</td>\n",
       "      <td>0</td>\n",
       "    </tr>\n",
       "    <tr>\n",
       "      <th>2022-12-31</th>\n",
       "      <td>1823.580</td>\n",
       "      <td>0</td>\n",
       "    </tr>\n",
       "    <tr>\n",
       "      <th>2023-01-01</th>\n",
       "      <td>1823.580</td>\n",
       "      <td>0</td>\n",
       "    </tr>\n",
       "    <tr>\n",
       "      <th>...</th>\n",
       "      <th>...</th>\n",
       "      <td>...</td>\n",
       "      <td>...</td>\n",
       "    </tr>\n",
       "    <tr>\n",
       "      <th rowspan=\"5\" valign=\"top\">@Natural gas</th>\n",
       "      <th>2023-01-03</th>\n",
       "      <td>4.014</td>\n",
       "      <td>31015</td>\n",
       "    </tr>\n",
       "    <tr>\n",
       "      <th>2023-01-04</th>\n",
       "      <td>4.155</td>\n",
       "      <td>26862</td>\n",
       "    </tr>\n",
       "    <tr>\n",
       "      <th>2023-01-05</th>\n",
       "      <td>3.756</td>\n",
       "      <td>29042</td>\n",
       "    </tr>\n",
       "    <tr>\n",
       "      <th>2023-01-06</th>\n",
       "      <td>3.734</td>\n",
       "      <td>28979</td>\n",
       "    </tr>\n",
       "    <tr>\n",
       "      <th>2023-01-07</th>\n",
       "      <td>3.734</td>\n",
       "      <td>0</td>\n",
       "    </tr>\n",
       "  </tbody>\n",
       "</table>\n",
       "<p>99 rows × 2 columns</p>\n",
       "</div>"
      ],
      "text/plain": [
       "                          <CLOSE>  <VOL>\n",
       "<TICKER>     <DATE>                     \n",
       "Gold         2022-12-28  1804.268      0\n",
       "             2022-12-29  1814.445      0\n",
       "             2022-12-30  1823.370      0\n",
       "             2022-12-31  1823.580      0\n",
       "             2023-01-01  1823.580      0\n",
       "...                           ...    ...\n",
       "@Natural gas 2023-01-03     4.014  31015\n",
       "             2023-01-04     4.155  26862\n",
       "             2023-01-05     3.756  29042\n",
       "             2023-01-06     3.734  28979\n",
       "             2023-01-07     3.734      0\n",
       "\n",
       "[99 rows x 2 columns]"
      ]
     },
     "execution_count": 3,
     "metadata": {},
     "output_type": "execute_result"
    }
   ],
   "source": [
    "new_table = get_new_table()\n",
    "new_table"
   ]
  },
  {
   "cell_type": "code",
   "execution_count": 4,
   "id": "16cd25dc",
   "metadata": {
    "execution": {
     "iopub.execute_input": "2023-01-07T14:56:19.701253Z",
     "iopub.status.busy": "2023-01-07T14:56:19.700666Z",
     "iopub.status.idle": "2023-01-07T14:56:19.705418Z",
     "shell.execute_reply": "2023-01-07T14:56:19.703847Z"
    },
    "papermill": {
     "duration": 0.010972,
     "end_time": "2023-01-07T14:56:19.707809",
     "exception": false,
     "start_time": "2023-01-07T14:56:19.696837",
     "status": "completed"
    },
    "tags": []
   },
   "outputs": [],
   "source": [
    "concat_table = new_table"
   ]
  },
  {
   "cell_type": "markdown",
   "id": "f788ab9f",
   "metadata": {
    "papermill": {
     "duration": 0.002419,
     "end_time": "2023-01-07T14:56:19.712906",
     "exception": false,
     "start_time": "2023-01-07T14:56:19.710487",
     "status": "completed"
    },
    "tags": []
   },
   "source": [
    "# Сохранение"
   ]
  },
  {
   "cell_type": "code",
   "execution_count": 5,
   "id": "cda6172c",
   "metadata": {
    "execution": {
     "iopub.execute_input": "2023-01-07T14:56:19.720615Z",
     "iopub.status.busy": "2023-01-07T14:56:19.720254Z",
     "iopub.status.idle": "2023-01-07T14:56:19.729996Z",
     "shell.execute_reply": "2023-01-07T14:56:19.728956Z"
    },
    "papermill": {
     "duration": 0.016608,
     "end_time": "2023-01-07T14:56:19.732570",
     "exception": false,
     "start_time": "2023-01-07T14:56:19.715962",
     "status": "completed"
    },
    "tags": []
   },
   "outputs": [],
   "source": [
    "concat_table.to_csv(\"data.csv\",index=False)"
   ]
  }
 ],
 "metadata": {
  "kernelspec": {
   "display_name": "Python 3",
   "language": "python",
   "name": "python3"
  },
  "language_info": {
   "codemirror_mode": {
    "name": "ipython",
    "version": 3
   },
   "file_extension": ".py",
   "mimetype": "text/x-python",
   "name": "python",
   "nbconvert_exporter": "python",
   "pygments_lexer": "ipython3",
   "version": "3.7.12"
  },
  "papermill": {
   "default_parameters": {},
   "duration": 10.108179,
   "end_time": "2023-01-07T14:56:20.456781",
   "environment_variables": {},
   "exception": null,
   "input_path": "__notebook__.ipynb",
   "output_path": "__notebook__.ipynb",
   "parameters": {},
   "start_time": "2023-01-07T14:56:10.348602",
   "version": "2.3.4"
  }
 },
 "nbformat": 4,
 "nbformat_minor": 5
}
