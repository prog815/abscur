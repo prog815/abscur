{
 "cells": [
  {
   "cell_type": "code",
   "execution_count": 1,
   "id": "8985ccf5",
   "metadata": {
    "_cell_guid": "b1076dfc-b9ad-4769-8c92-a6c4dae69d19",
    "_uuid": "8f2839f25d086af736a60e9eeb907d3b93b6e0e5",
    "execution": {
     "iopub.execute_input": "2023-01-07T15:14:42.616091Z",
     "iopub.status.busy": "2023-01-07T15:14:42.615728Z",
     "iopub.status.idle": "2023-01-07T15:14:42.623217Z",
     "shell.execute_reply": "2023-01-07T15:14:42.622656Z"
    },
    "papermill": {
     "duration": 0.014572,
     "end_time": "2023-01-07T15:14:42.624796",
     "exception": false,
     "start_time": "2023-01-07T15:14:42.610224",
     "status": "completed"
    },
    "tags": []
   },
   "outputs": [],
   "source": [
    "import numpy as np\n",
    "import pandas as pd\n",
    "import datetime"
   ]
  },
  {
   "cell_type": "markdown",
   "id": "88db61cc",
   "metadata": {
    "papermill": {
     "duration": 0.002884,
     "end_time": "2023-01-07T15:14:42.630885",
     "exception": false,
     "start_time": "2023-01-07T15:14:42.628001",
     "status": "completed"
    },
    "tags": []
   },
   "source": [
    "# Загрузка старых"
   ]
  },
  {
   "cell_type": "code",
   "execution_count": 2,
   "id": "983b6a01",
   "metadata": {
    "execution": {
     "iopub.execute_input": "2023-01-07T15:14:42.638282Z",
     "iopub.status.busy": "2023-01-07T15:14:42.637872Z",
     "iopub.status.idle": "2023-01-07T15:14:42.683164Z",
     "shell.execute_reply": "2023-01-07T15:14:42.682595Z"
    },
    "papermill": {
     "duration": 0.051014,
     "end_time": "2023-01-07T15:14:42.684895",
     "exception": false,
     "start_time": "2023-01-07T15:14:42.633881",
     "status": "completed"
    },
    "tags": []
   },
   "outputs": [
    {
     "data": {
      "text/html": [
       "<div>\n",
       "<style scoped>\n",
       "    .dataframe tbody tr th:only-of-type {\n",
       "        vertical-align: middle;\n",
       "    }\n",
       "\n",
       "    .dataframe tbody tr th {\n",
       "        vertical-align: top;\n",
       "    }\n",
       "\n",
       "    .dataframe thead th {\n",
       "        text-align: right;\n",
       "    }\n",
       "</style>\n",
       "<table border=\"1\" class=\"dataframe\">\n",
       "  <thead>\n",
       "    <tr style=\"text-align: right;\">\n",
       "      <th></th>\n",
       "      <th></th>\n",
       "      <th>&lt;CLOSE&gt;</th>\n",
       "      <th>&lt;VOL&gt;</th>\n",
       "    </tr>\n",
       "    <tr>\n",
       "      <th>&lt;TICKER&gt;</th>\n",
       "      <th>&lt;DATE&gt;</th>\n",
       "      <th></th>\n",
       "      <th></th>\n",
       "    </tr>\n",
       "  </thead>\n",
       "  <tbody>\n",
       "    <tr>\n",
       "      <th rowspan=\"5\" valign=\"top\">Gold</th>\n",
       "      <th>2022-12-28</th>\n",
       "      <td>1804.268</td>\n",
       "      <td>0</td>\n",
       "    </tr>\n",
       "    <tr>\n",
       "      <th>2022-12-29</th>\n",
       "      <td>1814.445</td>\n",
       "      <td>0</td>\n",
       "    </tr>\n",
       "    <tr>\n",
       "      <th>2022-12-30</th>\n",
       "      <td>1823.370</td>\n",
       "      <td>0</td>\n",
       "    </tr>\n",
       "    <tr>\n",
       "      <th>2022-12-31</th>\n",
       "      <td>1823.580</td>\n",
       "      <td>0</td>\n",
       "    </tr>\n",
       "    <tr>\n",
       "      <th>2023-01-01</th>\n",
       "      <td>1823.580</td>\n",
       "      <td>0</td>\n",
       "    </tr>\n",
       "    <tr>\n",
       "      <th>...</th>\n",
       "      <th>...</th>\n",
       "      <td>...</td>\n",
       "      <td>...</td>\n",
       "    </tr>\n",
       "    <tr>\n",
       "      <th rowspan=\"5\" valign=\"top\">@Natural gas</th>\n",
       "      <th>2023-01-03</th>\n",
       "      <td>4.014</td>\n",
       "      <td>31015</td>\n",
       "    </tr>\n",
       "    <tr>\n",
       "      <th>2023-01-04</th>\n",
       "      <td>4.155</td>\n",
       "      <td>26862</td>\n",
       "    </tr>\n",
       "    <tr>\n",
       "      <th>2023-01-05</th>\n",
       "      <td>3.756</td>\n",
       "      <td>29042</td>\n",
       "    </tr>\n",
       "    <tr>\n",
       "      <th>2023-01-06</th>\n",
       "      <td>3.734</td>\n",
       "      <td>28979</td>\n",
       "    </tr>\n",
       "    <tr>\n",
       "      <th>2023-01-07</th>\n",
       "      <td>3.734</td>\n",
       "      <td>0</td>\n",
       "    </tr>\n",
       "  </tbody>\n",
       "</table>\n",
       "<p>99 rows × 2 columns</p>\n",
       "</div>"
      ],
      "text/plain": [
       "                          <CLOSE>  <VOL>\n",
       "<TICKER>     <DATE>                     \n",
       "Gold         2022-12-28  1804.268      0\n",
       "             2022-12-29  1814.445      0\n",
       "             2022-12-30  1823.370      0\n",
       "             2022-12-31  1823.580      0\n",
       "             2023-01-01  1823.580      0\n",
       "...                           ...    ...\n",
       "@Natural gas 2023-01-03     4.014  31015\n",
       "             2023-01-04     4.155  26862\n",
       "             2023-01-05     3.756  29042\n",
       "             2023-01-06     3.734  28979\n",
       "             2023-01-07     3.734      0\n",
       "\n",
       "[99 rows x 2 columns]"
      ]
     },
     "execution_count": 2,
     "metadata": {},
     "output_type": "execute_result"
    }
   ],
   "source": [
    "old_table = pd.read_csv('/kaggle/input/mmvb-tovar/data.csv')\n",
    "old_table.set_index(['<TICKER>','<DATE>'],inplace=True)\n",
    "old_table"
   ]
  },
  {
   "cell_type": "code",
   "execution_count": 3,
   "id": "b79cc6c8",
   "metadata": {
    "execution": {
     "iopub.execute_input": "2023-01-07T15:14:42.693529Z",
     "iopub.status.busy": "2023-01-07T15:14:42.693039Z",
     "iopub.status.idle": "2023-01-07T15:14:42.698689Z",
     "shell.execute_reply": "2023-01-07T15:14:42.698134Z"
    },
    "papermill": {
     "duration": 0.011839,
     "end_time": "2023-01-07T15:14:42.700203",
     "exception": false,
     "start_time": "2023-01-07T15:14:42.688364",
     "status": "completed"
    },
    "tags": []
   },
   "outputs": [],
   "source": [
    "# https://mfd.ru/export/?groupId=2&selectedTickers=1*,2*,3*,4*,170*,1878,1924,1925,1926#Tickers=1*%2C2*%2C3*%2C4*%2C170*%2C1878%2C1924%2C1925%2C1926&Alias=false&Period=7&timeframeValue=1&timeframeDatePart=day&StartDate=06.01.2023&EndDate=06.01.2023&SaveFormat=0&SaveMode=0&FileName=mfdexport_1day_06012023_06012023.txt&FieldSeparator=%2C&DecimalSeparator=.&TimeFormat=HHmmss&DateFormatCustom=yyyy-MM-dd&AddHeader=true&RecordFormat=2&Fill=false\n",
    "\n",
    "def get_new_table(delta_start=-10,delta_end=0):\n",
    "    end_date = (datetime.datetime.today() + datetime.timedelta(days=delta_end)).strftime('%d.%m.%Y')\n",
    "    start_date = (datetime.datetime.today() + datetime.timedelta(days=delta_start)).strftime('%d.%m.%Y')\n",
    "    url = \"https://mfd.ru/export/handler.ashx/mfdexport_1day.txt?TickerGroup=2&Tickers=1*%2C2*%2C3*%2C4*%2C170*%2C1878%2C1924%2C1925%2C1926&Alias=false&Period=7&timeframeValue=1&timeframeDatePart=day&StartDate=\" + start_date + \"&EndDate=\" + end_date + \"&SaveFormat=0&SaveMode=0&FileName=mfdexport_1day.txt&FieldSeparator=%253b&DecimalSeparator=.&DateFormat=yyyy-MM-dd&TimeFormat=HHmmss&DateFormatCustom=&TimeFormatCustom=&AddHeader=true&RecordFormat=2&Fill=true\"\n",
    "    table = pd.read_csv(url,sep=\";\")\n",
    "    new_table = table[[\"<TICKER>\",\"<DATE>\",\"<CLOSE>\",\"<VOL>\"]]\n",
    "    new_table.set_index(['<TICKER>','<DATE>'],inplace=True)\n",
    "    new_table\n",
    "    return new_table\n",
    "\n",
    "# get_new_table(delta_start=-30,delta_end=-20)"
   ]
  },
  {
   "cell_type": "markdown",
   "id": "b96e1c04",
   "metadata": {
    "papermill": {
     "duration": 0.003123,
     "end_time": "2023-01-07T15:14:42.706613",
     "exception": false,
     "start_time": "2023-01-07T15:14:42.703490",
     "status": "completed"
    },
    "tags": []
   },
   "source": [
    "# Закачка последних"
   ]
  },
  {
   "cell_type": "code",
   "execution_count": 4,
   "id": "3c0240f5",
   "metadata": {
    "execution": {
     "iopub.execute_input": "2023-01-07T15:14:42.714125Z",
     "iopub.status.busy": "2023-01-07T15:14:42.713753Z",
     "iopub.status.idle": "2023-01-07T15:14:43.924539Z",
     "shell.execute_reply": "2023-01-07T15:14:43.923917Z"
    },
    "papermill": {
     "duration": 1.216332,
     "end_time": "2023-01-07T15:14:43.926167",
     "exception": false,
     "start_time": "2023-01-07T15:14:42.709835",
     "status": "completed"
    },
    "tags": []
   },
   "outputs": [
    {
     "data": {
      "text/html": [
       "<div>\n",
       "<style scoped>\n",
       "    .dataframe tbody tr th:only-of-type {\n",
       "        vertical-align: middle;\n",
       "    }\n",
       "\n",
       "    .dataframe tbody tr th {\n",
       "        vertical-align: top;\n",
       "    }\n",
       "\n",
       "    .dataframe thead th {\n",
       "        text-align: right;\n",
       "    }\n",
       "</style>\n",
       "<table border=\"1\" class=\"dataframe\">\n",
       "  <thead>\n",
       "    <tr style=\"text-align: right;\">\n",
       "      <th></th>\n",
       "      <th></th>\n",
       "      <th>&lt;CLOSE&gt;</th>\n",
       "      <th>&lt;VOL&gt;</th>\n",
       "    </tr>\n",
       "    <tr>\n",
       "      <th>&lt;TICKER&gt;</th>\n",
       "      <th>&lt;DATE&gt;</th>\n",
       "      <th></th>\n",
       "      <th></th>\n",
       "    </tr>\n",
       "  </thead>\n",
       "  <tbody>\n",
       "    <tr>\n",
       "      <th rowspan=\"5\" valign=\"top\">Gold</th>\n",
       "      <th>2022-12-28</th>\n",
       "      <td>1804.268</td>\n",
       "      <td>0</td>\n",
       "    </tr>\n",
       "    <tr>\n",
       "      <th>2022-12-29</th>\n",
       "      <td>1814.445</td>\n",
       "      <td>0</td>\n",
       "    </tr>\n",
       "    <tr>\n",
       "      <th>2022-12-30</th>\n",
       "      <td>1823.370</td>\n",
       "      <td>0</td>\n",
       "    </tr>\n",
       "    <tr>\n",
       "      <th>2022-12-31</th>\n",
       "      <td>1823.580</td>\n",
       "      <td>0</td>\n",
       "    </tr>\n",
       "    <tr>\n",
       "      <th>2023-01-01</th>\n",
       "      <td>1823.580</td>\n",
       "      <td>0</td>\n",
       "    </tr>\n",
       "    <tr>\n",
       "      <th>...</th>\n",
       "      <th>...</th>\n",
       "      <td>...</td>\n",
       "      <td>...</td>\n",
       "    </tr>\n",
       "    <tr>\n",
       "      <th rowspan=\"5\" valign=\"top\">@Natural gas</th>\n",
       "      <th>2023-01-03</th>\n",
       "      <td>4.014</td>\n",
       "      <td>31015</td>\n",
       "    </tr>\n",
       "    <tr>\n",
       "      <th>2023-01-04</th>\n",
       "      <td>4.155</td>\n",
       "      <td>26862</td>\n",
       "    </tr>\n",
       "    <tr>\n",
       "      <th>2023-01-05</th>\n",
       "      <td>3.756</td>\n",
       "      <td>29042</td>\n",
       "    </tr>\n",
       "    <tr>\n",
       "      <th>2023-01-06</th>\n",
       "      <td>3.734</td>\n",
       "      <td>28979</td>\n",
       "    </tr>\n",
       "    <tr>\n",
       "      <th>2023-01-07</th>\n",
       "      <td>3.734</td>\n",
       "      <td>0</td>\n",
       "    </tr>\n",
       "  </tbody>\n",
       "</table>\n",
       "<p>99 rows × 2 columns</p>\n",
       "</div>"
      ],
      "text/plain": [
       "                          <CLOSE>  <VOL>\n",
       "<TICKER>     <DATE>                     \n",
       "Gold         2022-12-28  1804.268      0\n",
       "             2022-12-29  1814.445      0\n",
       "             2022-12-30  1823.370      0\n",
       "             2022-12-31  1823.580      0\n",
       "             2023-01-01  1823.580      0\n",
       "...                           ...    ...\n",
       "@Natural gas 2023-01-03     4.014  31015\n",
       "             2023-01-04     4.155  26862\n",
       "             2023-01-05     3.756  29042\n",
       "             2023-01-06     3.734  28979\n",
       "             2023-01-07     3.734      0\n",
       "\n",
       "[99 rows x 2 columns]"
      ]
     },
     "execution_count": 4,
     "metadata": {},
     "output_type": "execute_result"
    }
   ],
   "source": [
    "new_table = get_new_table()\n",
    "new_table"
   ]
  },
  {
   "cell_type": "code",
   "execution_count": 5,
   "id": "f513f1e0",
   "metadata": {
    "execution": {
     "iopub.execute_input": "2023-01-07T15:14:43.934763Z",
     "iopub.status.busy": "2023-01-07T15:14:43.934333Z",
     "iopub.status.idle": "2023-01-07T15:14:43.937958Z",
     "shell.execute_reply": "2023-01-07T15:14:43.937256Z"
    },
    "papermill": {
     "duration": 0.009737,
     "end_time": "2023-01-07T15:14:43.939661",
     "exception": false,
     "start_time": "2023-01-07T15:14:43.929924",
     "status": "completed"
    },
    "tags": []
   },
   "outputs": [],
   "source": [
    "concat_table = new_table"
   ]
  },
  {
   "cell_type": "markdown",
   "id": "79d25b23",
   "metadata": {
    "papermill": {
     "duration": 0.003344,
     "end_time": "2023-01-07T15:14:43.946620",
     "exception": false,
     "start_time": "2023-01-07T15:14:43.943276",
     "status": "completed"
    },
    "tags": []
   },
   "source": [
    "# Обновление существующих"
   ]
  },
  {
   "cell_type": "code",
   "execution_count": 6,
   "id": "e73648d2",
   "metadata": {
    "execution": {
     "iopub.execute_input": "2023-01-07T15:14:43.955109Z",
     "iopub.status.busy": "2023-01-07T15:14:43.954701Z",
     "iopub.status.idle": "2023-01-07T15:14:43.958773Z",
     "shell.execute_reply": "2023-01-07T15:14:43.958209Z"
    },
    "papermill": {
     "duration": 0.010139,
     "end_time": "2023-01-07T15:14:43.960315",
     "exception": false,
     "start_time": "2023-01-07T15:14:43.950176",
     "status": "completed"
    },
    "tags": []
   },
   "outputs": [],
   "source": [
    "old_table.update(new_table)"
   ]
  },
  {
   "cell_type": "markdown",
   "id": "8104c2d2",
   "metadata": {
    "papermill": {
     "duration": 0.0035,
     "end_time": "2023-01-07T15:14:43.967687",
     "exception": false,
     "start_time": "2023-01-07T15:14:43.964187",
     "status": "completed"
    },
    "tags": []
   },
   "source": [
    "# Сохранение"
   ]
  },
  {
   "cell_type": "code",
   "execution_count": 7,
   "id": "c313874e",
   "metadata": {
    "execution": {
     "iopub.execute_input": "2023-01-07T15:14:43.976736Z",
     "iopub.status.busy": "2023-01-07T15:14:43.976336Z",
     "iopub.status.idle": "2023-01-07T15:14:43.991067Z",
     "shell.execute_reply": "2023-01-07T15:14:43.990165Z"
    },
    "papermill": {
     "duration": 0.021603,
     "end_time": "2023-01-07T15:14:43.992884",
     "exception": false,
     "start_time": "2023-01-07T15:14:43.971281",
     "status": "completed"
    },
    "tags": []
   },
   "outputs": [
    {
     "data": {
      "text/html": [
       "<div>\n",
       "<style scoped>\n",
       "    .dataframe tbody tr th:only-of-type {\n",
       "        vertical-align: middle;\n",
       "    }\n",
       "\n",
       "    .dataframe tbody tr th {\n",
       "        vertical-align: top;\n",
       "    }\n",
       "\n",
       "    .dataframe thead th {\n",
       "        text-align: right;\n",
       "    }\n",
       "</style>\n",
       "<table border=\"1\" class=\"dataframe\">\n",
       "  <thead>\n",
       "    <tr style=\"text-align: right;\">\n",
       "      <th></th>\n",
       "      <th>&lt;TICKER&gt;</th>\n",
       "      <th>&lt;DATE&gt;</th>\n",
       "      <th>&lt;CLOSE&gt;</th>\n",
       "      <th>&lt;VOL&gt;</th>\n",
       "    </tr>\n",
       "  </thead>\n",
       "  <tbody>\n",
       "    <tr>\n",
       "      <th>0</th>\n",
       "      <td>Gold</td>\n",
       "      <td>2022-12-28</td>\n",
       "      <td>1804.268</td>\n",
       "      <td>0</td>\n",
       "    </tr>\n",
       "    <tr>\n",
       "      <th>1</th>\n",
       "      <td>Gold</td>\n",
       "      <td>2022-12-29</td>\n",
       "      <td>1814.445</td>\n",
       "      <td>0</td>\n",
       "    </tr>\n",
       "    <tr>\n",
       "      <th>2</th>\n",
       "      <td>Gold</td>\n",
       "      <td>2022-12-30</td>\n",
       "      <td>1823.370</td>\n",
       "      <td>0</td>\n",
       "    </tr>\n",
       "    <tr>\n",
       "      <th>3</th>\n",
       "      <td>Gold</td>\n",
       "      <td>2022-12-31</td>\n",
       "      <td>1823.580</td>\n",
       "      <td>0</td>\n",
       "    </tr>\n",
       "    <tr>\n",
       "      <th>4</th>\n",
       "      <td>Gold</td>\n",
       "      <td>2023-01-01</td>\n",
       "      <td>1823.580</td>\n",
       "      <td>0</td>\n",
       "    </tr>\n",
       "    <tr>\n",
       "      <th>...</th>\n",
       "      <td>...</td>\n",
       "      <td>...</td>\n",
       "      <td>...</td>\n",
       "      <td>...</td>\n",
       "    </tr>\n",
       "    <tr>\n",
       "      <th>94</th>\n",
       "      <td>@Natural gas</td>\n",
       "      <td>2023-01-03</td>\n",
       "      <td>4.014</td>\n",
       "      <td>31015</td>\n",
       "    </tr>\n",
       "    <tr>\n",
       "      <th>95</th>\n",
       "      <td>@Natural gas</td>\n",
       "      <td>2023-01-04</td>\n",
       "      <td>4.155</td>\n",
       "      <td>26862</td>\n",
       "    </tr>\n",
       "    <tr>\n",
       "      <th>96</th>\n",
       "      <td>@Natural gas</td>\n",
       "      <td>2023-01-05</td>\n",
       "      <td>3.756</td>\n",
       "      <td>29042</td>\n",
       "    </tr>\n",
       "    <tr>\n",
       "      <th>97</th>\n",
       "      <td>@Natural gas</td>\n",
       "      <td>2023-01-06</td>\n",
       "      <td>3.734</td>\n",
       "      <td>28979</td>\n",
       "    </tr>\n",
       "    <tr>\n",
       "      <th>98</th>\n",
       "      <td>@Natural gas</td>\n",
       "      <td>2023-01-07</td>\n",
       "      <td>3.734</td>\n",
       "      <td>0</td>\n",
       "    </tr>\n",
       "  </tbody>\n",
       "</table>\n",
       "<p>99 rows × 4 columns</p>\n",
       "</div>"
      ],
      "text/plain": [
       "        <TICKER>      <DATE>   <CLOSE>  <VOL>\n",
       "0           Gold  2022-12-28  1804.268      0\n",
       "1           Gold  2022-12-29  1814.445      0\n",
       "2           Gold  2022-12-30  1823.370      0\n",
       "3           Gold  2022-12-31  1823.580      0\n",
       "4           Gold  2023-01-01  1823.580      0\n",
       "..           ...         ...       ...    ...\n",
       "94  @Natural gas  2023-01-03     4.014  31015\n",
       "95  @Natural gas  2023-01-04     4.155  26862\n",
       "96  @Natural gas  2023-01-05     3.756  29042\n",
       "97  @Natural gas  2023-01-06     3.734  28979\n",
       "98  @Natural gas  2023-01-07     3.734      0\n",
       "\n",
       "[99 rows x 4 columns]"
      ]
     },
     "execution_count": 7,
     "metadata": {},
     "output_type": "execute_result"
    }
   ],
   "source": [
    "concat_table.reset_index(inplace=True)\n",
    "concat_table"
   ]
  },
  {
   "cell_type": "code",
   "execution_count": 8,
   "id": "a7b84817",
   "metadata": {
    "execution": {
     "iopub.execute_input": "2023-01-07T15:14:44.001854Z",
     "iopub.status.busy": "2023-01-07T15:14:44.001529Z",
     "iopub.status.idle": "2023-01-07T15:14:44.008451Z",
     "shell.execute_reply": "2023-01-07T15:14:44.007747Z"
    },
    "papermill": {
     "duration": 0.01333,
     "end_time": "2023-01-07T15:14:44.010234",
     "exception": false,
     "start_time": "2023-01-07T15:14:43.996904",
     "status": "completed"
    },
    "tags": []
   },
   "outputs": [],
   "source": [
    "concat_table.to_csv(\"data.csv\",index=False)"
   ]
  },
  {
   "cell_type": "markdown",
   "id": "3dd9e0c1",
   "metadata": {
    "papermill": {
     "duration": 0.003643,
     "end_time": "2023-01-07T15:14:44.018064",
     "exception": false,
     "start_time": "2023-01-07T15:14:44.014421",
     "status": "completed"
    },
    "tags": []
   },
   "source": [
    "# Подкачка старых"
   ]
  },
  {
   "cell_type": "code",
   "execution_count": 9,
   "id": "c95d7cea",
   "metadata": {
    "execution": {
     "iopub.execute_input": "2023-01-07T15:14:44.027152Z",
     "iopub.status.busy": "2023-01-07T15:14:44.026757Z",
     "iopub.status.idle": "2023-01-07T15:15:40.178587Z",
     "shell.execute_reply": "2023-01-07T15:15:40.177715Z"
    },
    "papermill": {
     "duration": 56.158563,
     "end_time": "2023-01-07T15:15:40.180432",
     "exception": false,
     "start_time": "2023-01-07T15:14:44.021869",
     "status": "completed"
    },
    "tags": []
   },
   "outputs": [
    {
     "name": "stdout",
     "output_type": "stream",
     "text": [
      "-20 0\n",
      "-40 -20\n",
      "-60 -40\n",
      "-80 -60\n",
      "-100 -80\n",
      "-120 -100\n",
      "-140 -120\n",
      "-160 -140\n",
      "-180 -160\n",
      "-200 -180\n",
      "-220 -200\n",
      "-240 -220\n",
      "-260 -240\n",
      "-280 -260\n",
      "-300 -280\n",
      "-320 -300\n",
      "-340 -320\n",
      "-360 -340\n",
      "-380 -360\n",
      "-400 -380\n",
      "-420 -400\n",
      "-440 -420\n",
      "-460 -440\n",
      "-480 -460\n",
      "-500 -480\n",
      "-520 -500\n",
      "-540 -520\n",
      "-560 -540\n",
      "-580 -560\n",
      "-600 -580\n",
      "-620 -600\n",
      "-640 -620\n",
      "-660 -640\n",
      "-680 -660\n",
      "-700 -680\n",
      "-720 -700\n",
      "-740 -720\n",
      "-760 -740\n",
      "-780 -760\n",
      "-800 -780\n",
      "-820 -800\n",
      "-840 -820\n",
      "-860 -840\n",
      "-880 -860\n",
      "-900 -880\n",
      "-920 -900\n",
      "-940 -920\n",
      "-960 -940\n",
      "-980 -960\n",
      "-1000 -980\n"
     ]
    },
    {
     "data": {
      "text/html": [
       "<div>\n",
       "<style scoped>\n",
       "    .dataframe tbody tr th:only-of-type {\n",
       "        vertical-align: middle;\n",
       "    }\n",
       "\n",
       "    .dataframe tbody tr th {\n",
       "        vertical-align: top;\n",
       "    }\n",
       "\n",
       "    .dataframe thead th {\n",
       "        text-align: right;\n",
       "    }\n",
       "</style>\n",
       "<table border=\"1\" class=\"dataframe\">\n",
       "  <thead>\n",
       "    <tr style=\"text-align: right;\">\n",
       "      <th></th>\n",
       "      <th></th>\n",
       "      <th>&lt;CLOSE&gt;</th>\n",
       "      <th>&lt;VOL&gt;</th>\n",
       "    </tr>\n",
       "    <tr>\n",
       "      <th>&lt;TICKER&gt;</th>\n",
       "      <th>&lt;DATE&gt;</th>\n",
       "      <th></th>\n",
       "      <th></th>\n",
       "    </tr>\n",
       "  </thead>\n",
       "  <tbody>\n",
       "    <tr>\n",
       "      <th rowspan=\"5\" valign=\"top\">@Brent Crude Oil</th>\n",
       "      <th>2020-04-13</th>\n",
       "      <td>31.830</td>\n",
       "      <td>41250</td>\n",
       "    </tr>\n",
       "    <tr>\n",
       "      <th>2020-04-14</th>\n",
       "      <td>30.050</td>\n",
       "      <td>35208</td>\n",
       "    </tr>\n",
       "    <tr>\n",
       "      <th>2020-04-15</th>\n",
       "      <td>28.000</td>\n",
       "      <td>35563</td>\n",
       "    </tr>\n",
       "    <tr>\n",
       "      <th>2020-04-16</th>\n",
       "      <td>28.300</td>\n",
       "      <td>34524</td>\n",
       "    </tr>\n",
       "    <tr>\n",
       "      <th>2020-04-17</th>\n",
       "      <td>28.350</td>\n",
       "      <td>36320</td>\n",
       "    </tr>\n",
       "    <tr>\n",
       "      <th>...</th>\n",
       "      <th>...</th>\n",
       "      <td>...</td>\n",
       "      <td>...</td>\n",
       "    </tr>\n",
       "    <tr>\n",
       "      <th rowspan=\"5\" valign=\"top\">Silver</th>\n",
       "      <th>2023-01-03</th>\n",
       "      <td>23.963</td>\n",
       "      <td>0</td>\n",
       "    </tr>\n",
       "    <tr>\n",
       "      <th>2023-01-04</th>\n",
       "      <td>23.776</td>\n",
       "      <td>0</td>\n",
       "    </tr>\n",
       "    <tr>\n",
       "      <th>2023-01-05</th>\n",
       "      <td>23.228</td>\n",
       "      <td>0</td>\n",
       "    </tr>\n",
       "    <tr>\n",
       "      <th>2023-01-06</th>\n",
       "      <td>23.827</td>\n",
       "      <td>0</td>\n",
       "    </tr>\n",
       "    <tr>\n",
       "      <th>2023-01-07</th>\n",
       "      <td>23.827</td>\n",
       "      <td>0</td>\n",
       "    </tr>\n",
       "  </tbody>\n",
       "</table>\n",
       "<p>8997 rows × 2 columns</p>\n",
       "</div>"
      ],
      "text/plain": [
       "                             <CLOSE>  <VOL>\n",
       "<TICKER>         <DATE>                    \n",
       "@Brent Crude Oil 2020-04-13   31.830  41250\n",
       "                 2020-04-14   30.050  35208\n",
       "                 2020-04-15   28.000  35563\n",
       "                 2020-04-16   28.300  34524\n",
       "                 2020-04-17   28.350  36320\n",
       "...                              ...    ...\n",
       "Silver           2023-01-03   23.963      0\n",
       "                 2023-01-04   23.776      0\n",
       "                 2023-01-05   23.228      0\n",
       "                 2023-01-06   23.827      0\n",
       "                 2023-01-07   23.827      0\n",
       "\n",
       "[8997 rows x 2 columns]"
      ]
     },
     "execution_count": 9,
     "metadata": {},
     "output_type": "execute_result"
    }
   ],
   "source": [
    "concat_table = old_table.copy()\n",
    "for de in range(0,1000,20):\n",
    "    new_table = get_new_table(delta_start=-de-20,delta_end=-de)\n",
    "    concat_table = pd.concat([concat_table,new_table[~new_table.index.isin(concat_table.index)]])\n",
    "    print(-de-20,-de)\n",
    "#     break\n",
    "concat_table.sort_index(inplace=True)\n",
    "concat_table.reset_index().to_csv(\"data.csv\",index=False)\n",
    "concat_table"
   ]
  }
 ],
 "metadata": {
  "kernelspec": {
   "display_name": "Python 3",
   "language": "python",
   "name": "python3"
  },
  "language_info": {
   "codemirror_mode": {
    "name": "ipython",
    "version": 3
   },
   "file_extension": ".py",
   "mimetype": "text/x-python",
   "name": "python",
   "nbconvert_exporter": "python",
   "pygments_lexer": "ipython3",
   "version": "3.7.12"
  },
  "papermill": {
   "default_parameters": {},
   "duration": 64.557035,
   "end_time": "2023-01-07T15:15:40.707198",
   "environment_variables": {},
   "exception": null,
   "input_path": "__notebook__.ipynb",
   "output_path": "__notebook__.ipynb",
   "parameters": {},
   "start_time": "2023-01-07T15:14:36.150163",
   "version": "2.3.4"
  }
 },
 "nbformat": 4,
 "nbformat_minor": 5
}
