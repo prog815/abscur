{
  "nbformat": 4,
  "nbformat_minor": 0,
  "metadata": {
    "colab": {
      "name": "Прогноз знака абсолютного курса валют на завтра.ipynb",
      "provenance": [],
      "collapsed_sections": [],
      "toc_visible": true,
      "authorship_tag": "ABX9TyOiGk+X4OOFeKmf5HfWDjim",
      "include_colab_link": true
    },
    "kernelspec": {
      "display_name": "Python 3",
      "name": "python3"
    },
    "language_info": {
      "name": "python"
    },
    "accelerator": "GPU"
  },
  "cells": [
    {
      "cell_type": "markdown",
      "metadata": {
        "id": "view-in-github",
        "colab_type": "text"
      },
      "source": [
        "<a href=\"https://colab.research.google.com/github/prog815/abscur/blob/master/%D0%9F%D1%80%D0%BE%D0%B3%D0%BD%D0%BE%D0%B7_%D0%B7%D0%BD%D0%B0%D0%BA%D0%B0_%D0%B0%D0%B1%D1%81%D0%BE%D0%BB%D1%8E%D1%82%D0%BD%D0%BE%D0%B3%D0%BE_%D0%BA%D1%83%D1%80%D1%81%D0%B0_%D0%B2%D0%B0%D0%BB%D1%8E%D1%82_%D0%BD%D0%B0_%D0%B7%D0%B0%D0%B2%D1%82%D1%80%D0%B0.ipynb\" target=\"_parent\"><img src=\"https://colab.research.google.com/assets/colab-badge.svg\" alt=\"Open In Colab\"/></a>"
      ]
    },
    {
      "cell_type": "markdown",
      "metadata": {
        "id": "SLjvs-NZdLR-"
      },
      "source": [
        "# Подключаем библиотеки"
      ]
    },
    {
      "cell_type": "code",
      "metadata": {
        "colab": {
          "base_uri": "https://localhost:8080/"
        },
        "id": "hG4Vz7eAa9ug",
        "outputId": "4bae7f8c-0096-4fb2-d225-9d7274c70336"
      },
      "source": [
        "! pip install git+https://github.com/prog815/abscur"
      ],
      "execution_count": 1,
      "outputs": [
        {
          "output_type": "stream",
          "name": "stdout",
          "text": [
            "Collecting git+https://github.com/prog815/abscur\n",
            "  Cloning https://github.com/prog815/abscur to /tmp/pip-req-build-e5cmpc5i\n",
            "  Running command git clone -q https://github.com/prog815/abscur /tmp/pip-req-build-e5cmpc5i\n",
            "Building wheels for collected packages: abscur\n",
            "  Building wheel for abscur (setup.py) ... \u001b[?25l\u001b[?25hdone\n",
            "  Created wheel for abscur: filename=abscur-0.1.29-py3-none-any.whl size=10613 sha256=33b50dd9dd3cf4b6332e815b5340c8f6f9b52b700e5e348d7a5113c224984e7e\n",
            "  Stored in directory: /tmp/pip-ephem-wheel-cache-x3i50f_w/wheels/86/f5/5a/f7cc6c106e525a45251b8a6391d536b7342b2c354e5b28fb7c\n",
            "Successfully built abscur\n",
            "Installing collected packages: abscur\n",
            "Successfully installed abscur-0.1.29\n"
          ]
        }
      ]
    },
    {
      "cell_type": "code",
      "metadata": {
        "id": "gEYvpuixdKYr"
      },
      "source": [
        "import pandas as pd\n",
        "import matplotlib.pyplot as plt\n",
        "import seaborn as sns\n",
        "import numpy as np\n",
        "import datetime as dt\n",
        "import tensorflow as tf\n",
        "from tensorflow import keras\n",
        "from sklearn.model_selection import train_test_split\n",
        "from sklearn.metrics import classification_report,confusion_matrix\n",
        "import abscur"
      ],
      "execution_count": 2,
      "outputs": []
    },
    {
      "cell_type": "markdown",
      "metadata": {
        "id": "du_n-vm_drab"
      },
      "source": [
        "# Загрузка котировок"
      ]
    },
    {
      "cell_type": "code",
      "metadata": {
        "id": "X5qkL0EybVC8"
      },
      "source": [
        "data = abscur.get_abs_curses()"
      ],
      "execution_count": 3,
      "outputs": []
    },
    {
      "cell_type": "code",
      "metadata": {
        "colab": {
          "base_uri": "https://localhost:8080/"
        },
        "id": "nPZJh_r1bdcb",
        "outputId": "36ce368a-f588-41d4-9158-6ad193c3dc67"
      },
      "source": [
        "data.shape"
      ],
      "execution_count": 4,
      "outputs": [
        {
          "output_type": "execute_result",
          "data": {
            "text/plain": [
              "(1000, 45)"
            ]
          },
          "metadata": {},
          "execution_count": 4
        }
      ]
    },
    {
      "cell_type": "code",
      "metadata": {
        "id": "xKOGe2soGAfr"
      },
      "source": [
        "d_data = data.pct_change()"
      ],
      "execution_count": 5,
      "outputs": []
    },
    {
      "cell_type": "markdown",
      "metadata": {
        "id": "bx8r7PB4oKCn"
      },
      "source": [
        "# Подготовка данных"
      ]
    },
    {
      "cell_type": "markdown",
      "metadata": {
        "id": "Jd5XE-1YVs1L"
      },
      "source": [
        "## Выход"
      ]
    },
    {
      "cell_type": "code",
      "metadata": {
        "id": "kUJISrxGUyO5",
        "colab": {
          "base_uri": "https://localhost:8080/"
        },
        "outputId": "bbcc0dc3-03ef-4f48-d182-75cb8dca8f09"
      },
      "source": [
        "# outDataHigh = (all_data['High'] / all_data['Close'].shift(1)).values\n",
        "# outDataLow = (all_data['Low'] / all_data['Close'].shift(1)).values\n",
        "output = np.array((d_data > 0) * 1)\n",
        "output.shape"
      ],
      "execution_count": 6,
      "outputs": [
        {
          "output_type": "execute_result",
          "data": {
            "text/plain": [
              "(1000, 45)"
            ]
          },
          "metadata": {},
          "execution_count": 6
        }
      ]
    },
    {
      "cell_type": "markdown",
      "metadata": {
        "id": "BmLT3n9E6gmE"
      },
      "source": [
        "## Первый вход - окно (без сдвига)"
      ]
    },
    {
      "cell_type": "code",
      "metadata": {
        "colab": {
          "base_uri": "https://localhost:8080/"
        },
        "id": "iW9X8lyNmUML",
        "outputId": "b0159de9-7bdd-40e2-e105-8da4b0dd6500"
      },
      "source": [
        "WINDOW = 10\n",
        "# d = pd.DataFrame(inpData1)\n",
        "# inpData1 = np.hstack([d.shift(n).values for n in range(WINDOW)])\n",
        "# inpData1.shape\n",
        "inpData1 = np.ones((d_data.shape[0],WINDOW,d_data.shape[-1]))\n",
        "d = d_data.copy()\n",
        "for n in range(WINDOW):\n",
        "    inpData1[:,n,:] = d.shift(n).values\n",
        "inpData1.shape"
      ],
      "execution_count": 7,
      "outputs": [
        {
          "output_type": "execute_result",
          "data": {
            "text/plain": [
              "(1000, 10, 45)"
            ]
          },
          "metadata": {},
          "execution_count": 7
        }
      ]
    },
    {
      "cell_type": "markdown",
      "metadata": {
        "id": "mwGdPI7oiOPb"
      },
      "source": [
        "## Второй вход - даты (без сдвига)"
      ]
    },
    {
      "cell_type": "code",
      "metadata": {
        "colab": {
          "base_uri": "https://localhost:8080/"
        },
        "id": "7NksDJ_WoTd8",
        "outputId": "0833997e-0598-413f-d460-a0a9e8662c01"
      },
      "source": [
        "days = d_data.index.day.values\n",
        "weekdays = d_data.index.weekday.values\n",
        "months = d_data.index.month.values\n",
        "x2sc = lambda x,per: np.transpose([np.sin(x/per*2*np.pi),np.cos(x/per*2*np.pi)])\n",
        "inpData2 = np.hstack([x2sc(days,31),x2sc(weekdays,7),x2sc(months,12)])\n",
        "inpData2.shape"
      ],
      "execution_count": 8,
      "outputs": [
        {
          "output_type": "execute_result",
          "data": {
            "text/plain": [
              "(1000, 6)"
            ]
          },
          "metadata": {},
          "execution_count": 8
        }
      ]
    },
    {
      "cell_type": "markdown",
      "metadata": {
        "id": "NxjLc-k6iaFZ"
      },
      "source": [
        "## Разделяем обучение и расчет (появляется сдвиг)"
      ]
    },
    {
      "cell_type": "code",
      "metadata": {
        "id": "iEPTGpMkqO00",
        "colab": {
          "base_uri": "https://localhost:8080/"
        },
        "outputId": "0b44c1d5-798b-4e39-9896-31d626718508"
      },
      "source": [
        "inpData1Calc = inpData1[-1,...]\n",
        "\n",
        "inpData1Learn = inpData1.copy()\n",
        "inpData1Learn[1:,...] = inpData1Learn[:-1,...]\n",
        "\n",
        "inpData2Calc = inpData2[-1,...]\n",
        "\n",
        "inpData2Learn = inpData2.copy()\n",
        "inpData2Learn[1:,...] = inpData2Learn[:-1,...]\n",
        "\n",
        "[v.shape for v in (inpData1Learn,inpData2Learn,inpData1Calc,inpData2Calc,output)]"
      ],
      "execution_count": 14,
      "outputs": [
        {
          "output_type": "execute_result",
          "data": {
            "text/plain": [
              "[(1000, 10, 45), (1000, 6), (10, 45), (6,), (1000, 45)]"
            ]
          },
          "metadata": {},
          "execution_count": 14
        }
      ]
    },
    {
      "cell_type": "markdown",
      "metadata": {
        "id": "WnMdkJlosDwg"
      },
      "source": [
        "## Чистим пустоты на обучении"
      ]
    },
    {
      "cell_type": "code",
      "metadata": {
        "colab": {
          "base_uri": "https://localhost:8080/"
        },
        "id": "VO6a1MzIsOLi",
        "outputId": "ea0add2c-c04e-4015-b649-3a9da7a9cf93"
      },
      "source": [
        "index = (~np.isnan(np.sum(inpData1Learn,axis=(1,2)))) & (~np.isnan(np.sum(inpData2Learn,axis=1))) & (~np.isnan(np.sum(output,axis=1)))\n",
        "np.unique(index,return_counts=True)"
      ],
      "execution_count": 15,
      "outputs": [
        {
          "output_type": "execute_result",
          "data": {
            "text/plain": [
              "(array([False,  True]), array([ 11, 989]))"
            ]
          },
          "metadata": {},
          "execution_count": 15
        }
      ]
    },
    {
      "cell_type": "code",
      "metadata": {
        "id": "aSeuEYgv_wH8"
      },
      "source": [
        "inpData1Learn = inpData1Learn[index,:]\n",
        "inpData2Learn = inpData2Learn[index,:]\n",
        "output = output[index,:]\n",
        "learnDates = d_data.index.values[index]"
      ],
      "execution_count": 16,
      "outputs": []
    },
    {
      "cell_type": "code",
      "metadata": {
        "colab": {
          "base_uri": "https://localhost:8080/"
        },
        "id": "I3a3aj9xCXWU",
        "outputId": "b5344086-6103-4193-f8d3-f1734215975c"
      },
      "source": [
        "print('inpData1Learn size',inpData1Learn.shape)\n",
        "print('inpData2Learn size',inpData2Learn.shape)\n",
        "print('output size',output.shape)\n",
        "print('Learn dates from',learnDates[0],'to',learnDates[-1])"
      ],
      "execution_count": 17,
      "outputs": [
        {
          "output_type": "stream",
          "name": "stdout",
          "text": [
            "inpData1Learn size (989, 10, 45)\n",
            "inpData2Learn size (989, 6)\n",
            "output size (989, 45)\n",
            "Learn dates from 2017-11-21T00:00:00.000000000 to 2021-09-03T00:00:00.000000000\n"
          ]
        }
      ]
    },
    {
      "cell_type": "markdown",
      "metadata": {
        "id": "_yXfZ4fO659U"
      },
      "source": [
        "## Разделение на обучение и тест"
      ]
    },
    {
      "cell_type": "code",
      "metadata": {
        "id": "H9QxniBpBUzc"
      },
      "source": [
        "X1_train, X1_test, X2_train, X2_test, y_train, y_test, d_train, d_test = train_test_split(inpData1Learn,inpData2Learn,output,learnDates,test_size=0.33,shuffle=False)"
      ],
      "execution_count": 18,
      "outputs": []
    },
    {
      "cell_type": "markdown",
      "metadata": {
        "id": "SM6Xcny16_w_"
      },
      "source": [
        "## Нормировка данных (слой нормировки первого входа)"
      ]
    },
    {
      "cell_type": "code",
      "metadata": {
        "id": "wGpqzA5Wecjc"
      },
      "source": [
        "normLayer = keras.layers.experimental.preprocessing.Normalization(axis=-1)\n",
        "normLayer.adapt(X1_train)"
      ],
      "execution_count": 19,
      "outputs": []
    },
    {
      "cell_type": "markdown",
      "metadata": {
        "id": "mcfzljWWqq51"
      },
      "source": [
        "# Модель"
      ]
    },
    {
      "cell_type": "markdown",
      "metadata": {
        "id": "1o5mf7gMqwPI"
      },
      "source": [
        "## Функция создания"
      ]
    },
    {
      "cell_type": "code",
      "metadata": {
        "id": "SCXh490hpSkb",
        "colab": {
          "base_uri": "https://localhost:8080/"
        },
        "outputId": "eb03e9b2-f4e7-4860-c241-75a95affbf27"
      },
      "source": [
        "def build_model(hp=None):\n",
        "    input1 = keras.layers.Input(shape=X1_train.shape[1:])\n",
        "    x1 = normLayer(input1)\n",
        "\n",
        "    if hp is None:\n",
        "        units = 30\n",
        "        kernel = 3\n",
        "    else:\n",
        "        units = hp.Choice('units',range(10,100))\n",
        "        kernel = hp.Choice('kernel',range(2,5+1))\n",
        "\n",
        "    x1 = keras.layers.Conv1D(units,\n",
        "                             kernel,\n",
        "                             padding='same',\n",
        "                             activation='relu')(x1)\n",
        "\n",
        "    x1 = keras.layers.Flatten()(x1)\n",
        "\n",
        "    input2 = keras.layers.Input(shape=(X2_train.shape[1],))\n",
        "\n",
        "    x = keras.layers.Concatenate()([x1,input2])\n",
        "\n",
        "    output = keras.layers.Dense(1)(x)\n",
        "\n",
        "    model = keras.Model((input1,input2),output)\n",
        "    model.compile(optimizer=tf.optimizers.Adam(),\n",
        "                loss=tf.losses.BinaryCrossentropy(from_logits=True),\n",
        "                metrics=['accuracy'])\n",
        "    # model.summary()\n",
        "    return model\n",
        "\n",
        "build_model()"
      ],
      "execution_count": 39,
      "outputs": [
        {
          "output_type": "execute_result",
          "data": {
            "text/plain": [
              "<keras.engine.functional.Functional at 0x7f0aa88a9410>"
            ]
          },
          "metadata": {},
          "execution_count": 39
        }
      ]
    },
    {
      "cell_type": "markdown",
      "metadata": {
        "id": "L8GBAwOhXC-r"
      },
      "source": [
        "взяли изначально жесткие параметры"
      ]
    },
    {
      "cell_type": "markdown",
      "metadata": {
        "id": "puHag6EOv4J0"
      },
      "source": [
        "## Обучение"
      ]
    },
    {
      "cell_type": "code",
      "metadata": {
        "colab": {
          "base_uri": "https://localhost:8080/"
        },
        "id": "ARHSAQiqtM1O",
        "outputId": "f84bebe5-7522-41e3-efb0-bee6b568e67a"
      },
      "source": [
        "pn = 'RandomSearch'\n",
        "dir = '/tmp/tboard_logs/' + pn\n",
        "\n",
        "\n",
        "res = []\n",
        "\n",
        "for n in range(y_train.shape[1]):\n",
        "\n",
        "    cb = [tf.keras.callbacks.EarlyStopping(monitor='val_accuracy',mode='max',patience=100,restore_best_weights=True,verbose=False),\n",
        "        tf.keras.callbacks.ReduceLROnPlateau(monitor='val_accuracy',mode='max',patience=50,verbose=False)]\n",
        "\n",
        "    model = build_model()\n",
        "\n",
        "    model.fit((X1_train,X2_train),y_train[:,n],\n",
        "            epochs=1000,\n",
        "            validation_split=0.3,\n",
        "            verbose=False,\n",
        "            callbacks = cb)\n",
        "    \n",
        "    train_kach = model.evaluate([X1_train,X2_train],y_train[:,n],verbose=0)[1]\n",
        "    test_kach = model.evaluate([X1_test,X2_test],y_test[:,n],verbose=0)[1]\n",
        "\n",
        "    r = {'name':data.columns[n],'train_kach':train_kach,'test_kach':test_kach,'model':model}\n",
        "\n",
        "    res.append(r)\n",
        "\n",
        "    print(r)\n",
        "\n",
        "    # break"
      ],
      "execution_count": 42,
      "outputs": [
        {
          "output_type": "stream",
          "name": "stdout",
          "text": [
            "{'name': 'AUD', 'train_kach': 0.6782477498054504, 'test_kach': 0.5290519595146179, 'model': <keras.engine.functional.Functional object at 0x7f0a4b2d8890>}\n",
            "{'name': 'CAD', 'train_kach': 0.8670694828033447, 'test_kach': 0.5443425178527832, 'model': <keras.engine.functional.Functional object at 0x7f0a4b075690>}\n",
            "{'name': 'HKD', 'train_kach': 0.596676766872406, 'test_kach': 0.5443425178527832, 'model': <keras.engine.functional.Functional object at 0x7f0a4af105d0>}\n",
            "{'name': 'JPY', 'train_kach': 0.8323262929916382, 'test_kach': 0.5137614607810974, 'model': <keras.engine.functional.Functional object at 0x7f0a4af4ab90>}\n",
            "{'name': 'SEK', 'train_kach': 0.8746223449707031, 'test_kach': 0.5137614607810974, 'model': <keras.engine.functional.Functional object at 0x7f0aa8ac3690>}\n",
            "{'name': 'USD', 'train_kach': 0.5543806552886963, 'test_kach': 0.5229358077049255, 'model': <keras.engine.functional.Functional object at 0x7f0aa9336f50>}\n",
            "{'name': 'CHF', 'train_kach': 0.5241692066192627, 'test_kach': 0.483180433511734, 'model': <keras.engine.functional.Functional object at 0x7f0aa86a37d0>}\n",
            "{'name': 'EUR', 'train_kach': 0.7009063363075256, 'test_kach': 0.4862385392189026, 'model': <keras.engine.functional.Functional object at 0x7f0aa8a22e50>}\n",
            "{'name': 'CNY', 'train_kach': 0.7794561982154846, 'test_kach': 0.5076452493667603, 'model': <keras.engine.functional.Functional object at 0x7f0aa85c7f90>}\n",
            "{'name': 'CZK', 'train_kach': 0.842900276184082, 'test_kach': 0.5259938836097717, 'model': <keras.engine.functional.Functional object at 0x7f0a47cd1b90>}\n",
            "{'name': 'GBP', 'train_kach': 0.8383685946464539, 'test_kach': 0.4862385392189026, 'model': <keras.engine.functional.Functional object at 0x7f0a47b03410>}\n",
            "{'name': 'ILS', 'train_kach': 0.5528700947761536, 'test_kach': 0.4954128563404083, 'model': <keras.engine.functional.Functional object at 0x7f0a47937f90>}\n",
            "{'name': 'NOK', 'train_kach': 0.6540785431861877, 'test_kach': 0.4954128563404083, 'model': <keras.engine.functional.Functional object at 0x7f0a4775df50>}\n",
            "{'name': 'NZD', 'train_kach': 0.5468277931213379, 'test_kach': 0.49235475063323975, 'model': <keras.engine.functional.Functional object at 0x7f0a476697d0>}\n",
            "{'name': 'RUB', 'train_kach': 0.5392749309539795, 'test_kach': 0.4709480106830597, 'model': <keras.engine.functional.Functional object at 0x7f0a3dad6b10>}\n",
            "{'name': 'SGD', 'train_kach': 0.8640483617782593, 'test_kach': 0.538226306438446, 'model': <keras.engine.functional.Functional object at 0x7f0a3d97b450>}\n",
            "{'name': 'ZAR', 'train_kach': 0.6797583103179932, 'test_kach': 0.5045871734619141, 'model': <keras.engine.functional.Functional object at 0x7f0aa84950d0>}\n",
            "{'name': 'AED', 'train_kach': 0.8323262929916382, 'test_kach': 0.5535168051719666, 'model': <keras.engine.functional.Functional object at 0x7f0a3d95eed0>}\n",
            "{'name': 'ARS', 'train_kach': 0.5891238451004028, 'test_kach': 0.6605504751205444, 'model': <keras.engine.functional.Functional object at 0x7f0a3d7ad090>}\n",
            "{'name': 'BRL', 'train_kach': 0.6480362415313721, 'test_kach': 0.4709480106830597, 'model': <keras.engine.functional.Functional object at 0x7f0a3d5894d0>}\n",
            "{'name': 'CLP', 'train_kach': 0.5876132845878601, 'test_kach': 0.49235475063323975, 'model': <keras.engine.functional.Functional object at 0x7f0a3d3cf110>}\n",
            "{'name': 'COP', 'train_kach': 0.8731117844581604, 'test_kach': 0.4954128563404083, 'model': <keras.engine.functional.Functional object at 0x7f0a3d407290>}\n",
            "{'name': 'DKK', 'train_kach': 0.7522658705711365, 'test_kach': 0.47706422209739685, 'model': <keras.engine.functional.Functional object at 0x7f0a3d059e50>}\n",
            "{'name': 'EGP', 'train_kach': 0.5634441375732422, 'test_kach': 0.5076452493667603, 'model': <keras.engine.functional.Functional object at 0x7f0a3cec8610>}\n",
            "{'name': 'HUF', 'train_kach': 0.7190332412719727, 'test_kach': 0.4954128563404083, 'model': <keras.engine.functional.Functional object at 0x7f0a2ad1fd90>}\n",
            "{'name': 'IDR', 'train_kach': 0.6586102843284607, 'test_kach': 0.5045871734619141, 'model': <keras.engine.functional.Functional object at 0x7f0a2cb7bf50>}\n",
            "{'name': 'INR', 'train_kach': 0.8685800433158875, 'test_kach': 0.5107033848762512, 'model': <keras.engine.functional.Functional object at 0x7f0a2c9ba690>}\n",
            "{'name': 'ISK', 'train_kach': 0.8670694828033447, 'test_kach': 0.5076452493667603, 'model': <keras.engine.functional.Functional object at 0x7f0a2c85d3d0>}\n",
            "{'name': 'KRW', 'train_kach': 0.6268882155418396, 'test_kach': 0.5290519595146179, 'model': <keras.engine.functional.Functional object at 0x7f0a2c675f10>}\n",
            "{'name': 'KWD', 'train_kach': 0.5377643704414368, 'test_kach': 0.5015290379524231, 'model': <keras.engine.functional.Functional object at 0x7f0a2ac3f1d0>}\n",
            "{'name': 'KZT', 'train_kach': 0.8625377416610718, 'test_kach': 0.5657492280006409, 'model': <keras.engine.functional.Functional object at 0x7f0a47d293d0>}\n",
            "{'name': 'MXN', 'train_kach': 0.7447130084037781, 'test_kach': 0.483180433511734, 'model': <keras.engine.functional.Functional object at 0x7f0a3d90edd0>}\n",
            "{'name': 'MYR', 'train_kach': 0.6238670945167542, 'test_kach': 0.5412843823432922, 'model': <keras.engine.functional.Functional object at 0x7f0a2ab17bd0>}\n",
            "{'name': 'PEN', 'train_kach': 0.708459198474884, 'test_kach': 0.571865439414978, 'model': <keras.engine.functional.Functional object at 0x7f0a2a99bed0>}\n",
            "{'name': 'PHP', 'train_kach': 0.8232628107070923, 'test_kach': 0.5168195962905884, 'model': <keras.engine.functional.Functional object at 0x7f0a2a7d6a10>}\n",
            "{'name': 'PKR', 'train_kach': 0.8731117844581604, 'test_kach': 0.5229358077049255, 'model': <keras.engine.functional.Functional object at 0x7f0a2a5f0f10>}\n",
            "{'name': 'PLN', 'train_kach': 0.861027181148529, 'test_kach': 0.5107033848762512, 'model': <keras.engine.functional.Functional object at 0x7f0a20cb4c50>}\n",
            "{'name': 'QAR', 'train_kach': 0.8685800433158875, 'test_kach': 0.4954128563404083, 'model': <keras.engine.functional.Functional object at 0x7f0a20a15c90>}\n",
            "{'name': 'RON', 'train_kach': 0.6963745951652527, 'test_kach': 0.4954128563404083, 'model': <keras.engine.functional.Functional object at 0x7f0a208a1b50>}\n",
            "{'name': 'SAR', 'train_kach': 0.8640483617782593, 'test_kach': 0.5107033848762512, 'model': <keras.engine.functional.Functional object at 0x7f0a206fabd0>}\n",
            "{'name': 'THB', 'train_kach': 0.870090663433075, 'test_kach': 0.5902140736579895, 'model': <keras.engine.functional.Functional object at 0x7f0a20529450>}\n",
            "{'name': 'TRY', 'train_kach': 0.6993957757949829, 'test_kach': 0.4984709620475769, 'model': <keras.engine.functional.Functional object at 0x7f0a1b365090>}\n",
            "{'name': 'TWD', 'train_kach': 0.8444108963012695, 'test_kach': 0.5198776721954346, 'model': <keras.engine.functional.Functional object at 0x7f0a1b184cd0>}\n",
            "{'name': 'UAH', 'train_kach': 0.7401812672615051, 'test_kach': 0.5626911520957947, 'model': <keras.engine.functional.Functional object at 0x7f0a1b07a150>}\n",
            "{'name': 'VND', 'train_kach': 0.5574018359184265, 'test_kach': 0.5168195962905884, 'model': <keras.engine.functional.Functional object at 0x7f0a1ae24050>}\n"
          ]
        }
      ]
    },
    {
      "cell_type": "markdown",
      "metadata": {
        "id": "we611roH1Wn5"
      },
      "source": [
        "Обучили и протестировали модели для всех выходов"
      ]
    },
    {
      "cell_type": "markdown",
      "metadata": {
        "id": "2kFCtBEigLM1"
      },
      "source": [
        "## Суммарно отчет по качеству каждой модели"
      ]
    },
    {
      "cell_type": "code",
      "metadata": {
        "colab": {
          "base_uri": "https://localhost:8080/",
          "height": 700
        },
        "id": "oOYwbnInddfT",
        "outputId": "0b0d7f7b-d4df-402d-df67-12bd8932e22f"
      },
      "source": [
        "names_list = [r['name'] for r in res]\n",
        "train_kach_list = [r['train_kach'] for r in res]\n",
        "test_kach_list = [r['test_kach'] for r in res]\n",
        "\n",
        "plt.figure(figsize=(15,12))\n",
        "plt.barh(names_list,train_kach_list,label='train')\n",
        "plt.barh(names_list,test_kach_list,height=0.5,label='test')\n",
        "plt.xticks(np.linspace(0,1,11))\n",
        "plt.grid(axis='x')\n",
        "plt.legend()\n",
        "plt.show()"
      ],
      "execution_count": 60,
      "outputs": [
        {
          "output_type": "display_data",
          "data": {
            "image/png": "[encoded data removed]",
            "text/plain": [
              "<Figure size 1080x864 with 1 Axes>"
            ]
          },
          "metadata": {
            "needs_background": "light"
          }
        }
      ]
    },
    {
      "cell_type": "markdown",
      "metadata": {
        "id": "h_cD57Cq1fXj"
      },
      "source": [
        "качество на тренировочной выборке (обучение+валидация) от 53% до 85%\n",
        "\n",
        "качество на тестовой выборке 47% до 66%"
      ]
    },
    {
      "cell_type": "markdown",
      "metadata": {
        "id": "so9TL9SIgCj9"
      },
      "source": [
        "## Схема модели"
      ]
    },
    {
      "cell_type": "code",
      "metadata": {
        "colab": {
          "base_uri": "https://localhost:8080/",
          "height": 644
        },
        "id": "4tVqkmXXatsd",
        "outputId": "566563bd-91ba-4a5e-987a-1b3610a058fe"
      },
      "source": [
        "keras.utils.plot_model(model,show_shapes=True)"
      ],
      "execution_count": 61,
      "outputs": [
        {
          "output_type": "execute_result",
          "data": {
            "image/png": "[encoded data removed]",
            "text/plain": [
              "<IPython.core.display.Image object>"
            ]
          },
          "metadata": {},
          "execution_count": 61
        }
      ]
    }
  ]
}